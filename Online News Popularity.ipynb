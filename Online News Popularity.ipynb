{
  "cells": [
    {
      "cell_type": "code",
      "execution_count": 7,
      "metadata": {
        "colab": {
          "base_uri": "https://localhost:8080/"
        },
        "id": "S-9SpU3Uq_if",
        "outputId": "c9ddf8ba-8719-410c-ba12-8d4b13613056"
      },
      "outputs": [
        {
          "output_type": "stream",
          "name": "stdout",
          "text": [
            "Drive already mounted at /content/drive; to attempt to forcibly remount, call drive.mount(\"/content/drive\", force_remount=True).\n"
          ]
        }
      ],
      "source": [
        "# Mounting google drive\n",
        "from google.colab import drive\n",
        "drive.mount('/content/drive')"
      ]
    },
    {
      "cell_type": "code",
      "execution_count": 8,
      "metadata": {
        "id": "2IgNor_N0BJp"
      },
      "outputs": [],
      "source": [
        "# Importing Libraries\n",
        "from pandas.api.types import CategoricalDtype\n",
        "import pandas as pd\n",
        "import numpy as np\n",
        "\n",
        "from sklearn import model_selection\n",
        "from sklearn.tree import DecisionTreeClassifier, DecisionTreeRegressor, export_graphviz\n",
        "\n",
        "from sklearn.linear_model import LogisticRegression\n",
        "from sklearn.model_selection import cross_val_score\n",
        "from sklearn.model_selection import train_test_split\n",
        "from sklearn.model_selection import GridSearchCV\n",
        "from sklearn.metrics import accuracy_score, roc_auc_score, auc, mean_squared_error, average_precision_score, confusion_matrix, f1_score, precision_score, precision_recall_curve, recall_score\n",
        "from sklearn.metrics import roc_curve, mean_absolute_error, r2_score, classification_report, ConfusionMatrixDisplay\n",
        "from sklearn.utils import shuffle\n",
        "from sklearn.preprocessing import StandardScaler\n",
        "\n",
        "import matplotlib.pyplot as plt\n",
        "from IPython.display import Image\n",
        "import warnings  \n",
        "import graphviz \n",
        "import pydotplus\n",
        "import seaborn as sns        \n",
        "\n",
        "import xgboost as xgb\n",
        "from xgboost import XGBClassifier\n",
        "from sklearn.model_selection import KFold\n",
        "import joblib\n",
        "\n",
        "from sklearn.datasets import make_blobs\n",
        "from sklearn.model_selection import RepeatedStratifiedKFold\n",
        "from sklearn import svm\n",
        "from sklearn.svm import SVR, SVC\n",
        "from sklearn.metrics import accuracy_score\n",
        "from sklearn.neighbors import KNeighborsClassifier\n",
        "\n",
        "import seaborn as sns\n",
        "from sklearn.metrics import f1_score\n",
        "from sklearn.metrics import confusion_matrix\n",
        "\n",
        "from sklearn import metrics\n",
        "\n",
        "pd.set_option('display.max_columns', None)\n",
        "\n",
        "#Setting warning filters\n",
        "import warnings"
      ]
    },
    {
      "cell_type": "markdown",
      "metadata": {
        "id": "xA2iRUt925zy"
      },
      "source": [
        "# **Data preparation**"
      ]
    },
    {
      "cell_type": "code",
      "execution_count": 9,
      "metadata": {
        "colab": {
          "base_uri": "https://localhost:8080/",
          "height": 357
        },
        "id": "G0hEZZol0Gjc",
        "outputId": "de45fb08-5452-4518-d168-d3dfdd771007"
      },
      "outputs": [
        {
          "output_type": "execute_result",
          "data": {
            "text/plain": [
              "                                                 url   timedelta  \\\n",
              "0  http://mashable.com/2013/01/07/amazon-instant-...       731.0   \n",
              "1  http://mashable.com/2013/01/07/ap-samsung-spon...       731.0   \n",
              "2  http://mashable.com/2013/01/07/apple-40-billio...       731.0   \n",
              "3  http://mashable.com/2013/01/07/astronaut-notre...       731.0   \n",
              "4   http://mashable.com/2013/01/07/att-u-verse-apps/       731.0   \n",
              "\n",
              "    n_tokens_title   n_tokens_content   n_unique_tokens   n_non_stop_words  \\\n",
              "0             12.0              219.0          0.663594                1.0   \n",
              "1              9.0              255.0          0.604743                1.0   \n",
              "2              9.0              211.0          0.575130                1.0   \n",
              "3              9.0              531.0          0.503788                1.0   \n",
              "4             13.0             1072.0          0.415646                1.0   \n",
              "\n",
              "    n_non_stop_unique_tokens   num_hrefs   num_self_hrefs   num_imgs  \\\n",
              "0                   0.815385         4.0              2.0        1.0   \n",
              "1                   0.791946         3.0              1.0        1.0   \n",
              "2                   0.663866         3.0              1.0        1.0   \n",
              "3                   0.665635         9.0              0.0        1.0   \n",
              "4                   0.540890        19.0             19.0       20.0   \n",
              "\n",
              "    num_videos   average_token_length   num_keywords  \\\n",
              "0          0.0               4.680365            5.0   \n",
              "1          0.0               4.913725            4.0   \n",
              "2          0.0               4.393365            6.0   \n",
              "3          0.0               4.404896            7.0   \n",
              "4          0.0               4.682836            7.0   \n",
              "\n",
              "    data_channel_is_lifestyle   data_channel_is_entertainment  \\\n",
              "0                         0.0                             1.0   \n",
              "1                         0.0                             0.0   \n",
              "2                         0.0                             0.0   \n",
              "3                         0.0                             1.0   \n",
              "4                         0.0                             0.0   \n",
              "\n",
              "    data_channel_is_bus   data_channel_is_socmed   data_channel_is_tech  \\\n",
              "0                   0.0                      0.0                    0.0   \n",
              "1                   1.0                      0.0                    0.0   \n",
              "2                   1.0                      0.0                    0.0   \n",
              "3                   0.0                      0.0                    0.0   \n",
              "4                   0.0                      0.0                    1.0   \n",
              "\n",
              "    data_channel_is_world   kw_min_min   kw_max_min   kw_avg_min   kw_min_max  \\\n",
              "0                     0.0          0.0          0.0          0.0          0.0   \n",
              "1                     0.0          0.0          0.0          0.0          0.0   \n",
              "2                     0.0          0.0          0.0          0.0          0.0   \n",
              "3                     0.0          0.0          0.0          0.0          0.0   \n",
              "4                     0.0          0.0          0.0          0.0          0.0   \n",
              "\n",
              "    kw_max_max   kw_avg_max   kw_min_avg   kw_max_avg   kw_avg_avg  \\\n",
              "0          0.0          0.0          0.0          0.0          0.0   \n",
              "1          0.0          0.0          0.0          0.0          0.0   \n",
              "2          0.0          0.0          0.0          0.0          0.0   \n",
              "3          0.0          0.0          0.0          0.0          0.0   \n",
              "4          0.0          0.0          0.0          0.0          0.0   \n",
              "\n",
              "    self_reference_min_shares   self_reference_max_shares  \\\n",
              "0                       496.0                       496.0   \n",
              "1                         0.0                         0.0   \n",
              "2                       918.0                       918.0   \n",
              "3                         0.0                         0.0   \n",
              "4                       545.0                     16000.0   \n",
              "\n",
              "    self_reference_avg_sharess   weekday_is_monday   weekday_is_tuesday  \\\n",
              "0                   496.000000                 1.0                  0.0   \n",
              "1                     0.000000                 1.0                  0.0   \n",
              "2                   918.000000                 1.0                  0.0   \n",
              "3                     0.000000                 1.0                  0.0   \n",
              "4                  3151.157895                 1.0                  0.0   \n",
              "\n",
              "    weekday_is_wednesday   weekday_is_thursday   weekday_is_friday  \\\n",
              "0                    0.0                   0.0                 0.0   \n",
              "1                    0.0                   0.0                 0.0   \n",
              "2                    0.0                   0.0                 0.0   \n",
              "3                    0.0                   0.0                 0.0   \n",
              "4                    0.0                   0.0                 0.0   \n",
              "\n",
              "    weekday_is_saturday   weekday_is_sunday   is_weekend    LDA_00    LDA_01  \\\n",
              "0                   0.0                 0.0          0.0  0.500331  0.378279   \n",
              "1                   0.0                 0.0          0.0  0.799756  0.050047   \n",
              "2                   0.0                 0.0          0.0  0.217792  0.033334   \n",
              "3                   0.0                 0.0          0.0  0.028573  0.419300   \n",
              "4                   0.0                 0.0          0.0  0.028633  0.028794   \n",
              "\n",
              "     LDA_02    LDA_03    LDA_04   global_subjectivity  \\\n",
              "0  0.040005  0.041263  0.040123              0.521617   \n",
              "1  0.050096  0.050101  0.050001              0.341246   \n",
              "2  0.033351  0.033334  0.682188              0.702222   \n",
              "3  0.494651  0.028905  0.028572              0.429850   \n",
              "4  0.028575  0.028572  0.885427              0.513502   \n",
              "\n",
              "    global_sentiment_polarity   global_rate_positive_words  \\\n",
              "0                    0.092562                     0.045662   \n",
              "1                    0.148948                     0.043137   \n",
              "2                    0.323333                     0.056872   \n",
              "3                    0.100705                     0.041431   \n",
              "4                    0.281003                     0.074627   \n",
              "\n",
              "    global_rate_negative_words   rate_positive_words   rate_negative_words  \\\n",
              "0                     0.013699              0.769231              0.230769   \n",
              "1                     0.015686              0.733333              0.266667   \n",
              "2                     0.009479              0.857143              0.142857   \n",
              "3                     0.020716              0.666667              0.333333   \n",
              "4                     0.012127              0.860215              0.139785   \n",
              "\n",
              "    avg_positive_polarity   min_positive_polarity   max_positive_polarity  \\\n",
              "0                0.378636                0.100000                     0.7   \n",
              "1                0.286915                0.033333                     0.7   \n",
              "2                0.495833                0.100000                     1.0   \n",
              "3                0.385965                0.136364                     0.8   \n",
              "4                0.411127                0.033333                     1.0   \n",
              "\n",
              "    avg_negative_polarity   min_negative_polarity   max_negative_polarity  \\\n",
              "0               -0.350000                  -0.600               -0.200000   \n",
              "1               -0.118750                  -0.125               -0.100000   \n",
              "2               -0.466667                  -0.800               -0.133333   \n",
              "3               -0.369697                  -0.600               -0.166667   \n",
              "4               -0.220192                  -0.500               -0.050000   \n",
              "\n",
              "    title_subjectivity   title_sentiment_polarity   abs_title_subjectivity  \\\n",
              "0             0.500000                  -0.187500                 0.000000   \n",
              "1             0.000000                   0.000000                 0.500000   \n",
              "2             0.000000                   0.000000                 0.500000   \n",
              "3             0.000000                   0.000000                 0.500000   \n",
              "4             0.454545                   0.136364                 0.045455   \n",
              "\n",
              "    abs_title_sentiment_polarity   shares  \n",
              "0                       0.187500      593  \n",
              "1                       0.000000      711  \n",
              "2                       0.000000     1500  \n",
              "3                       0.000000     1200  \n",
              "4                       0.136364      505  "
            ],
            "text/html": [
              "\n",
              "  <div id=\"df-c99ab2a8-7f12-47bb-a77b-62e13a3ef9b7\">\n",
              "    <div class=\"colab-df-container\">\n",
              "      <div>\n",
              "<style scoped>\n",
              "    .dataframe tbody tr th:only-of-type {\n",
              "        vertical-align: middle;\n",
              "    }\n",
              "\n",
              "    .dataframe tbody tr th {\n",
              "        vertical-align: top;\n",
              "    }\n",
              "\n",
              "    .dataframe thead th {\n",
              "        text-align: right;\n",
              "    }\n",
              "</style>\n",
              "<table border=\"1\" class=\"dataframe\">\n",
              "  <thead>\n",
              "    <tr style=\"text-align: right;\">\n",
              "      <th></th>\n",
              "      <th>url</th>\n",
              "      <th>timedelta</th>\n",
              "      <th>n_tokens_title</th>\n",
              "      <th>n_tokens_content</th>\n",
              "      <th>n_unique_tokens</th>\n",
              "      <th>n_non_stop_words</th>\n",
              "      <th>n_non_stop_unique_tokens</th>\n",
              "      <th>num_hrefs</th>\n",
              "      <th>num_self_hrefs</th>\n",
              "      <th>num_imgs</th>\n",
              "      <th>num_videos</th>\n",
              "      <th>average_token_length</th>\n",
              "      <th>num_keywords</th>\n",
              "      <th>data_channel_is_lifestyle</th>\n",
              "      <th>data_channel_is_entertainment</th>\n",
              "      <th>data_channel_is_bus</th>\n",
              "      <th>data_channel_is_socmed</th>\n",
              "      <th>data_channel_is_tech</th>\n",
              "      <th>data_channel_is_world</th>\n",
              "      <th>kw_min_min</th>\n",
              "      <th>kw_max_min</th>\n",
              "      <th>kw_avg_min</th>\n",
              "      <th>kw_min_max</th>\n",
              "      <th>kw_max_max</th>\n",
              "      <th>kw_avg_max</th>\n",
              "      <th>kw_min_avg</th>\n",
              "      <th>kw_max_avg</th>\n",
              "      <th>kw_avg_avg</th>\n",
              "      <th>self_reference_min_shares</th>\n",
              "      <th>self_reference_max_shares</th>\n",
              "      <th>self_reference_avg_sharess</th>\n",
              "      <th>weekday_is_monday</th>\n",
              "      <th>weekday_is_tuesday</th>\n",
              "      <th>weekday_is_wednesday</th>\n",
              "      <th>weekday_is_thursday</th>\n",
              "      <th>weekday_is_friday</th>\n",
              "      <th>weekday_is_saturday</th>\n",
              "      <th>weekday_is_sunday</th>\n",
              "      <th>is_weekend</th>\n",
              "      <th>LDA_00</th>\n",
              "      <th>LDA_01</th>\n",
              "      <th>LDA_02</th>\n",
              "      <th>LDA_03</th>\n",
              "      <th>LDA_04</th>\n",
              "      <th>global_subjectivity</th>\n",
              "      <th>global_sentiment_polarity</th>\n",
              "      <th>global_rate_positive_words</th>\n",
              "      <th>global_rate_negative_words</th>\n",
              "      <th>rate_positive_words</th>\n",
              "      <th>rate_negative_words</th>\n",
              "      <th>avg_positive_polarity</th>\n",
              "      <th>min_positive_polarity</th>\n",
              "      <th>max_positive_polarity</th>\n",
              "      <th>avg_negative_polarity</th>\n",
              "      <th>min_negative_polarity</th>\n",
              "      <th>max_negative_polarity</th>\n",
              "      <th>title_subjectivity</th>\n",
              "      <th>title_sentiment_polarity</th>\n",
              "      <th>abs_title_subjectivity</th>\n",
              "      <th>abs_title_sentiment_polarity</th>\n",
              "      <th>shares</th>\n",
              "    </tr>\n",
              "  </thead>\n",
              "  <tbody>\n",
              "    <tr>\n",
              "      <th>0</th>\n",
              "      <td>http://mashable.com/2013/01/07/amazon-instant-...</td>\n",
              "      <td>731.0</td>\n",
              "      <td>12.0</td>\n",
              "      <td>219.0</td>\n",
              "      <td>0.663594</td>\n",
              "      <td>1.0</td>\n",
              "      <td>0.815385</td>\n",
              "      <td>4.0</td>\n",
              "      <td>2.0</td>\n",
              "      <td>1.0</td>\n",
              "      <td>0.0</td>\n",
              "      <td>4.680365</td>\n",
              "      <td>5.0</td>\n",
              "      <td>0.0</td>\n",
              "      <td>1.0</td>\n",
              "      <td>0.0</td>\n",
              "      <td>0.0</td>\n",
              "      <td>0.0</td>\n",
              "      <td>0.0</td>\n",
              "      <td>0.0</td>\n",
              "      <td>0.0</td>\n",
              "      <td>0.0</td>\n",
              "      <td>0.0</td>\n",
              "      <td>0.0</td>\n",
              "      <td>0.0</td>\n",
              "      <td>0.0</td>\n",
              "      <td>0.0</td>\n",
              "      <td>0.0</td>\n",
              "      <td>496.0</td>\n",
              "      <td>496.0</td>\n",
              "      <td>496.000000</td>\n",
              "      <td>1.0</td>\n",
              "      <td>0.0</td>\n",
              "      <td>0.0</td>\n",
              "      <td>0.0</td>\n",
              "      <td>0.0</td>\n",
              "      <td>0.0</td>\n",
              "      <td>0.0</td>\n",
              "      <td>0.0</td>\n",
              "      <td>0.500331</td>\n",
              "      <td>0.378279</td>\n",
              "      <td>0.040005</td>\n",
              "      <td>0.041263</td>\n",
              "      <td>0.040123</td>\n",
              "      <td>0.521617</td>\n",
              "      <td>0.092562</td>\n",
              "      <td>0.045662</td>\n",
              "      <td>0.013699</td>\n",
              "      <td>0.769231</td>\n",
              "      <td>0.230769</td>\n",
              "      <td>0.378636</td>\n",
              "      <td>0.100000</td>\n",
              "      <td>0.7</td>\n",
              "      <td>-0.350000</td>\n",
              "      <td>-0.600</td>\n",
              "      <td>-0.200000</td>\n",
              "      <td>0.500000</td>\n",
              "      <td>-0.187500</td>\n",
              "      <td>0.000000</td>\n",
              "      <td>0.187500</td>\n",
              "      <td>593</td>\n",
              "    </tr>\n",
              "    <tr>\n",
              "      <th>1</th>\n",
              "      <td>http://mashable.com/2013/01/07/ap-samsung-spon...</td>\n",
              "      <td>731.0</td>\n",
              "      <td>9.0</td>\n",
              "      <td>255.0</td>\n",
              "      <td>0.604743</td>\n",
              "      <td>1.0</td>\n",
              "      <td>0.791946</td>\n",
              "      <td>3.0</td>\n",
              "      <td>1.0</td>\n",
              "      <td>1.0</td>\n",
              "      <td>0.0</td>\n",
              "      <td>4.913725</td>\n",
              "      <td>4.0</td>\n",
              "      <td>0.0</td>\n",
              "      <td>0.0</td>\n",
              "      <td>1.0</td>\n",
              "      <td>0.0</td>\n",
              "      <td>0.0</td>\n",
              "      <td>0.0</td>\n",
              "      <td>0.0</td>\n",
              "      <td>0.0</td>\n",
              "      <td>0.0</td>\n",
              "      <td>0.0</td>\n",
              "      <td>0.0</td>\n",
              "      <td>0.0</td>\n",
              "      <td>0.0</td>\n",
              "      <td>0.0</td>\n",
              "      <td>0.0</td>\n",
              "      <td>0.0</td>\n",
              "      <td>0.0</td>\n",
              "      <td>0.000000</td>\n",
              "      <td>1.0</td>\n",
              "      <td>0.0</td>\n",
              "      <td>0.0</td>\n",
              "      <td>0.0</td>\n",
              "      <td>0.0</td>\n",
              "      <td>0.0</td>\n",
              "      <td>0.0</td>\n",
              "      <td>0.0</td>\n",
              "      <td>0.799756</td>\n",
              "      <td>0.050047</td>\n",
              "      <td>0.050096</td>\n",
              "      <td>0.050101</td>\n",
              "      <td>0.050001</td>\n",
              "      <td>0.341246</td>\n",
              "      <td>0.148948</td>\n",
              "      <td>0.043137</td>\n",
              "      <td>0.015686</td>\n",
              "      <td>0.733333</td>\n",
              "      <td>0.266667</td>\n",
              "      <td>0.286915</td>\n",
              "      <td>0.033333</td>\n",
              "      <td>0.7</td>\n",
              "      <td>-0.118750</td>\n",
              "      <td>-0.125</td>\n",
              "      <td>-0.100000</td>\n",
              "      <td>0.000000</td>\n",
              "      <td>0.000000</td>\n",
              "      <td>0.500000</td>\n",
              "      <td>0.000000</td>\n",
              "      <td>711</td>\n",
              "    </tr>\n",
              "    <tr>\n",
              "      <th>2</th>\n",
              "      <td>http://mashable.com/2013/01/07/apple-40-billio...</td>\n",
              "      <td>731.0</td>\n",
              "      <td>9.0</td>\n",
              "      <td>211.0</td>\n",
              "      <td>0.575130</td>\n",
              "      <td>1.0</td>\n",
              "      <td>0.663866</td>\n",
              "      <td>3.0</td>\n",
              "      <td>1.0</td>\n",
              "      <td>1.0</td>\n",
              "      <td>0.0</td>\n",
              "      <td>4.393365</td>\n",
              "      <td>6.0</td>\n",
              "      <td>0.0</td>\n",
              "      <td>0.0</td>\n",
              "      <td>1.0</td>\n",
              "      <td>0.0</td>\n",
              "      <td>0.0</td>\n",
              "      <td>0.0</td>\n",
              "      <td>0.0</td>\n",
              "      <td>0.0</td>\n",
              "      <td>0.0</td>\n",
              "      <td>0.0</td>\n",
              "      <td>0.0</td>\n",
              "      <td>0.0</td>\n",
              "      <td>0.0</td>\n",
              "      <td>0.0</td>\n",
              "      <td>0.0</td>\n",
              "      <td>918.0</td>\n",
              "      <td>918.0</td>\n",
              "      <td>918.000000</td>\n",
              "      <td>1.0</td>\n",
              "      <td>0.0</td>\n",
              "      <td>0.0</td>\n",
              "      <td>0.0</td>\n",
              "      <td>0.0</td>\n",
              "      <td>0.0</td>\n",
              "      <td>0.0</td>\n",
              "      <td>0.0</td>\n",
              "      <td>0.217792</td>\n",
              "      <td>0.033334</td>\n",
              "      <td>0.033351</td>\n",
              "      <td>0.033334</td>\n",
              "      <td>0.682188</td>\n",
              "      <td>0.702222</td>\n",
              "      <td>0.323333</td>\n",
              "      <td>0.056872</td>\n",
              "      <td>0.009479</td>\n",
              "      <td>0.857143</td>\n",
              "      <td>0.142857</td>\n",
              "      <td>0.495833</td>\n",
              "      <td>0.100000</td>\n",
              "      <td>1.0</td>\n",
              "      <td>-0.466667</td>\n",
              "      <td>-0.800</td>\n",
              "      <td>-0.133333</td>\n",
              "      <td>0.000000</td>\n",
              "      <td>0.000000</td>\n",
              "      <td>0.500000</td>\n",
              "      <td>0.000000</td>\n",
              "      <td>1500</td>\n",
              "    </tr>\n",
              "    <tr>\n",
              "      <th>3</th>\n",
              "      <td>http://mashable.com/2013/01/07/astronaut-notre...</td>\n",
              "      <td>731.0</td>\n",
              "      <td>9.0</td>\n",
              "      <td>531.0</td>\n",
              "      <td>0.503788</td>\n",
              "      <td>1.0</td>\n",
              "      <td>0.665635</td>\n",
              "      <td>9.0</td>\n",
              "      <td>0.0</td>\n",
              "      <td>1.0</td>\n",
              "      <td>0.0</td>\n",
              "      <td>4.404896</td>\n",
              "      <td>7.0</td>\n",
              "      <td>0.0</td>\n",
              "      <td>1.0</td>\n",
              "      <td>0.0</td>\n",
              "      <td>0.0</td>\n",
              "      <td>0.0</td>\n",
              "      <td>0.0</td>\n",
              "      <td>0.0</td>\n",
              "      <td>0.0</td>\n",
              "      <td>0.0</td>\n",
              "      <td>0.0</td>\n",
              "      <td>0.0</td>\n",
              "      <td>0.0</td>\n",
              "      <td>0.0</td>\n",
              "      <td>0.0</td>\n",
              "      <td>0.0</td>\n",
              "      <td>0.0</td>\n",
              "      <td>0.0</td>\n",
              "      <td>0.000000</td>\n",
              "      <td>1.0</td>\n",
              "      <td>0.0</td>\n",
              "      <td>0.0</td>\n",
              "      <td>0.0</td>\n",
              "      <td>0.0</td>\n",
              "      <td>0.0</td>\n",
              "      <td>0.0</td>\n",
              "      <td>0.0</td>\n",
              "      <td>0.028573</td>\n",
              "      <td>0.419300</td>\n",
              "      <td>0.494651</td>\n",
              "      <td>0.028905</td>\n",
              "      <td>0.028572</td>\n",
              "      <td>0.429850</td>\n",
              "      <td>0.100705</td>\n",
              "      <td>0.041431</td>\n",
              "      <td>0.020716</td>\n",
              "      <td>0.666667</td>\n",
              "      <td>0.333333</td>\n",
              "      <td>0.385965</td>\n",
              "      <td>0.136364</td>\n",
              "      <td>0.8</td>\n",
              "      <td>-0.369697</td>\n",
              "      <td>-0.600</td>\n",
              "      <td>-0.166667</td>\n",
              "      <td>0.000000</td>\n",
              "      <td>0.000000</td>\n",
              "      <td>0.500000</td>\n",
              "      <td>0.000000</td>\n",
              "      <td>1200</td>\n",
              "    </tr>\n",
              "    <tr>\n",
              "      <th>4</th>\n",
              "      <td>http://mashable.com/2013/01/07/att-u-verse-apps/</td>\n",
              "      <td>731.0</td>\n",
              "      <td>13.0</td>\n",
              "      <td>1072.0</td>\n",
              "      <td>0.415646</td>\n",
              "      <td>1.0</td>\n",
              "      <td>0.540890</td>\n",
              "      <td>19.0</td>\n",
              "      <td>19.0</td>\n",
              "      <td>20.0</td>\n",
              "      <td>0.0</td>\n",
              "      <td>4.682836</td>\n",
              "      <td>7.0</td>\n",
              "      <td>0.0</td>\n",
              "      <td>0.0</td>\n",
              "      <td>0.0</td>\n",
              "      <td>0.0</td>\n",
              "      <td>1.0</td>\n",
              "      <td>0.0</td>\n",
              "      <td>0.0</td>\n",
              "      <td>0.0</td>\n",
              "      <td>0.0</td>\n",
              "      <td>0.0</td>\n",
              "      <td>0.0</td>\n",
              "      <td>0.0</td>\n",
              "      <td>0.0</td>\n",
              "      <td>0.0</td>\n",
              "      <td>0.0</td>\n",
              "      <td>545.0</td>\n",
              "      <td>16000.0</td>\n",
              "      <td>3151.157895</td>\n",
              "      <td>1.0</td>\n",
              "      <td>0.0</td>\n",
              "      <td>0.0</td>\n",
              "      <td>0.0</td>\n",
              "      <td>0.0</td>\n",
              "      <td>0.0</td>\n",
              "      <td>0.0</td>\n",
              "      <td>0.0</td>\n",
              "      <td>0.028633</td>\n",
              "      <td>0.028794</td>\n",
              "      <td>0.028575</td>\n",
              "      <td>0.028572</td>\n",
              "      <td>0.885427</td>\n",
              "      <td>0.513502</td>\n",
              "      <td>0.281003</td>\n",
              "      <td>0.074627</td>\n",
              "      <td>0.012127</td>\n",
              "      <td>0.860215</td>\n",
              "      <td>0.139785</td>\n",
              "      <td>0.411127</td>\n",
              "      <td>0.033333</td>\n",
              "      <td>1.0</td>\n",
              "      <td>-0.220192</td>\n",
              "      <td>-0.500</td>\n",
              "      <td>-0.050000</td>\n",
              "      <td>0.454545</td>\n",
              "      <td>0.136364</td>\n",
              "      <td>0.045455</td>\n",
              "      <td>0.136364</td>\n",
              "      <td>505</td>\n",
              "    </tr>\n",
              "  </tbody>\n",
              "</table>\n",
              "</div>\n",
              "      <button class=\"colab-df-convert\" onclick=\"convertToInteractive('df-c99ab2a8-7f12-47bb-a77b-62e13a3ef9b7')\"\n",
              "              title=\"Convert this dataframe to an interactive table.\"\n",
              "              style=\"display:none;\">\n",
              "        \n",
              "  <svg xmlns=\"http://www.w3.org/2000/svg\" height=\"24px\"viewBox=\"0 0 24 24\"\n",
              "       width=\"24px\">\n",
              "    <path d=\"M0 0h24v24H0V0z\" fill=\"none\"/>\n",
              "    <path d=\"M18.56 5.44l.94 2.06.94-2.06 2.06-.94-2.06-.94-.94-2.06-.94 2.06-2.06.94zm-11 1L8.5 8.5l.94-2.06 2.06-.94-2.06-.94L8.5 2.5l-.94 2.06-2.06.94zm10 10l.94 2.06.94-2.06 2.06-.94-2.06-.94-.94-2.06-.94 2.06-2.06.94z\"/><path d=\"M17.41 7.96l-1.37-1.37c-.4-.4-.92-.59-1.43-.59-.52 0-1.04.2-1.43.59L10.3 9.45l-7.72 7.72c-.78.78-.78 2.05 0 2.83L4 21.41c.39.39.9.59 1.41.59.51 0 1.02-.2 1.41-.59l7.78-7.78 2.81-2.81c.8-.78.8-2.07 0-2.86zM5.41 20L4 18.59l7.72-7.72 1.47 1.35L5.41 20z\"/>\n",
              "  </svg>\n",
              "      </button>\n",
              "      \n",
              "  <style>\n",
              "    .colab-df-container {\n",
              "      display:flex;\n",
              "      flex-wrap:wrap;\n",
              "      gap: 12px;\n",
              "    }\n",
              "\n",
              "    .colab-df-convert {\n",
              "      background-color: #E8F0FE;\n",
              "      border: none;\n",
              "      border-radius: 50%;\n",
              "      cursor: pointer;\n",
              "      display: none;\n",
              "      fill: #1967D2;\n",
              "      height: 32px;\n",
              "      padding: 0 0 0 0;\n",
              "      width: 32px;\n",
              "    }\n",
              "\n",
              "    .colab-df-convert:hover {\n",
              "      background-color: #E2EBFA;\n",
              "      box-shadow: 0px 1px 2px rgba(60, 64, 67, 0.3), 0px 1px 3px 1px rgba(60, 64, 67, 0.15);\n",
              "      fill: #174EA6;\n",
              "    }\n",
              "\n",
              "    [theme=dark] .colab-df-convert {\n",
              "      background-color: #3B4455;\n",
              "      fill: #D2E3FC;\n",
              "    }\n",
              "\n",
              "    [theme=dark] .colab-df-convert:hover {\n",
              "      background-color: #434B5C;\n",
              "      box-shadow: 0px 1px 3px 1px rgba(0, 0, 0, 0.15);\n",
              "      filter: drop-shadow(0px 1px 2px rgba(0, 0, 0, 0.3));\n",
              "      fill: #FFFFFF;\n",
              "    }\n",
              "  </style>\n",
              "\n",
              "      <script>\n",
              "        const buttonEl =\n",
              "          document.querySelector('#df-c99ab2a8-7f12-47bb-a77b-62e13a3ef9b7 button.colab-df-convert');\n",
              "        buttonEl.style.display =\n",
              "          google.colab.kernel.accessAllowed ? 'block' : 'none';\n",
              "\n",
              "        async function convertToInteractive(key) {\n",
              "          const element = document.querySelector('#df-c99ab2a8-7f12-47bb-a77b-62e13a3ef9b7');\n",
              "          const dataTable =\n",
              "            await google.colab.kernel.invokeFunction('convertToInteractive',\n",
              "                                                     [key], {});\n",
              "          if (!dataTable) return;\n",
              "\n",
              "          const docLinkHtml = 'Like what you see? Visit the ' +\n",
              "            '<a target=\"_blank\" href=https://colab.research.google.com/notebooks/data_table.ipynb>data table notebook</a>'\n",
              "            + ' to learn more about interactive tables.';\n",
              "          element.innerHTML = '';\n",
              "          dataTable['output_type'] = 'display_data';\n",
              "          await google.colab.output.renderOutput(dataTable, element);\n",
              "          const docLink = document.createElement('div');\n",
              "          docLink.innerHTML = docLinkHtml;\n",
              "          element.appendChild(docLink);\n",
              "        }\n",
              "      </script>\n",
              "    </div>\n",
              "  </div>\n",
              "  "
            ]
          },
          "metadata": {},
          "execution_count": 9
        }
      ],
      "source": [
        "df = pd.read_csv('/content/drive/MyDrive/OnlineNewsPopularity.csv')                                 \n",
        "df.head()"
      ]
    },
    {
      "cell_type": "code",
      "execution_count": 10,
      "metadata": {
        "colab": {
          "base_uri": "https://localhost:8080/",
          "height": 364
        },
        "id": "6_Mc_uE31a1a",
        "outputId": "08940045-833c-4a98-9c7a-9e224871648b"
      },
      "outputs": [
        {
          "output_type": "execute_result",
          "data": {
            "text/plain": [
              "          timedelta   n_tokens_title   n_tokens_content   n_unique_tokens  \\\n",
              "count  39644.000000     39644.000000       39644.000000      39644.000000   \n",
              "mean     354.530471        10.398749         546.514731          0.548216   \n",
              "std      214.163767         2.114037         471.107508          3.520708   \n",
              "min        8.000000         2.000000           0.000000          0.000000   \n",
              "25%      164.000000         9.000000         246.000000          0.470870   \n",
              "50%      339.000000        10.000000         409.000000          0.539226   \n",
              "75%      542.000000        12.000000         716.000000          0.608696   \n",
              "max      731.000000        23.000000        8474.000000        701.000000   \n",
              "\n",
              "        n_non_stop_words   n_non_stop_unique_tokens     num_hrefs  \\\n",
              "count       39644.000000               39644.000000  39644.000000   \n",
              "mean            0.996469                   0.689175     10.883690   \n",
              "std             5.231231                   3.264816     11.332017   \n",
              "min             0.000000                   0.000000      0.000000   \n",
              "25%             1.000000                   0.625739      4.000000   \n",
              "50%             1.000000                   0.690476      8.000000   \n",
              "75%             1.000000                   0.754630     14.000000   \n",
              "max          1042.000000                 650.000000    304.000000   \n",
              "\n",
              "        num_self_hrefs      num_imgs    num_videos   average_token_length  \\\n",
              "count     39644.000000  39644.000000  39644.000000           39644.000000   \n",
              "mean          3.293638      4.544143      1.249874               4.548239   \n",
              "std           3.855141      8.309434      4.107855               0.844406   \n",
              "min           0.000000      0.000000      0.000000               0.000000   \n",
              "25%           1.000000      1.000000      0.000000               4.478404   \n",
              "50%           3.000000      1.000000      0.000000               4.664082   \n",
              "75%           4.000000      4.000000      1.000000               4.854839   \n",
              "max         116.000000    128.000000     91.000000               8.041534   \n",
              "\n",
              "        num_keywords   data_channel_is_lifestyle  \\\n",
              "count   39644.000000                39644.000000   \n",
              "mean        7.223767                    0.052946   \n",
              "std         1.909130                    0.223929   \n",
              "min         1.000000                    0.000000   \n",
              "25%         6.000000                    0.000000   \n",
              "50%         7.000000                    0.000000   \n",
              "75%         9.000000                    0.000000   \n",
              "max        10.000000                    1.000000   \n",
              "\n",
              "        data_channel_is_entertainment   data_channel_is_bus  \\\n",
              "count                    39644.000000          39644.000000   \n",
              "mean                         0.178009              0.157855   \n",
              "std                          0.382525              0.364610   \n",
              "min                          0.000000              0.000000   \n",
              "25%                          0.000000              0.000000   \n",
              "50%                          0.000000              0.000000   \n",
              "75%                          0.000000              0.000000   \n",
              "max                          1.000000              1.000000   \n",
              "\n",
              "        data_channel_is_socmed   data_channel_is_tech   data_channel_is_world  \\\n",
              "count             39644.000000           39644.000000            39644.000000   \n",
              "mean                  0.058597               0.185299                0.212567   \n",
              "std                   0.234871               0.388545                0.409129   \n",
              "min                   0.000000               0.000000                0.000000   \n",
              "25%                   0.000000               0.000000                0.000000   \n",
              "50%                   0.000000               0.000000                0.000000   \n",
              "75%                   0.000000               0.000000                0.000000   \n",
              "max                   1.000000               1.000000                1.000000   \n",
              "\n",
              "         kw_min_min     kw_max_min    kw_avg_min     kw_min_max  \\\n",
              "count  39644.000000   39644.000000  39644.000000   39644.000000   \n",
              "mean      26.106801    1153.951682    312.366967   13612.354102   \n",
              "std       69.633215    3857.990877    620.783887   57986.029357   \n",
              "min       -1.000000       0.000000     -1.000000       0.000000   \n",
              "25%       -1.000000     445.000000    141.750000       0.000000   \n",
              "50%       -1.000000     660.000000    235.500000    1400.000000   \n",
              "75%        4.000000    1000.000000    357.000000    7900.000000   \n",
              "max      377.000000  298400.000000  42827.857143  843300.000000   \n",
              "\n",
              "          kw_max_max     kw_avg_max    kw_min_avg     kw_max_avg  \\\n",
              "count   39644.000000   39644.000000  39644.000000   39644.000000   \n",
              "mean   752324.066694  259281.938083   1117.146610    5657.211151   \n",
              "std    214502.129573  135102.247285   1137.456951    6098.871957   \n",
              "min         0.000000       0.000000     -1.000000       0.000000   \n",
              "25%    843300.000000  172846.875000      0.000000    3562.101631   \n",
              "50%    843300.000000  244572.222223   1023.635611    4355.688836   \n",
              "75%    843300.000000  330980.000000   2056.781032    6019.953968   \n",
              "max    843300.000000  843300.000000   3613.039819  298400.000000   \n",
              "\n",
              "         kw_avg_avg   self_reference_min_shares   self_reference_max_shares  \\\n",
              "count  39644.000000                39644.000000                39644.000000   \n",
              "mean    3135.858639                 3998.755396                10329.212662   \n",
              "std     1318.150397                19738.670516                41027.576613   \n",
              "min        0.000000                    0.000000                    0.000000   \n",
              "25%     2382.448566                  639.000000                 1100.000000   \n",
              "50%     2870.074878                 1200.000000                 2800.000000   \n",
              "75%     3600.229564                 2600.000000                 8000.000000   \n",
              "max    43567.659946               843300.000000               843300.000000   \n",
              "\n",
              "        self_reference_avg_sharess   weekday_is_monday   weekday_is_tuesday  \\\n",
              "count                 39644.000000        39644.000000         39644.000000   \n",
              "mean                   6401.697580            0.168020             0.186409   \n",
              "std                   24211.332231            0.373889             0.389441   \n",
              "min                       0.000000            0.000000             0.000000   \n",
              "25%                     981.187500            0.000000             0.000000   \n",
              "50%                    2200.000000            0.000000             0.000000   \n",
              "75%                    5200.000000            0.000000             0.000000   \n",
              "max                  843300.000000            1.000000             1.000000   \n",
              "\n",
              "        weekday_is_wednesday   weekday_is_thursday   weekday_is_friday  \\\n",
              "count           39644.000000          39644.000000        39644.000000   \n",
              "mean                0.187544              0.183306            0.143805   \n",
              "std                 0.390353              0.386922            0.350896   \n",
              "min                 0.000000              0.000000            0.000000   \n",
              "25%                 0.000000              0.000000            0.000000   \n",
              "50%                 0.000000              0.000000            0.000000   \n",
              "75%                 0.000000              0.000000            0.000000   \n",
              "max                 1.000000              1.000000            1.000000   \n",
              "\n",
              "        weekday_is_saturday   weekday_is_sunday    is_weekend        LDA_00  \\\n",
              "count          39644.000000        39644.000000  39644.000000  39644.000000   \n",
              "mean               0.061876            0.069039      0.130915      0.184599   \n",
              "std                0.240933            0.253524      0.337312      0.262975   \n",
              "min                0.000000            0.000000      0.000000      0.000000   \n",
              "25%                0.000000            0.000000      0.000000      0.025051   \n",
              "50%                0.000000            0.000000      0.000000      0.033387   \n",
              "75%                0.000000            0.000000      0.000000      0.240958   \n",
              "max                1.000000            1.000000      1.000000      0.926994   \n",
              "\n",
              "             LDA_01        LDA_02        LDA_03        LDA_04  \\\n",
              "count  39644.000000  39644.000000  39644.000000  39644.000000   \n",
              "mean       0.141256      0.216321      0.223770      0.234029   \n",
              "std        0.219707      0.282145      0.295191      0.289183   \n",
              "min        0.000000      0.000000      0.000000      0.000000   \n",
              "25%        0.025012      0.028571      0.028571      0.028574   \n",
              "50%        0.033345      0.040004      0.040001      0.040727   \n",
              "75%        0.150831      0.334218      0.375763      0.399986   \n",
              "max        0.925947      0.919999      0.926534      0.927191   \n",
              "\n",
              "        global_subjectivity   global_sentiment_polarity  \\\n",
              "count          39644.000000                39644.000000   \n",
              "mean               0.443370                    0.119309   \n",
              "std                0.116685                    0.096931   \n",
              "min                0.000000                   -0.393750   \n",
              "25%                0.396167                    0.057757   \n",
              "50%                0.453457                    0.119117   \n",
              "75%                0.508333                    0.177832   \n",
              "max                1.000000                    0.727841   \n",
              "\n",
              "        global_rate_positive_words   global_rate_negative_words  \\\n",
              "count                 39644.000000                 39644.000000   \n",
              "mean                      0.039625                     0.016612   \n",
              "std                       0.017429                     0.010828   \n",
              "min                       0.000000                     0.000000   \n",
              "25%                       0.028384                     0.009615   \n",
              "50%                       0.039023                     0.015337   \n",
              "75%                       0.050279                     0.021739   \n",
              "max                       0.155488                     0.184932   \n",
              "\n",
              "        rate_positive_words   rate_negative_words   avg_positive_polarity  \\\n",
              "count          39644.000000          39644.000000            39644.000000   \n",
              "mean               0.682150              0.287934                0.353825   \n",
              "std                0.190206              0.156156                0.104542   \n",
              "min                0.000000              0.000000                0.000000   \n",
              "25%                0.600000              0.185185                0.306244   \n",
              "50%                0.710526              0.280000                0.358755   \n",
              "75%                0.800000              0.384615                0.411428   \n",
              "max                1.000000              1.000000                1.000000   \n",
              "\n",
              "        min_positive_polarity   max_positive_polarity   avg_negative_polarity  \\\n",
              "count            39644.000000            39644.000000            39644.000000   \n",
              "mean                 0.095446                0.756728               -0.259524   \n",
              "std                  0.071315                0.247786                0.127726   \n",
              "min                  0.000000                0.000000               -1.000000   \n",
              "25%                  0.050000                0.600000               -0.328383   \n",
              "50%                  0.100000                0.800000               -0.253333   \n",
              "75%                  0.100000                1.000000               -0.186905   \n",
              "max                  1.000000                1.000000                0.000000   \n",
              "\n",
              "        min_negative_polarity   max_negative_polarity   title_subjectivity  \\\n",
              "count            39644.000000            39644.000000         39644.000000   \n",
              "mean                -0.521944               -0.107500             0.282353   \n",
              "std                  0.290290                0.095373             0.324247   \n",
              "min                 -1.000000               -1.000000             0.000000   \n",
              "25%                 -0.700000               -0.125000             0.000000   \n",
              "50%                 -0.500000               -0.100000             0.150000   \n",
              "75%                 -0.300000               -0.050000             0.500000   \n",
              "max                  0.000000                0.000000             1.000000   \n",
              "\n",
              "        title_sentiment_polarity   abs_title_subjectivity  \\\n",
              "count               39644.000000             39644.000000   \n",
              "mean                    0.071425                 0.341843   \n",
              "std                     0.265450                 0.188791   \n",
              "min                    -1.000000                 0.000000   \n",
              "25%                     0.000000                 0.166667   \n",
              "50%                     0.000000                 0.500000   \n",
              "75%                     0.150000                 0.500000   \n",
              "max                     1.000000                 0.500000   \n",
              "\n",
              "        abs_title_sentiment_polarity         shares  \n",
              "count                   39644.000000   39644.000000  \n",
              "mean                        0.156064    3395.380184  \n",
              "std                         0.226294   11626.950749  \n",
              "min                         0.000000       1.000000  \n",
              "25%                         0.000000     946.000000  \n",
              "50%                         0.000000    1400.000000  \n",
              "75%                         0.250000    2800.000000  \n",
              "max                         1.000000  843300.000000  "
            ],
            "text/html": [
              "\n",
              "  <div id=\"df-56fa852b-421b-4cf4-bf8f-51bd6934159f\">\n",
              "    <div class=\"colab-df-container\">\n",
              "      <div>\n",
              "<style scoped>\n",
              "    .dataframe tbody tr th:only-of-type {\n",
              "        vertical-align: middle;\n",
              "    }\n",
              "\n",
              "    .dataframe tbody tr th {\n",
              "        vertical-align: top;\n",
              "    }\n",
              "\n",
              "    .dataframe thead th {\n",
              "        text-align: right;\n",
              "    }\n",
              "</style>\n",
              "<table border=\"1\" class=\"dataframe\">\n",
              "  <thead>\n",
              "    <tr style=\"text-align: right;\">\n",
              "      <th></th>\n",
              "      <th>timedelta</th>\n",
              "      <th>n_tokens_title</th>\n",
              "      <th>n_tokens_content</th>\n",
              "      <th>n_unique_tokens</th>\n",
              "      <th>n_non_stop_words</th>\n",
              "      <th>n_non_stop_unique_tokens</th>\n",
              "      <th>num_hrefs</th>\n",
              "      <th>num_self_hrefs</th>\n",
              "      <th>num_imgs</th>\n",
              "      <th>num_videos</th>\n",
              "      <th>average_token_length</th>\n",
              "      <th>num_keywords</th>\n",
              "      <th>data_channel_is_lifestyle</th>\n",
              "      <th>data_channel_is_entertainment</th>\n",
              "      <th>data_channel_is_bus</th>\n",
              "      <th>data_channel_is_socmed</th>\n",
              "      <th>data_channel_is_tech</th>\n",
              "      <th>data_channel_is_world</th>\n",
              "      <th>kw_min_min</th>\n",
              "      <th>kw_max_min</th>\n",
              "      <th>kw_avg_min</th>\n",
              "      <th>kw_min_max</th>\n",
              "      <th>kw_max_max</th>\n",
              "      <th>kw_avg_max</th>\n",
              "      <th>kw_min_avg</th>\n",
              "      <th>kw_max_avg</th>\n",
              "      <th>kw_avg_avg</th>\n",
              "      <th>self_reference_min_shares</th>\n",
              "      <th>self_reference_max_shares</th>\n",
              "      <th>self_reference_avg_sharess</th>\n",
              "      <th>weekday_is_monday</th>\n",
              "      <th>weekday_is_tuesday</th>\n",
              "      <th>weekday_is_wednesday</th>\n",
              "      <th>weekday_is_thursday</th>\n",
              "      <th>weekday_is_friday</th>\n",
              "      <th>weekday_is_saturday</th>\n",
              "      <th>weekday_is_sunday</th>\n",
              "      <th>is_weekend</th>\n",
              "      <th>LDA_00</th>\n",
              "      <th>LDA_01</th>\n",
              "      <th>LDA_02</th>\n",
              "      <th>LDA_03</th>\n",
              "      <th>LDA_04</th>\n",
              "      <th>global_subjectivity</th>\n",
              "      <th>global_sentiment_polarity</th>\n",
              "      <th>global_rate_positive_words</th>\n",
              "      <th>global_rate_negative_words</th>\n",
              "      <th>rate_positive_words</th>\n",
              "      <th>rate_negative_words</th>\n",
              "      <th>avg_positive_polarity</th>\n",
              "      <th>min_positive_polarity</th>\n",
              "      <th>max_positive_polarity</th>\n",
              "      <th>avg_negative_polarity</th>\n",
              "      <th>min_negative_polarity</th>\n",
              "      <th>max_negative_polarity</th>\n",
              "      <th>title_subjectivity</th>\n",
              "      <th>title_sentiment_polarity</th>\n",
              "      <th>abs_title_subjectivity</th>\n",
              "      <th>abs_title_sentiment_polarity</th>\n",
              "      <th>shares</th>\n",
              "    </tr>\n",
              "  </thead>\n",
              "  <tbody>\n",
              "    <tr>\n",
              "      <th>count</th>\n",
              "      <td>39644.000000</td>\n",
              "      <td>39644.000000</td>\n",
              "      <td>39644.000000</td>\n",
              "      <td>39644.000000</td>\n",
              "      <td>39644.000000</td>\n",
              "      <td>39644.000000</td>\n",
              "      <td>39644.000000</td>\n",
              "      <td>39644.000000</td>\n",
              "      <td>39644.000000</td>\n",
              "      <td>39644.000000</td>\n",
              "      <td>39644.000000</td>\n",
              "      <td>39644.000000</td>\n",
              "      <td>39644.000000</td>\n",
              "      <td>39644.000000</td>\n",
              "      <td>39644.000000</td>\n",
              "      <td>39644.000000</td>\n",
              "      <td>39644.000000</td>\n",
              "      <td>39644.000000</td>\n",
              "      <td>39644.000000</td>\n",
              "      <td>39644.000000</td>\n",
              "      <td>39644.000000</td>\n",
              "      <td>39644.000000</td>\n",
              "      <td>39644.000000</td>\n",
              "      <td>39644.000000</td>\n",
              "      <td>39644.000000</td>\n",
              "      <td>39644.000000</td>\n",
              "      <td>39644.000000</td>\n",
              "      <td>39644.000000</td>\n",
              "      <td>39644.000000</td>\n",
              "      <td>39644.000000</td>\n",
              "      <td>39644.000000</td>\n",
              "      <td>39644.000000</td>\n",
              "      <td>39644.000000</td>\n",
              "      <td>39644.000000</td>\n",
              "      <td>39644.000000</td>\n",
              "      <td>39644.000000</td>\n",
              "      <td>39644.000000</td>\n",
              "      <td>39644.000000</td>\n",
              "      <td>39644.000000</td>\n",
              "      <td>39644.000000</td>\n",
              "      <td>39644.000000</td>\n",
              "      <td>39644.000000</td>\n",
              "      <td>39644.000000</td>\n",
              "      <td>39644.000000</td>\n",
              "      <td>39644.000000</td>\n",
              "      <td>39644.000000</td>\n",
              "      <td>39644.000000</td>\n",
              "      <td>39644.000000</td>\n",
              "      <td>39644.000000</td>\n",
              "      <td>39644.000000</td>\n",
              "      <td>39644.000000</td>\n",
              "      <td>39644.000000</td>\n",
              "      <td>39644.000000</td>\n",
              "      <td>39644.000000</td>\n",
              "      <td>39644.000000</td>\n",
              "      <td>39644.000000</td>\n",
              "      <td>39644.000000</td>\n",
              "      <td>39644.000000</td>\n",
              "      <td>39644.000000</td>\n",
              "      <td>39644.000000</td>\n",
              "    </tr>\n",
              "    <tr>\n",
              "      <th>mean</th>\n",
              "      <td>354.530471</td>\n",
              "      <td>10.398749</td>\n",
              "      <td>546.514731</td>\n",
              "      <td>0.548216</td>\n",
              "      <td>0.996469</td>\n",
              "      <td>0.689175</td>\n",
              "      <td>10.883690</td>\n",
              "      <td>3.293638</td>\n",
              "      <td>4.544143</td>\n",
              "      <td>1.249874</td>\n",
              "      <td>4.548239</td>\n",
              "      <td>7.223767</td>\n",
              "      <td>0.052946</td>\n",
              "      <td>0.178009</td>\n",
              "      <td>0.157855</td>\n",
              "      <td>0.058597</td>\n",
              "      <td>0.185299</td>\n",
              "      <td>0.212567</td>\n",
              "      <td>26.106801</td>\n",
              "      <td>1153.951682</td>\n",
              "      <td>312.366967</td>\n",
              "      <td>13612.354102</td>\n",
              "      <td>752324.066694</td>\n",
              "      <td>259281.938083</td>\n",
              "      <td>1117.146610</td>\n",
              "      <td>5657.211151</td>\n",
              "      <td>3135.858639</td>\n",
              "      <td>3998.755396</td>\n",
              "      <td>10329.212662</td>\n",
              "      <td>6401.697580</td>\n",
              "      <td>0.168020</td>\n",
              "      <td>0.186409</td>\n",
              "      <td>0.187544</td>\n",
              "      <td>0.183306</td>\n",
              "      <td>0.143805</td>\n",
              "      <td>0.061876</td>\n",
              "      <td>0.069039</td>\n",
              "      <td>0.130915</td>\n",
              "      <td>0.184599</td>\n",
              "      <td>0.141256</td>\n",
              "      <td>0.216321</td>\n",
              "      <td>0.223770</td>\n",
              "      <td>0.234029</td>\n",
              "      <td>0.443370</td>\n",
              "      <td>0.119309</td>\n",
              "      <td>0.039625</td>\n",
              "      <td>0.016612</td>\n",
              "      <td>0.682150</td>\n",
              "      <td>0.287934</td>\n",
              "      <td>0.353825</td>\n",
              "      <td>0.095446</td>\n",
              "      <td>0.756728</td>\n",
              "      <td>-0.259524</td>\n",
              "      <td>-0.521944</td>\n",
              "      <td>-0.107500</td>\n",
              "      <td>0.282353</td>\n",
              "      <td>0.071425</td>\n",
              "      <td>0.341843</td>\n",
              "      <td>0.156064</td>\n",
              "      <td>3395.380184</td>\n",
              "    </tr>\n",
              "    <tr>\n",
              "      <th>std</th>\n",
              "      <td>214.163767</td>\n",
              "      <td>2.114037</td>\n",
              "      <td>471.107508</td>\n",
              "      <td>3.520708</td>\n",
              "      <td>5.231231</td>\n",
              "      <td>3.264816</td>\n",
              "      <td>11.332017</td>\n",
              "      <td>3.855141</td>\n",
              "      <td>8.309434</td>\n",
              "      <td>4.107855</td>\n",
              "      <td>0.844406</td>\n",
              "      <td>1.909130</td>\n",
              "      <td>0.223929</td>\n",
              "      <td>0.382525</td>\n",
              "      <td>0.364610</td>\n",
              "      <td>0.234871</td>\n",
              "      <td>0.388545</td>\n",
              "      <td>0.409129</td>\n",
              "      <td>69.633215</td>\n",
              "      <td>3857.990877</td>\n",
              "      <td>620.783887</td>\n",
              "      <td>57986.029357</td>\n",
              "      <td>214502.129573</td>\n",
              "      <td>135102.247285</td>\n",
              "      <td>1137.456951</td>\n",
              "      <td>6098.871957</td>\n",
              "      <td>1318.150397</td>\n",
              "      <td>19738.670516</td>\n",
              "      <td>41027.576613</td>\n",
              "      <td>24211.332231</td>\n",
              "      <td>0.373889</td>\n",
              "      <td>0.389441</td>\n",
              "      <td>0.390353</td>\n",
              "      <td>0.386922</td>\n",
              "      <td>0.350896</td>\n",
              "      <td>0.240933</td>\n",
              "      <td>0.253524</td>\n",
              "      <td>0.337312</td>\n",
              "      <td>0.262975</td>\n",
              "      <td>0.219707</td>\n",
              "      <td>0.282145</td>\n",
              "      <td>0.295191</td>\n",
              "      <td>0.289183</td>\n",
              "      <td>0.116685</td>\n",
              "      <td>0.096931</td>\n",
              "      <td>0.017429</td>\n",
              "      <td>0.010828</td>\n",
              "      <td>0.190206</td>\n",
              "      <td>0.156156</td>\n",
              "      <td>0.104542</td>\n",
              "      <td>0.071315</td>\n",
              "      <td>0.247786</td>\n",
              "      <td>0.127726</td>\n",
              "      <td>0.290290</td>\n",
              "      <td>0.095373</td>\n",
              "      <td>0.324247</td>\n",
              "      <td>0.265450</td>\n",
              "      <td>0.188791</td>\n",
              "      <td>0.226294</td>\n",
              "      <td>11626.950749</td>\n",
              "    </tr>\n",
              "    <tr>\n",
              "      <th>min</th>\n",
              "      <td>8.000000</td>\n",
              "      <td>2.000000</td>\n",
              "      <td>0.000000</td>\n",
              "      <td>0.000000</td>\n",
              "      <td>0.000000</td>\n",
              "      <td>0.000000</td>\n",
              "      <td>0.000000</td>\n",
              "      <td>0.000000</td>\n",
              "      <td>0.000000</td>\n",
              "      <td>0.000000</td>\n",
              "      <td>0.000000</td>\n",
              "      <td>1.000000</td>\n",
              "      <td>0.000000</td>\n",
              "      <td>0.000000</td>\n",
              "      <td>0.000000</td>\n",
              "      <td>0.000000</td>\n",
              "      <td>0.000000</td>\n",
              "      <td>0.000000</td>\n",
              "      <td>-1.000000</td>\n",
              "      <td>0.000000</td>\n",
              "      <td>-1.000000</td>\n",
              "      <td>0.000000</td>\n",
              "      <td>0.000000</td>\n",
              "      <td>0.000000</td>\n",
              "      <td>-1.000000</td>\n",
              "      <td>0.000000</td>\n",
              "      <td>0.000000</td>\n",
              "      <td>0.000000</td>\n",
              "      <td>0.000000</td>\n",
              "      <td>0.000000</td>\n",
              "      <td>0.000000</td>\n",
              "      <td>0.000000</td>\n",
              "      <td>0.000000</td>\n",
              "      <td>0.000000</td>\n",
              "      <td>0.000000</td>\n",
              "      <td>0.000000</td>\n",
              "      <td>0.000000</td>\n",
              "      <td>0.000000</td>\n",
              "      <td>0.000000</td>\n",
              "      <td>0.000000</td>\n",
              "      <td>0.000000</td>\n",
              "      <td>0.000000</td>\n",
              "      <td>0.000000</td>\n",
              "      <td>0.000000</td>\n",
              "      <td>-0.393750</td>\n",
              "      <td>0.000000</td>\n",
              "      <td>0.000000</td>\n",
              "      <td>0.000000</td>\n",
              "      <td>0.000000</td>\n",
              "      <td>0.000000</td>\n",
              "      <td>0.000000</td>\n",
              "      <td>0.000000</td>\n",
              "      <td>-1.000000</td>\n",
              "      <td>-1.000000</td>\n",
              "      <td>-1.000000</td>\n",
              "      <td>0.000000</td>\n",
              "      <td>-1.000000</td>\n",
              "      <td>0.000000</td>\n",
              "      <td>0.000000</td>\n",
              "      <td>1.000000</td>\n",
              "    </tr>\n",
              "    <tr>\n",
              "      <th>25%</th>\n",
              "      <td>164.000000</td>\n",
              "      <td>9.000000</td>\n",
              "      <td>246.000000</td>\n",
              "      <td>0.470870</td>\n",
              "      <td>1.000000</td>\n",
              "      <td>0.625739</td>\n",
              "      <td>4.000000</td>\n",
              "      <td>1.000000</td>\n",
              "      <td>1.000000</td>\n",
              "      <td>0.000000</td>\n",
              "      <td>4.478404</td>\n",
              "      <td>6.000000</td>\n",
              "      <td>0.000000</td>\n",
              "      <td>0.000000</td>\n",
              "      <td>0.000000</td>\n",
              "      <td>0.000000</td>\n",
              "      <td>0.000000</td>\n",
              "      <td>0.000000</td>\n",
              "      <td>-1.000000</td>\n",
              "      <td>445.000000</td>\n",
              "      <td>141.750000</td>\n",
              "      <td>0.000000</td>\n",
              "      <td>843300.000000</td>\n",
              "      <td>172846.875000</td>\n",
              "      <td>0.000000</td>\n",
              "      <td>3562.101631</td>\n",
              "      <td>2382.448566</td>\n",
              "      <td>639.000000</td>\n",
              "      <td>1100.000000</td>\n",
              "      <td>981.187500</td>\n",
              "      <td>0.000000</td>\n",
              "      <td>0.000000</td>\n",
              "      <td>0.000000</td>\n",
              "      <td>0.000000</td>\n",
              "      <td>0.000000</td>\n",
              "      <td>0.000000</td>\n",
              "      <td>0.000000</td>\n",
              "      <td>0.000000</td>\n",
              "      <td>0.025051</td>\n",
              "      <td>0.025012</td>\n",
              "      <td>0.028571</td>\n",
              "      <td>0.028571</td>\n",
              "      <td>0.028574</td>\n",
              "      <td>0.396167</td>\n",
              "      <td>0.057757</td>\n",
              "      <td>0.028384</td>\n",
              "      <td>0.009615</td>\n",
              "      <td>0.600000</td>\n",
              "      <td>0.185185</td>\n",
              "      <td>0.306244</td>\n",
              "      <td>0.050000</td>\n",
              "      <td>0.600000</td>\n",
              "      <td>-0.328383</td>\n",
              "      <td>-0.700000</td>\n",
              "      <td>-0.125000</td>\n",
              "      <td>0.000000</td>\n",
              "      <td>0.000000</td>\n",
              "      <td>0.166667</td>\n",
              "      <td>0.000000</td>\n",
              "      <td>946.000000</td>\n",
              "    </tr>\n",
              "    <tr>\n",
              "      <th>50%</th>\n",
              "      <td>339.000000</td>\n",
              "      <td>10.000000</td>\n",
              "      <td>409.000000</td>\n",
              "      <td>0.539226</td>\n",
              "      <td>1.000000</td>\n",
              "      <td>0.690476</td>\n",
              "      <td>8.000000</td>\n",
              "      <td>3.000000</td>\n",
              "      <td>1.000000</td>\n",
              "      <td>0.000000</td>\n",
              "      <td>4.664082</td>\n",
              "      <td>7.000000</td>\n",
              "      <td>0.000000</td>\n",
              "      <td>0.000000</td>\n",
              "      <td>0.000000</td>\n",
              "      <td>0.000000</td>\n",
              "      <td>0.000000</td>\n",
              "      <td>0.000000</td>\n",
              "      <td>-1.000000</td>\n",
              "      <td>660.000000</td>\n",
              "      <td>235.500000</td>\n",
              "      <td>1400.000000</td>\n",
              "      <td>843300.000000</td>\n",
              "      <td>244572.222223</td>\n",
              "      <td>1023.635611</td>\n",
              "      <td>4355.688836</td>\n",
              "      <td>2870.074878</td>\n",
              "      <td>1200.000000</td>\n",
              "      <td>2800.000000</td>\n",
              "      <td>2200.000000</td>\n",
              "      <td>0.000000</td>\n",
              "      <td>0.000000</td>\n",
              "      <td>0.000000</td>\n",
              "      <td>0.000000</td>\n",
              "      <td>0.000000</td>\n",
              "      <td>0.000000</td>\n",
              "      <td>0.000000</td>\n",
              "      <td>0.000000</td>\n",
              "      <td>0.033387</td>\n",
              "      <td>0.033345</td>\n",
              "      <td>0.040004</td>\n",
              "      <td>0.040001</td>\n",
              "      <td>0.040727</td>\n",
              "      <td>0.453457</td>\n",
              "      <td>0.119117</td>\n",
              "      <td>0.039023</td>\n",
              "      <td>0.015337</td>\n",
              "      <td>0.710526</td>\n",
              "      <td>0.280000</td>\n",
              "      <td>0.358755</td>\n",
              "      <td>0.100000</td>\n",
              "      <td>0.800000</td>\n",
              "      <td>-0.253333</td>\n",
              "      <td>-0.500000</td>\n",
              "      <td>-0.100000</td>\n",
              "      <td>0.150000</td>\n",
              "      <td>0.000000</td>\n",
              "      <td>0.500000</td>\n",
              "      <td>0.000000</td>\n",
              "      <td>1400.000000</td>\n",
              "    </tr>\n",
              "    <tr>\n",
              "      <th>75%</th>\n",
              "      <td>542.000000</td>\n",
              "      <td>12.000000</td>\n",
              "      <td>716.000000</td>\n",
              "      <td>0.608696</td>\n",
              "      <td>1.000000</td>\n",
              "      <td>0.754630</td>\n",
              "      <td>14.000000</td>\n",
              "      <td>4.000000</td>\n",
              "      <td>4.000000</td>\n",
              "      <td>1.000000</td>\n",
              "      <td>4.854839</td>\n",
              "      <td>9.000000</td>\n",
              "      <td>0.000000</td>\n",
              "      <td>0.000000</td>\n",
              "      <td>0.000000</td>\n",
              "      <td>0.000000</td>\n",
              "      <td>0.000000</td>\n",
              "      <td>0.000000</td>\n",
              "      <td>4.000000</td>\n",
              "      <td>1000.000000</td>\n",
              "      <td>357.000000</td>\n",
              "      <td>7900.000000</td>\n",
              "      <td>843300.000000</td>\n",
              "      <td>330980.000000</td>\n",
              "      <td>2056.781032</td>\n",
              "      <td>6019.953968</td>\n",
              "      <td>3600.229564</td>\n",
              "      <td>2600.000000</td>\n",
              "      <td>8000.000000</td>\n",
              "      <td>5200.000000</td>\n",
              "      <td>0.000000</td>\n",
              "      <td>0.000000</td>\n",
              "      <td>0.000000</td>\n",
              "      <td>0.000000</td>\n",
              "      <td>0.000000</td>\n",
              "      <td>0.000000</td>\n",
              "      <td>0.000000</td>\n",
              "      <td>0.000000</td>\n",
              "      <td>0.240958</td>\n",
              "      <td>0.150831</td>\n",
              "      <td>0.334218</td>\n",
              "      <td>0.375763</td>\n",
              "      <td>0.399986</td>\n",
              "      <td>0.508333</td>\n",
              "      <td>0.177832</td>\n",
              "      <td>0.050279</td>\n",
              "      <td>0.021739</td>\n",
              "      <td>0.800000</td>\n",
              "      <td>0.384615</td>\n",
              "      <td>0.411428</td>\n",
              "      <td>0.100000</td>\n",
              "      <td>1.000000</td>\n",
              "      <td>-0.186905</td>\n",
              "      <td>-0.300000</td>\n",
              "      <td>-0.050000</td>\n",
              "      <td>0.500000</td>\n",
              "      <td>0.150000</td>\n",
              "      <td>0.500000</td>\n",
              "      <td>0.250000</td>\n",
              "      <td>2800.000000</td>\n",
              "    </tr>\n",
              "    <tr>\n",
              "      <th>max</th>\n",
              "      <td>731.000000</td>\n",
              "      <td>23.000000</td>\n",
              "      <td>8474.000000</td>\n",
              "      <td>701.000000</td>\n",
              "      <td>1042.000000</td>\n",
              "      <td>650.000000</td>\n",
              "      <td>304.000000</td>\n",
              "      <td>116.000000</td>\n",
              "      <td>128.000000</td>\n",
              "      <td>91.000000</td>\n",
              "      <td>8.041534</td>\n",
              "      <td>10.000000</td>\n",
              "      <td>1.000000</td>\n",
              "      <td>1.000000</td>\n",
              "      <td>1.000000</td>\n",
              "      <td>1.000000</td>\n",
              "      <td>1.000000</td>\n",
              "      <td>1.000000</td>\n",
              "      <td>377.000000</td>\n",
              "      <td>298400.000000</td>\n",
              "      <td>42827.857143</td>\n",
              "      <td>843300.000000</td>\n",
              "      <td>843300.000000</td>\n",
              "      <td>843300.000000</td>\n",
              "      <td>3613.039819</td>\n",
              "      <td>298400.000000</td>\n",
              "      <td>43567.659946</td>\n",
              "      <td>843300.000000</td>\n",
              "      <td>843300.000000</td>\n",
              "      <td>843300.000000</td>\n",
              "      <td>1.000000</td>\n",
              "      <td>1.000000</td>\n",
              "      <td>1.000000</td>\n",
              "      <td>1.000000</td>\n",
              "      <td>1.000000</td>\n",
              "      <td>1.000000</td>\n",
              "      <td>1.000000</td>\n",
              "      <td>1.000000</td>\n",
              "      <td>0.926994</td>\n",
              "      <td>0.925947</td>\n",
              "      <td>0.919999</td>\n",
              "      <td>0.926534</td>\n",
              "      <td>0.927191</td>\n",
              "      <td>1.000000</td>\n",
              "      <td>0.727841</td>\n",
              "      <td>0.155488</td>\n",
              "      <td>0.184932</td>\n",
              "      <td>1.000000</td>\n",
              "      <td>1.000000</td>\n",
              "      <td>1.000000</td>\n",
              "      <td>1.000000</td>\n",
              "      <td>1.000000</td>\n",
              "      <td>0.000000</td>\n",
              "      <td>0.000000</td>\n",
              "      <td>0.000000</td>\n",
              "      <td>1.000000</td>\n",
              "      <td>1.000000</td>\n",
              "      <td>0.500000</td>\n",
              "      <td>1.000000</td>\n",
              "      <td>843300.000000</td>\n",
              "    </tr>\n",
              "  </tbody>\n",
              "</table>\n",
              "</div>\n",
              "      <button class=\"colab-df-convert\" onclick=\"convertToInteractive('df-56fa852b-421b-4cf4-bf8f-51bd6934159f')\"\n",
              "              title=\"Convert this dataframe to an interactive table.\"\n",
              "              style=\"display:none;\">\n",
              "        \n",
              "  <svg xmlns=\"http://www.w3.org/2000/svg\" height=\"24px\"viewBox=\"0 0 24 24\"\n",
              "       width=\"24px\">\n",
              "    <path d=\"M0 0h24v24H0V0z\" fill=\"none\"/>\n",
              "    <path d=\"M18.56 5.44l.94 2.06.94-2.06 2.06-.94-2.06-.94-.94-2.06-.94 2.06-2.06.94zm-11 1L8.5 8.5l.94-2.06 2.06-.94-2.06-.94L8.5 2.5l-.94 2.06-2.06.94zm10 10l.94 2.06.94-2.06 2.06-.94-2.06-.94-.94-2.06-.94 2.06-2.06.94z\"/><path d=\"M17.41 7.96l-1.37-1.37c-.4-.4-.92-.59-1.43-.59-.52 0-1.04.2-1.43.59L10.3 9.45l-7.72 7.72c-.78.78-.78 2.05 0 2.83L4 21.41c.39.39.9.59 1.41.59.51 0 1.02-.2 1.41-.59l7.78-7.78 2.81-2.81c.8-.78.8-2.07 0-2.86zM5.41 20L4 18.59l7.72-7.72 1.47 1.35L5.41 20z\"/>\n",
              "  </svg>\n",
              "      </button>\n",
              "      \n",
              "  <style>\n",
              "    .colab-df-container {\n",
              "      display:flex;\n",
              "      flex-wrap:wrap;\n",
              "      gap: 12px;\n",
              "    }\n",
              "\n",
              "    .colab-df-convert {\n",
              "      background-color: #E8F0FE;\n",
              "      border: none;\n",
              "      border-radius: 50%;\n",
              "      cursor: pointer;\n",
              "      display: none;\n",
              "      fill: #1967D2;\n",
              "      height: 32px;\n",
              "      padding: 0 0 0 0;\n",
              "      width: 32px;\n",
              "    }\n",
              "\n",
              "    .colab-df-convert:hover {\n",
              "      background-color: #E2EBFA;\n",
              "      box-shadow: 0px 1px 2px rgba(60, 64, 67, 0.3), 0px 1px 3px 1px rgba(60, 64, 67, 0.15);\n",
              "      fill: #174EA6;\n",
              "    }\n",
              "\n",
              "    [theme=dark] .colab-df-convert {\n",
              "      background-color: #3B4455;\n",
              "      fill: #D2E3FC;\n",
              "    }\n",
              "\n",
              "    [theme=dark] .colab-df-convert:hover {\n",
              "      background-color: #434B5C;\n",
              "      box-shadow: 0px 1px 3px 1px rgba(0, 0, 0, 0.15);\n",
              "      filter: drop-shadow(0px 1px 2px rgba(0, 0, 0, 0.3));\n",
              "      fill: #FFFFFF;\n",
              "    }\n",
              "  </style>\n",
              "\n",
              "      <script>\n",
              "        const buttonEl =\n",
              "          document.querySelector('#df-56fa852b-421b-4cf4-bf8f-51bd6934159f button.colab-df-convert');\n",
              "        buttonEl.style.display =\n",
              "          google.colab.kernel.accessAllowed ? 'block' : 'none';\n",
              "\n",
              "        async function convertToInteractive(key) {\n",
              "          const element = document.querySelector('#df-56fa852b-421b-4cf4-bf8f-51bd6934159f');\n",
              "          const dataTable =\n",
              "            await google.colab.kernel.invokeFunction('convertToInteractive',\n",
              "                                                     [key], {});\n",
              "          if (!dataTable) return;\n",
              "\n",
              "          const docLinkHtml = 'Like what you see? Visit the ' +\n",
              "            '<a target=\"_blank\" href=https://colab.research.google.com/notebooks/data_table.ipynb>data table notebook</a>'\n",
              "            + ' to learn more about interactive tables.';\n",
              "          element.innerHTML = '';\n",
              "          dataTable['output_type'] = 'display_data';\n",
              "          await google.colab.output.renderOutput(dataTable, element);\n",
              "          const docLink = document.createElement('div');\n",
              "          docLink.innerHTML = docLinkHtml;\n",
              "          element.appendChild(docLink);\n",
              "        }\n",
              "      </script>\n",
              "    </div>\n",
              "  </div>\n",
              "  "
            ]
          },
          "metadata": {},
          "execution_count": 10
        }
      ],
      "source": [
        "df.describe()"
      ]
    },
    {
      "cell_type": "code",
      "execution_count": 11,
      "metadata": {
        "colab": {
          "base_uri": "https://localhost:8080/"
        },
        "id": "qpFXotORty29",
        "outputId": "7db8c5af-a175-4b4f-ff9f-8e650728b82d"
      },
      "outputs": [
        {
          "output_type": "execute_result",
          "data": {
            "text/plain": [
              "(39644, 61)"
            ]
          },
          "metadata": {},
          "execution_count": 11
        }
      ],
      "source": [
        "df.shape"
      ]
    },
    {
      "cell_type": "code",
      "execution_count": 12,
      "metadata": {
        "colab": {
          "base_uri": "https://localhost:8080/"
        },
        "id": "XWEPZNYvuPb2",
        "outputId": "ab546b16-602c-4569-cc2a-84da7afbe52e"
      },
      "outputs": [
        {
          "output_type": "stream",
          "name": "stdout",
          "text": [
            "<class 'pandas.core.frame.DataFrame'>\n",
            "RangeIndex: 39644 entries, 0 to 39643\n",
            "Data columns (total 61 columns):\n",
            " #   Column                          Non-Null Count  Dtype  \n",
            "---  ------                          --------------  -----  \n",
            " 0   url                             39644 non-null  object \n",
            " 1    timedelta                      39644 non-null  float64\n",
            " 2    n_tokens_title                 39644 non-null  float64\n",
            " 3    n_tokens_content               39644 non-null  float64\n",
            " 4    n_unique_tokens                39644 non-null  float64\n",
            " 5    n_non_stop_words               39644 non-null  float64\n",
            " 6    n_non_stop_unique_tokens       39644 non-null  float64\n",
            " 7    num_hrefs                      39644 non-null  float64\n",
            " 8    num_self_hrefs                 39644 non-null  float64\n",
            " 9    num_imgs                       39644 non-null  float64\n",
            " 10   num_videos                     39644 non-null  float64\n",
            " 11   average_token_length           39644 non-null  float64\n",
            " 12   num_keywords                   39644 non-null  float64\n",
            " 13   data_channel_is_lifestyle      39644 non-null  float64\n",
            " 14   data_channel_is_entertainment  39644 non-null  float64\n",
            " 15   data_channel_is_bus            39644 non-null  float64\n",
            " 16   data_channel_is_socmed         39644 non-null  float64\n",
            " 17   data_channel_is_tech           39644 non-null  float64\n",
            " 18   data_channel_is_world          39644 non-null  float64\n",
            " 19   kw_min_min                     39644 non-null  float64\n",
            " 20   kw_max_min                     39644 non-null  float64\n",
            " 21   kw_avg_min                     39644 non-null  float64\n",
            " 22   kw_min_max                     39644 non-null  float64\n",
            " 23   kw_max_max                     39644 non-null  float64\n",
            " 24   kw_avg_max                     39644 non-null  float64\n",
            " 25   kw_min_avg                     39644 non-null  float64\n",
            " 26   kw_max_avg                     39644 non-null  float64\n",
            " 27   kw_avg_avg                     39644 non-null  float64\n",
            " 28   self_reference_min_shares      39644 non-null  float64\n",
            " 29   self_reference_max_shares      39644 non-null  float64\n",
            " 30   self_reference_avg_sharess     39644 non-null  float64\n",
            " 31   weekday_is_monday              39644 non-null  float64\n",
            " 32   weekday_is_tuesday             39644 non-null  float64\n",
            " 33   weekday_is_wednesday           39644 non-null  float64\n",
            " 34   weekday_is_thursday            39644 non-null  float64\n",
            " 35   weekday_is_friday              39644 non-null  float64\n",
            " 36   weekday_is_saturday            39644 non-null  float64\n",
            " 37   weekday_is_sunday              39644 non-null  float64\n",
            " 38   is_weekend                     39644 non-null  float64\n",
            " 39   LDA_00                         39644 non-null  float64\n",
            " 40   LDA_01                         39644 non-null  float64\n",
            " 41   LDA_02                         39644 non-null  float64\n",
            " 42   LDA_03                         39644 non-null  float64\n",
            " 43   LDA_04                         39644 non-null  float64\n",
            " 44   global_subjectivity            39644 non-null  float64\n",
            " 45   global_sentiment_polarity      39644 non-null  float64\n",
            " 46   global_rate_positive_words     39644 non-null  float64\n",
            " 47   global_rate_negative_words     39644 non-null  float64\n",
            " 48   rate_positive_words            39644 non-null  float64\n",
            " 49   rate_negative_words            39644 non-null  float64\n",
            " 50   avg_positive_polarity          39644 non-null  float64\n",
            " 51   min_positive_polarity          39644 non-null  float64\n",
            " 52   max_positive_polarity          39644 non-null  float64\n",
            " 53   avg_negative_polarity          39644 non-null  float64\n",
            " 54   min_negative_polarity          39644 non-null  float64\n",
            " 55   max_negative_polarity          39644 non-null  float64\n",
            " 56   title_subjectivity             39644 non-null  float64\n",
            " 57   title_sentiment_polarity       39644 non-null  float64\n",
            " 58   abs_title_subjectivity         39644 non-null  float64\n",
            " 59   abs_title_sentiment_polarity   39644 non-null  float64\n",
            " 60   shares                         39644 non-null  int64  \n",
            "dtypes: float64(59), int64(1), object(1)\n",
            "memory usage: 18.5+ MB\n"
          ]
        }
      ],
      "source": [
        "df.info()"
      ]
    },
    {
      "cell_type": "code",
      "execution_count": 13,
      "metadata": {
        "colab": {
          "base_uri": "https://localhost:8080/"
        },
        "id": "KzP26Pdp3UX9",
        "outputId": "faade2e5-5e1c-48c0-a7e1-a47ab7bca5a9"
      },
      "outputs": [
        {
          "output_type": "execute_result",
          "data": {
            "text/plain": [
              "url                              0\n",
              " timedelta                       0\n",
              " n_tokens_title                  0\n",
              " n_tokens_content                0\n",
              " n_unique_tokens                 0\n",
              "                                ..\n",
              " title_subjectivity              0\n",
              " title_sentiment_polarity        0\n",
              " abs_title_subjectivity          0\n",
              " abs_title_sentiment_polarity    0\n",
              " shares                          0\n",
              "Length: 61, dtype: int64"
            ]
          },
          "metadata": {},
          "execution_count": 13
        }
      ],
      "source": [
        "df.isna().sum()"
      ]
    },
    {
      "cell_type": "code",
      "execution_count": 14,
      "metadata": {
        "id": "od5gKIbD3Xqg"
      },
      "outputs": [],
      "source": [
        "df.dropna(inplace=True)"
      ]
    },
    {
      "cell_type": "code",
      "execution_count": 15,
      "metadata": {
        "colab": {
          "base_uri": "https://localhost:8080/",
          "height": 534
        },
        "id": "5IIwi_8CvBLY",
        "outputId": "3e9db2ef-1c14-4935-950e-b704f2630a71"
      },
      "outputs": [
        {
          "output_type": "execute_result",
          "data": {
            "text/plain": [
              "(array([3.9563e+04, 6.0000e+01, 1.1000e+01, 4.0000e+00, 0.0000e+00,\n",
              "        1.0000e+00, 0.0000e+00, 3.0000e+00, 1.0000e+00, 1.0000e+00]),\n",
              " array([1.000000e+00, 8.433090e+04, 1.686608e+05, 2.529907e+05,\n",
              "        3.373206e+05, 4.216505e+05, 5.059804e+05, 5.903103e+05,\n",
              "        6.746402e+05, 7.589701e+05, 8.433000e+05]),\n",
              " <BarContainer object of 10 artists>)"
            ]
          },
          "metadata": {},
          "execution_count": 15
        },
        {
          "output_type": "display_data",
          "data": {
            "text/plain": [
              "<Figure size 640x480 with 1 Axes>"
            ],
            "image/png": "[encoded data removed]"
          },
          "metadata": {}
        }
      ],
      "source": [
        "counts, bins = np.histogram(df[' shares'])\n",
        "\n",
        "plt.hist(bins[:-1], bins, weights=counts)\n"
      ]
    },
    {
      "cell_type": "code",
      "execution_count": 16,
      "metadata": {
        "colab": {
          "base_uri": "https://localhost:8080/",
          "height": 569
        },
        "id": "LIwRxMtuxXqW",
        "outputId": "ee526937-e888-4c33-a5a3-219dc556bf13"
      },
      "outputs": [
        {
          "output_type": "execute_result",
          "data": {
            "text/plain": [
              "{'whiskers': [<matplotlib.lines.Line2D at 0x7f0ad9176e20>,\n",
              "  <matplotlib.lines.Line2D at 0x7f0ad9186100>],\n",
              " 'caps': [<matplotlib.lines.Line2D at 0x7f0ad91863a0>,\n",
              "  <matplotlib.lines.Line2D at 0x7f0ad9186640>],\n",
              " 'boxes': [<matplotlib.lines.Line2D at 0x7f0ad9176b80>],\n",
              " 'medians': [<matplotlib.lines.Line2D at 0x7f0ad91868e0>],\n",
              " 'fliers': [<matplotlib.lines.Line2D at 0x7f0ad9186b80>],\n",
              " 'means': []}"
            ]
          },
          "metadata": {},
          "execution_count": 16
        },
        {
          "output_type": "display_data",
          "data": {
            "text/plain": [
              "<Figure size 640x480 with 1 Axes>"
            ],
            "image/png": "[encoded data removed]"
          },
          "metadata": {}
        }
      ],
      "source": [
        "plt.boxplot(df[' shares']) "
      ]
    },
    {
      "cell_type": "markdown",
      "metadata": {
        "id": "llooEAjHxjFS"
      },
      "source": [
        "The 75% of the samples have shares lower than 2800 and from the graphs above, there are some outliers with shares, so we excluded the samples with shares more than 30000.\n"
      ]
    },
    {
      "cell_type": "code",
      "execution_count": 17,
      "metadata": {
        "id": "V9fosL5qx1Ez"
      },
      "outputs": [],
      "source": [
        "#df1=df[df[' shares']<3000]\n",
        "#df1.describe()\n",
        "df1 = df"
      ]
    },
    {
      "cell_type": "code",
      "execution_count": 18,
      "metadata": {
        "id": "_8gfI1aIy1QO"
      },
      "outputs": [],
      "source": [
        "df2=df1.drop(['url',' timedelta'],axis=1) # deleteing unnessary columns"
      ]
    },
    {
      "cell_type": "code",
      "execution_count": 19,
      "metadata": {
        "colab": {
          "base_uri": "https://localhost:8080/",
          "height": 270
        },
        "id": "cnlplyChu9aT",
        "outputId": "61633eb8-2af5-42af-c21a-b0b71f91285c"
      },
      "outputs": [
        {
          "output_type": "execute_result",
          "data": {
            "text/plain": [
              "    n_tokens_title   n_tokens_content   n_unique_tokens   n_non_stop_words  \\\n",
              "0             12.0              219.0          0.663594                1.0   \n",
              "1              9.0              255.0          0.604743                1.0   \n",
              "2              9.0              211.0          0.575130                1.0   \n",
              "3              9.0              531.0          0.503788                1.0   \n",
              "4             13.0             1072.0          0.415646                1.0   \n",
              "\n",
              "    n_non_stop_unique_tokens   num_hrefs   num_self_hrefs   num_imgs  \\\n",
              "0                   0.815385         4.0              2.0        1.0   \n",
              "1                   0.791946         3.0              1.0        1.0   \n",
              "2                   0.663866         3.0              1.0        1.0   \n",
              "3                   0.665635         9.0              0.0        1.0   \n",
              "4                   0.540890        19.0             19.0       20.0   \n",
              "\n",
              "    num_videos   average_token_length   num_keywords  \\\n",
              "0          0.0               4.680365            5.0   \n",
              "1          0.0               4.913725            4.0   \n",
              "2          0.0               4.393365            6.0   \n",
              "3          0.0               4.404896            7.0   \n",
              "4          0.0               4.682836            7.0   \n",
              "\n",
              "    data_channel_is_lifestyle   data_channel_is_entertainment  \\\n",
              "0                         0.0                             1.0   \n",
              "1                         0.0                             0.0   \n",
              "2                         0.0                             0.0   \n",
              "3                         0.0                             1.0   \n",
              "4                         0.0                             0.0   \n",
              "\n",
              "    data_channel_is_bus   data_channel_is_socmed   data_channel_is_tech  \\\n",
              "0                   0.0                      0.0                    0.0   \n",
              "1                   1.0                      0.0                    0.0   \n",
              "2                   1.0                      0.0                    0.0   \n",
              "3                   0.0                      0.0                    0.0   \n",
              "4                   0.0                      0.0                    1.0   \n",
              "\n",
              "    data_channel_is_world   kw_min_min   kw_max_min   kw_avg_min   kw_min_max  \\\n",
              "0                     0.0          0.0          0.0          0.0          0.0   \n",
              "1                     0.0          0.0          0.0          0.0          0.0   \n",
              "2                     0.0          0.0          0.0          0.0          0.0   \n",
              "3                     0.0          0.0          0.0          0.0          0.0   \n",
              "4                     0.0          0.0          0.0          0.0          0.0   \n",
              "\n",
              "    kw_max_max   kw_avg_max   kw_min_avg   kw_max_avg   kw_avg_avg  \\\n",
              "0          0.0          0.0          0.0          0.0          0.0   \n",
              "1          0.0          0.0          0.0          0.0          0.0   \n",
              "2          0.0          0.0          0.0          0.0          0.0   \n",
              "3          0.0          0.0          0.0          0.0          0.0   \n",
              "4          0.0          0.0          0.0          0.0          0.0   \n",
              "\n",
              "    self_reference_min_shares   self_reference_max_shares  \\\n",
              "0                       496.0                       496.0   \n",
              "1                         0.0                         0.0   \n",
              "2                       918.0                       918.0   \n",
              "3                         0.0                         0.0   \n",
              "4                       545.0                     16000.0   \n",
              "\n",
              "    self_reference_avg_sharess   weekday_is_monday   weekday_is_tuesday  \\\n",
              "0                   496.000000                 1.0                  0.0   \n",
              "1                     0.000000                 1.0                  0.0   \n",
              "2                   918.000000                 1.0                  0.0   \n",
              "3                     0.000000                 1.0                  0.0   \n",
              "4                  3151.157895                 1.0                  0.0   \n",
              "\n",
              "    weekday_is_wednesday   weekday_is_thursday   weekday_is_friday  \\\n",
              "0                    0.0                   0.0                 0.0   \n",
              "1                    0.0                   0.0                 0.0   \n",
              "2                    0.0                   0.0                 0.0   \n",
              "3                    0.0                   0.0                 0.0   \n",
              "4                    0.0                   0.0                 0.0   \n",
              "\n",
              "    weekday_is_saturday   weekday_is_sunday   is_weekend    LDA_00    LDA_01  \\\n",
              "0                   0.0                 0.0          0.0  0.500331  0.378279   \n",
              "1                   0.0                 0.0          0.0  0.799756  0.050047   \n",
              "2                   0.0                 0.0          0.0  0.217792  0.033334   \n",
              "3                   0.0                 0.0          0.0  0.028573  0.419300   \n",
              "4                   0.0                 0.0          0.0  0.028633  0.028794   \n",
              "\n",
              "     LDA_02    LDA_03    LDA_04   global_subjectivity  \\\n",
              "0  0.040005  0.041263  0.040123              0.521617   \n",
              "1  0.050096  0.050101  0.050001              0.341246   \n",
              "2  0.033351  0.033334  0.682188              0.702222   \n",
              "3  0.494651  0.028905  0.028572              0.429850   \n",
              "4  0.028575  0.028572  0.885427              0.513502   \n",
              "\n",
              "    global_sentiment_polarity   global_rate_positive_words  \\\n",
              "0                    0.092562                     0.045662   \n",
              "1                    0.148948                     0.043137   \n",
              "2                    0.323333                     0.056872   \n",
              "3                    0.100705                     0.041431   \n",
              "4                    0.281003                     0.074627   \n",
              "\n",
              "    global_rate_negative_words   rate_positive_words   rate_negative_words  \\\n",
              "0                     0.013699              0.769231              0.230769   \n",
              "1                     0.015686              0.733333              0.266667   \n",
              "2                     0.009479              0.857143              0.142857   \n",
              "3                     0.020716              0.666667              0.333333   \n",
              "4                     0.012127              0.860215              0.139785   \n",
              "\n",
              "    avg_positive_polarity   min_positive_polarity   max_positive_polarity  \\\n",
              "0                0.378636                0.100000                     0.7   \n",
              "1                0.286915                0.033333                     0.7   \n",
              "2                0.495833                0.100000                     1.0   \n",
              "3                0.385965                0.136364                     0.8   \n",
              "4                0.411127                0.033333                     1.0   \n",
              "\n",
              "    avg_negative_polarity   min_negative_polarity   max_negative_polarity  \\\n",
              "0               -0.350000                  -0.600               -0.200000   \n",
              "1               -0.118750                  -0.125               -0.100000   \n",
              "2               -0.466667                  -0.800               -0.133333   \n",
              "3               -0.369697                  -0.600               -0.166667   \n",
              "4               -0.220192                  -0.500               -0.050000   \n",
              "\n",
              "    title_subjectivity   title_sentiment_polarity   abs_title_subjectivity  \\\n",
              "0             0.500000                  -0.187500                 0.000000   \n",
              "1             0.000000                   0.000000                 0.500000   \n",
              "2             0.000000                   0.000000                 0.500000   \n",
              "3             0.000000                   0.000000                 0.500000   \n",
              "4             0.454545                   0.136364                 0.045455   \n",
              "\n",
              "    abs_title_sentiment_polarity   shares  \n",
              "0                       0.187500      593  \n",
              "1                       0.000000      711  \n",
              "2                       0.000000     1500  \n",
              "3                       0.000000     1200  \n",
              "4                       0.136364      505  "
            ],
            "text/html": [
              "\n",
              "  <div id=\"df-04141783-3f95-4562-9101-ee1617788873\">\n",
              "    <div class=\"colab-df-container\">\n",
              "      <div>\n",
              "<style scoped>\n",
              "    .dataframe tbody tr th:only-of-type {\n",
              "        vertical-align: middle;\n",
              "    }\n",
              "\n",
              "    .dataframe tbody tr th {\n",
              "        vertical-align: top;\n",
              "    }\n",
              "\n",
              "    .dataframe thead th {\n",
              "        text-align: right;\n",
              "    }\n",
              "</style>\n",
              "<table border=\"1\" class=\"dataframe\">\n",
              "  <thead>\n",
              "    <tr style=\"text-align: right;\">\n",
              "      <th></th>\n",
              "      <th>n_tokens_title</th>\n",
              "      <th>n_tokens_content</th>\n",
              "      <th>n_unique_tokens</th>\n",
              "      <th>n_non_stop_words</th>\n",
              "      <th>n_non_stop_unique_tokens</th>\n",
              "      <th>num_hrefs</th>\n",
              "      <th>num_self_hrefs</th>\n",
              "      <th>num_imgs</th>\n",
              "      <th>num_videos</th>\n",
              "      <th>average_token_length</th>\n",
              "      <th>num_keywords</th>\n",
              "      <th>data_channel_is_lifestyle</th>\n",
              "      <th>data_channel_is_entertainment</th>\n",
              "      <th>data_channel_is_bus</th>\n",
              "      <th>data_channel_is_socmed</th>\n",
              "      <th>data_channel_is_tech</th>\n",
              "      <th>data_channel_is_world</th>\n",
              "      <th>kw_min_min</th>\n",
              "      <th>kw_max_min</th>\n",
              "      <th>kw_avg_min</th>\n",
              "      <th>kw_min_max</th>\n",
              "      <th>kw_max_max</th>\n",
              "      <th>kw_avg_max</th>\n",
              "      <th>kw_min_avg</th>\n",
              "      <th>kw_max_avg</th>\n",
              "      <th>kw_avg_avg</th>\n",
              "      <th>self_reference_min_shares</th>\n",
              "      <th>self_reference_max_shares</th>\n",
              "      <th>self_reference_avg_sharess</th>\n",
              "      <th>weekday_is_monday</th>\n",
              "      <th>weekday_is_tuesday</th>\n",
              "      <th>weekday_is_wednesday</th>\n",
              "      <th>weekday_is_thursday</th>\n",
              "      <th>weekday_is_friday</th>\n",
              "      <th>weekday_is_saturday</th>\n",
              "      <th>weekday_is_sunday</th>\n",
              "      <th>is_weekend</th>\n",
              "      <th>LDA_00</th>\n",
              "      <th>LDA_01</th>\n",
              "      <th>LDA_02</th>\n",
              "      <th>LDA_03</th>\n",
              "      <th>LDA_04</th>\n",
              "      <th>global_subjectivity</th>\n",
              "      <th>global_sentiment_polarity</th>\n",
              "      <th>global_rate_positive_words</th>\n",
              "      <th>global_rate_negative_words</th>\n",
              "      <th>rate_positive_words</th>\n",
              "      <th>rate_negative_words</th>\n",
              "      <th>avg_positive_polarity</th>\n",
              "      <th>min_positive_polarity</th>\n",
              "      <th>max_positive_polarity</th>\n",
              "      <th>avg_negative_polarity</th>\n",
              "      <th>min_negative_polarity</th>\n",
              "      <th>max_negative_polarity</th>\n",
              "      <th>title_subjectivity</th>\n",
              "      <th>title_sentiment_polarity</th>\n",
              "      <th>abs_title_subjectivity</th>\n",
              "      <th>abs_title_sentiment_polarity</th>\n",
              "      <th>shares</th>\n",
              "    </tr>\n",
              "  </thead>\n",
              "  <tbody>\n",
              "    <tr>\n",
              "      <th>0</th>\n",
              "      <td>12.0</td>\n",
              "      <td>219.0</td>\n",
              "      <td>0.663594</td>\n",
              "      <td>1.0</td>\n",
              "      <td>0.815385</td>\n",
              "      <td>4.0</td>\n",
              "      <td>2.0</td>\n",
              "      <td>1.0</td>\n",
              "      <td>0.0</td>\n",
              "      <td>4.680365</td>\n",
              "      <td>5.0</td>\n",
              "      <td>0.0</td>\n",
              "      <td>1.0</td>\n",
              "      <td>0.0</td>\n",
              "      <td>0.0</td>\n",
              "      <td>0.0</td>\n",
              "      <td>0.0</td>\n",
              "      <td>0.0</td>\n",
              "      <td>0.0</td>\n",
              "      <td>0.0</td>\n",
              "      <td>0.0</td>\n",
              "      <td>0.0</td>\n",
              "      <td>0.0</td>\n",
              "      <td>0.0</td>\n",
              "      <td>0.0</td>\n",
              "      <td>0.0</td>\n",
              "      <td>496.0</td>\n",
              "      <td>496.0</td>\n",
              "      <td>496.000000</td>\n",
              "      <td>1.0</td>\n",
              "      <td>0.0</td>\n",
              "      <td>0.0</td>\n",
              "      <td>0.0</td>\n",
              "      <td>0.0</td>\n",
              "      <td>0.0</td>\n",
              "      <td>0.0</td>\n",
              "      <td>0.0</td>\n",
              "      <td>0.500331</td>\n",
              "      <td>0.378279</td>\n",
              "      <td>0.040005</td>\n",
              "      <td>0.041263</td>\n",
              "      <td>0.040123</td>\n",
              "      <td>0.521617</td>\n",
              "      <td>0.092562</td>\n",
              "      <td>0.045662</td>\n",
              "      <td>0.013699</td>\n",
              "      <td>0.769231</td>\n",
              "      <td>0.230769</td>\n",
              "      <td>0.378636</td>\n",
              "      <td>0.100000</td>\n",
              "      <td>0.7</td>\n",
              "      <td>-0.350000</td>\n",
              "      <td>-0.600</td>\n",
              "      <td>-0.200000</td>\n",
              "      <td>0.500000</td>\n",
              "      <td>-0.187500</td>\n",
              "      <td>0.000000</td>\n",
              "      <td>0.187500</td>\n",
              "      <td>593</td>\n",
              "    </tr>\n",
              "    <tr>\n",
              "      <th>1</th>\n",
              "      <td>9.0</td>\n",
              "      <td>255.0</td>\n",
              "      <td>0.604743</td>\n",
              "      <td>1.0</td>\n",
              "      <td>0.791946</td>\n",
              "      <td>3.0</td>\n",
              "      <td>1.0</td>\n",
              "      <td>1.0</td>\n",
              "      <td>0.0</td>\n",
              "      <td>4.913725</td>\n",
              "      <td>4.0</td>\n",
              "      <td>0.0</td>\n",
              "      <td>0.0</td>\n",
              "      <td>1.0</td>\n",
              "      <td>0.0</td>\n",
              "      <td>0.0</td>\n",
              "      <td>0.0</td>\n",
              "      <td>0.0</td>\n",
              "      <td>0.0</td>\n",
              "      <td>0.0</td>\n",
              "      <td>0.0</td>\n",
              "      <td>0.0</td>\n",
              "      <td>0.0</td>\n",
              "      <td>0.0</td>\n",
              "      <td>0.0</td>\n",
              "      <td>0.0</td>\n",
              "      <td>0.0</td>\n",
              "      <td>0.0</td>\n",
              "      <td>0.000000</td>\n",
              "      <td>1.0</td>\n",
              "      <td>0.0</td>\n",
              "      <td>0.0</td>\n",
              "      <td>0.0</td>\n",
              "      <td>0.0</td>\n",
              "      <td>0.0</td>\n",
              "      <td>0.0</td>\n",
              "      <td>0.0</td>\n",
              "      <td>0.799756</td>\n",
              "      <td>0.050047</td>\n",
              "      <td>0.050096</td>\n",
              "      <td>0.050101</td>\n",
              "      <td>0.050001</td>\n",
              "      <td>0.341246</td>\n",
              "      <td>0.148948</td>\n",
              "      <td>0.043137</td>\n",
              "      <td>0.015686</td>\n",
              "      <td>0.733333</td>\n",
              "      <td>0.266667</td>\n",
              "      <td>0.286915</td>\n",
              "      <td>0.033333</td>\n",
              "      <td>0.7</td>\n",
              "      <td>-0.118750</td>\n",
              "      <td>-0.125</td>\n",
              "      <td>-0.100000</td>\n",
              "      <td>0.000000</td>\n",
              "      <td>0.000000</td>\n",
              "      <td>0.500000</td>\n",
              "      <td>0.000000</td>\n",
              "      <td>711</td>\n",
              "    </tr>\n",
              "    <tr>\n",
              "      <th>2</th>\n",
              "      <td>9.0</td>\n",
              "      <td>211.0</td>\n",
              "      <td>0.575130</td>\n",
              "      <td>1.0</td>\n",
              "      <td>0.663866</td>\n",
              "      <td>3.0</td>\n",
              "      <td>1.0</td>\n",
              "      <td>1.0</td>\n",
              "      <td>0.0</td>\n",
              "      <td>4.393365</td>\n",
              "      <td>6.0</td>\n",
              "      <td>0.0</td>\n",
              "      <td>0.0</td>\n",
              "      <td>1.0</td>\n",
              "      <td>0.0</td>\n",
              "      <td>0.0</td>\n",
              "      <td>0.0</td>\n",
              "      <td>0.0</td>\n",
              "      <td>0.0</td>\n",
              "      <td>0.0</td>\n",
              "      <td>0.0</td>\n",
              "      <td>0.0</td>\n",
              "      <td>0.0</td>\n",
              "      <td>0.0</td>\n",
              "      <td>0.0</td>\n",
              "      <td>0.0</td>\n",
              "      <td>918.0</td>\n",
              "      <td>918.0</td>\n",
              "      <td>918.000000</td>\n",
              "      <td>1.0</td>\n",
              "      <td>0.0</td>\n",
              "      <td>0.0</td>\n",
              "      <td>0.0</td>\n",
              "      <td>0.0</td>\n",
              "      <td>0.0</td>\n",
              "      <td>0.0</td>\n",
              "      <td>0.0</td>\n",
              "      <td>0.217792</td>\n",
              "      <td>0.033334</td>\n",
              "      <td>0.033351</td>\n",
              "      <td>0.033334</td>\n",
              "      <td>0.682188</td>\n",
              "      <td>0.702222</td>\n",
              "      <td>0.323333</td>\n",
              "      <td>0.056872</td>\n",
              "      <td>0.009479</td>\n",
              "      <td>0.857143</td>\n",
              "      <td>0.142857</td>\n",
              "      <td>0.495833</td>\n",
              "      <td>0.100000</td>\n",
              "      <td>1.0</td>\n",
              "      <td>-0.466667</td>\n",
              "      <td>-0.800</td>\n",
              "      <td>-0.133333</td>\n",
              "      <td>0.000000</td>\n",
              "      <td>0.000000</td>\n",
              "      <td>0.500000</td>\n",
              "      <td>0.000000</td>\n",
              "      <td>1500</td>\n",
              "    </tr>\n",
              "    <tr>\n",
              "      <th>3</th>\n",
              "      <td>9.0</td>\n",
              "      <td>531.0</td>\n",
              "      <td>0.503788</td>\n",
              "      <td>1.0</td>\n",
              "      <td>0.665635</td>\n",
              "      <td>9.0</td>\n",
              "      <td>0.0</td>\n",
              "      <td>1.0</td>\n",
              "      <td>0.0</td>\n",
              "      <td>4.404896</td>\n",
              "      <td>7.0</td>\n",
              "      <td>0.0</td>\n",
              "      <td>1.0</td>\n",
              "      <td>0.0</td>\n",
              "      <td>0.0</td>\n",
              "      <td>0.0</td>\n",
              "      <td>0.0</td>\n",
              "      <td>0.0</td>\n",
              "      <td>0.0</td>\n",
              "      <td>0.0</td>\n",
              "      <td>0.0</td>\n",
              "      <td>0.0</td>\n",
              "      <td>0.0</td>\n",
              "      <td>0.0</td>\n",
              "      <td>0.0</td>\n",
              "      <td>0.0</td>\n",
              "      <td>0.0</td>\n",
              "      <td>0.0</td>\n",
              "      <td>0.000000</td>\n",
              "      <td>1.0</td>\n",
              "      <td>0.0</td>\n",
              "      <td>0.0</td>\n",
              "      <td>0.0</td>\n",
              "      <td>0.0</td>\n",
              "      <td>0.0</td>\n",
              "      <td>0.0</td>\n",
              "      <td>0.0</td>\n",
              "      <td>0.028573</td>\n",
              "      <td>0.419300</td>\n",
              "      <td>0.494651</td>\n",
              "      <td>0.028905</td>\n",
              "      <td>0.028572</td>\n",
              "      <td>0.429850</td>\n",
              "      <td>0.100705</td>\n",
              "      <td>0.041431</td>\n",
              "      <td>0.020716</td>\n",
              "      <td>0.666667</td>\n",
              "      <td>0.333333</td>\n",
              "      <td>0.385965</td>\n",
              "      <td>0.136364</td>\n",
              "      <td>0.8</td>\n",
              "      <td>-0.369697</td>\n",
              "      <td>-0.600</td>\n",
              "      <td>-0.166667</td>\n",
              "      <td>0.000000</td>\n",
              "      <td>0.000000</td>\n",
              "      <td>0.500000</td>\n",
              "      <td>0.000000</td>\n",
              "      <td>1200</td>\n",
              "    </tr>\n",
              "    <tr>\n",
              "      <th>4</th>\n",
              "      <td>13.0</td>\n",
              "      <td>1072.0</td>\n",
              "      <td>0.415646</td>\n",
              "      <td>1.0</td>\n",
              "      <td>0.540890</td>\n",
              "      <td>19.0</td>\n",
              "      <td>19.0</td>\n",
              "      <td>20.0</td>\n",
              "      <td>0.0</td>\n",
              "      <td>4.682836</td>\n",
              "      <td>7.0</td>\n",
              "      <td>0.0</td>\n",
              "      <td>0.0</td>\n",
              "      <td>0.0</td>\n",
              "      <td>0.0</td>\n",
              "      <td>1.0</td>\n",
              "      <td>0.0</td>\n",
              "      <td>0.0</td>\n",
              "      <td>0.0</td>\n",
              "      <td>0.0</td>\n",
              "      <td>0.0</td>\n",
              "      <td>0.0</td>\n",
              "      <td>0.0</td>\n",
              "      <td>0.0</td>\n",
              "      <td>0.0</td>\n",
              "      <td>0.0</td>\n",
              "      <td>545.0</td>\n",
              "      <td>16000.0</td>\n",
              "      <td>3151.157895</td>\n",
              "      <td>1.0</td>\n",
              "      <td>0.0</td>\n",
              "      <td>0.0</td>\n",
              "      <td>0.0</td>\n",
              "      <td>0.0</td>\n",
              "      <td>0.0</td>\n",
              "      <td>0.0</td>\n",
              "      <td>0.0</td>\n",
              "      <td>0.028633</td>\n",
              "      <td>0.028794</td>\n",
              "      <td>0.028575</td>\n",
              "      <td>0.028572</td>\n",
              "      <td>0.885427</td>\n",
              "      <td>0.513502</td>\n",
              "      <td>0.281003</td>\n",
              "      <td>0.074627</td>\n",
              "      <td>0.012127</td>\n",
              "      <td>0.860215</td>\n",
              "      <td>0.139785</td>\n",
              "      <td>0.411127</td>\n",
              "      <td>0.033333</td>\n",
              "      <td>1.0</td>\n",
              "      <td>-0.220192</td>\n",
              "      <td>-0.500</td>\n",
              "      <td>-0.050000</td>\n",
              "      <td>0.454545</td>\n",
              "      <td>0.136364</td>\n",
              "      <td>0.045455</td>\n",
              "      <td>0.136364</td>\n",
              "      <td>505</td>\n",
              "    </tr>\n",
              "  </tbody>\n",
              "</table>\n",
              "</div>\n",
              "      <button class=\"colab-df-convert\" onclick=\"convertToInteractive('df-04141783-3f95-4562-9101-ee1617788873')\"\n",
              "              title=\"Convert this dataframe to an interactive table.\"\n",
              "              style=\"display:none;\">\n",
              "        \n",
              "  <svg xmlns=\"http://www.w3.org/2000/svg\" height=\"24px\"viewBox=\"0 0 24 24\"\n",
              "       width=\"24px\">\n",
              "    <path d=\"M0 0h24v24H0V0z\" fill=\"none\"/>\n",
              "    <path d=\"M18.56 5.44l.94 2.06.94-2.06 2.06-.94-2.06-.94-.94-2.06-.94 2.06-2.06.94zm-11 1L8.5 8.5l.94-2.06 2.06-.94-2.06-.94L8.5 2.5l-.94 2.06-2.06.94zm10 10l.94 2.06.94-2.06 2.06-.94-2.06-.94-.94-2.06-.94 2.06-2.06.94z\"/><path d=\"M17.41 7.96l-1.37-1.37c-.4-.4-.92-.59-1.43-.59-.52 0-1.04.2-1.43.59L10.3 9.45l-7.72 7.72c-.78.78-.78 2.05 0 2.83L4 21.41c.39.39.9.59 1.41.59.51 0 1.02-.2 1.41-.59l7.78-7.78 2.81-2.81c.8-.78.8-2.07 0-2.86zM5.41 20L4 18.59l7.72-7.72 1.47 1.35L5.41 20z\"/>\n",
              "  </svg>\n",
              "      </button>\n",
              "      \n",
              "  <style>\n",
              "    .colab-df-container {\n",
              "      display:flex;\n",
              "      flex-wrap:wrap;\n",
              "      gap: 12px;\n",
              "    }\n",
              "\n",
              "    .colab-df-convert {\n",
              "      background-color: #E8F0FE;\n",
              "      border: none;\n",
              "      border-radius: 50%;\n",
              "      cursor: pointer;\n",
              "      display: none;\n",
              "      fill: #1967D2;\n",
              "      height: 32px;\n",
              "      padding: 0 0 0 0;\n",
              "      width: 32px;\n",
              "    }\n",
              "\n",
              "    .colab-df-convert:hover {\n",
              "      background-color: #E2EBFA;\n",
              "      box-shadow: 0px 1px 2px rgba(60, 64, 67, 0.3), 0px 1px 3px 1px rgba(60, 64, 67, 0.15);\n",
              "      fill: #174EA6;\n",
              "    }\n",
              "\n",
              "    [theme=dark] .colab-df-convert {\n",
              "      background-color: #3B4455;\n",
              "      fill: #D2E3FC;\n",
              "    }\n",
              "\n",
              "    [theme=dark] .colab-df-convert:hover {\n",
              "      background-color: #434B5C;\n",
              "      box-shadow: 0px 1px 3px 1px rgba(0, 0, 0, 0.15);\n",
              "      filter: drop-shadow(0px 1px 2px rgba(0, 0, 0, 0.3));\n",
              "      fill: #FFFFFF;\n",
              "    }\n",
              "  </style>\n",
              "\n",
              "      <script>\n",
              "        const buttonEl =\n",
              "          document.querySelector('#df-04141783-3f95-4562-9101-ee1617788873 button.colab-df-convert');\n",
              "        buttonEl.style.display =\n",
              "          google.colab.kernel.accessAllowed ? 'block' : 'none';\n",
              "\n",
              "        async function convertToInteractive(key) {\n",
              "          const element = document.querySelector('#df-04141783-3f95-4562-9101-ee1617788873');\n",
              "          const dataTable =\n",
              "            await google.colab.kernel.invokeFunction('convertToInteractive',\n",
              "                                                     [key], {});\n",
              "          if (!dataTable) return;\n",
              "\n",
              "          const docLinkHtml = 'Like what you see? Visit the ' +\n",
              "            '<a target=\"_blank\" href=https://colab.research.google.com/notebooks/data_table.ipynb>data table notebook</a>'\n",
              "            + ' to learn more about interactive tables.';\n",
              "          element.innerHTML = '';\n",
              "          dataTable['output_type'] = 'display_data';\n",
              "          await google.colab.output.renderOutput(dataTable, element);\n",
              "          const docLink = document.createElement('div');\n",
              "          docLink.innerHTML = docLinkHtml;\n",
              "          element.appendChild(docLink);\n",
              "        }\n",
              "      </script>\n",
              "    </div>\n",
              "  </div>\n",
              "  "
            ]
          },
          "metadata": {},
          "execution_count": 19
        }
      ],
      "source": [
        "df2[' shares'].median()\n",
        "df2.head()"
      ]
    },
    {
      "cell_type": "code",
      "execution_count": 20,
      "metadata": {
        "colab": {
          "base_uri": "https://localhost:8080/",
          "height": 270
        },
        "id": "2mlIerMKzWOS",
        "outputId": "295973f2-7e75-4f8e-a970-06f4dd427560"
      },
      "outputs": [
        {
          "output_type": "execute_result",
          "data": {
            "text/plain": [
              "    n_tokens_title   n_tokens_content   n_unique_tokens   n_non_stop_words  \\\n",
              "0             12.0              219.0          0.663594                1.0   \n",
              "1              9.0              255.0          0.604743                1.0   \n",
              "2              9.0              211.0          0.575130                1.0   \n",
              "3              9.0              531.0          0.503788                1.0   \n",
              "4             13.0             1072.0          0.415646                1.0   \n",
              "\n",
              "    n_non_stop_unique_tokens   num_hrefs   num_self_hrefs   num_imgs  \\\n",
              "0                   0.815385         4.0              2.0        1.0   \n",
              "1                   0.791946         3.0              1.0        1.0   \n",
              "2                   0.663866         3.0              1.0        1.0   \n",
              "3                   0.665635         9.0              0.0        1.0   \n",
              "4                   0.540890        19.0             19.0       20.0   \n",
              "\n",
              "    num_videos   average_token_length   num_keywords  \\\n",
              "0          0.0               4.680365            5.0   \n",
              "1          0.0               4.913725            4.0   \n",
              "2          0.0               4.393365            6.0   \n",
              "3          0.0               4.404896            7.0   \n",
              "4          0.0               4.682836            7.0   \n",
              "\n",
              "    data_channel_is_lifestyle   data_channel_is_entertainment  \\\n",
              "0                         0.0                             1.0   \n",
              "1                         0.0                             0.0   \n",
              "2                         0.0                             0.0   \n",
              "3                         0.0                             1.0   \n",
              "4                         0.0                             0.0   \n",
              "\n",
              "    data_channel_is_bus   data_channel_is_socmed   data_channel_is_tech  \\\n",
              "0                   0.0                      0.0                    0.0   \n",
              "1                   1.0                      0.0                    0.0   \n",
              "2                   1.0                      0.0                    0.0   \n",
              "3                   0.0                      0.0                    0.0   \n",
              "4                   0.0                      0.0                    1.0   \n",
              "\n",
              "    data_channel_is_world   kw_min_min   kw_max_min   kw_avg_min   kw_min_max  \\\n",
              "0                     0.0          0.0          0.0          0.0          0.0   \n",
              "1                     0.0          0.0          0.0          0.0          0.0   \n",
              "2                     0.0          0.0          0.0          0.0          0.0   \n",
              "3                     0.0          0.0          0.0          0.0          0.0   \n",
              "4                     0.0          0.0          0.0          0.0          0.0   \n",
              "\n",
              "    kw_max_max   kw_avg_max   kw_min_avg   kw_max_avg   kw_avg_avg  \\\n",
              "0          0.0          0.0          0.0          0.0          0.0   \n",
              "1          0.0          0.0          0.0          0.0          0.0   \n",
              "2          0.0          0.0          0.0          0.0          0.0   \n",
              "3          0.0          0.0          0.0          0.0          0.0   \n",
              "4          0.0          0.0          0.0          0.0          0.0   \n",
              "\n",
              "    self_reference_min_shares   self_reference_max_shares  \\\n",
              "0                       496.0                       496.0   \n",
              "1                         0.0                         0.0   \n",
              "2                       918.0                       918.0   \n",
              "3                         0.0                         0.0   \n",
              "4                       545.0                     16000.0   \n",
              "\n",
              "    self_reference_avg_sharess   weekday_is_monday   weekday_is_tuesday  \\\n",
              "0                   496.000000                 1.0                  0.0   \n",
              "1                     0.000000                 1.0                  0.0   \n",
              "2                   918.000000                 1.0                  0.0   \n",
              "3                     0.000000                 1.0                  0.0   \n",
              "4                  3151.157895                 1.0                  0.0   \n",
              "\n",
              "    weekday_is_wednesday   weekday_is_thursday   weekday_is_friday  \\\n",
              "0                    0.0                   0.0                 0.0   \n",
              "1                    0.0                   0.0                 0.0   \n",
              "2                    0.0                   0.0                 0.0   \n",
              "3                    0.0                   0.0                 0.0   \n",
              "4                    0.0                   0.0                 0.0   \n",
              "\n",
              "    weekday_is_saturday   weekday_is_sunday   is_weekend    LDA_00    LDA_01  \\\n",
              "0                   0.0                 0.0          0.0  0.500331  0.378279   \n",
              "1                   0.0                 0.0          0.0  0.799756  0.050047   \n",
              "2                   0.0                 0.0          0.0  0.217792  0.033334   \n",
              "3                   0.0                 0.0          0.0  0.028573  0.419300   \n",
              "4                   0.0                 0.0          0.0  0.028633  0.028794   \n",
              "\n",
              "     LDA_02    LDA_03    LDA_04   global_subjectivity  \\\n",
              "0  0.040005  0.041263  0.040123              0.521617   \n",
              "1  0.050096  0.050101  0.050001              0.341246   \n",
              "2  0.033351  0.033334  0.682188              0.702222   \n",
              "3  0.494651  0.028905  0.028572              0.429850   \n",
              "4  0.028575  0.028572  0.885427              0.513502   \n",
              "\n",
              "    global_sentiment_polarity   global_rate_positive_words  \\\n",
              "0                    0.092562                     0.045662   \n",
              "1                    0.148948                     0.043137   \n",
              "2                    0.323333                     0.056872   \n",
              "3                    0.100705                     0.041431   \n",
              "4                    0.281003                     0.074627   \n",
              "\n",
              "    global_rate_negative_words   rate_positive_words   rate_negative_words  \\\n",
              "0                     0.013699              0.769231              0.230769   \n",
              "1                     0.015686              0.733333              0.266667   \n",
              "2                     0.009479              0.857143              0.142857   \n",
              "3                     0.020716              0.666667              0.333333   \n",
              "4                     0.012127              0.860215              0.139785   \n",
              "\n",
              "    avg_positive_polarity   min_positive_polarity   max_positive_polarity  \\\n",
              "0                0.378636                0.100000                     0.7   \n",
              "1                0.286915                0.033333                     0.7   \n",
              "2                0.495833                0.100000                     1.0   \n",
              "3                0.385965                0.136364                     0.8   \n",
              "4                0.411127                0.033333                     1.0   \n",
              "\n",
              "    avg_negative_polarity   min_negative_polarity   max_negative_polarity  \\\n",
              "0               -0.350000                  -0.600               -0.200000   \n",
              "1               -0.118750                  -0.125               -0.100000   \n",
              "2               -0.466667                  -0.800               -0.133333   \n",
              "3               -0.369697                  -0.600               -0.166667   \n",
              "4               -0.220192                  -0.500               -0.050000   \n",
              "\n",
              "    title_subjectivity   title_sentiment_polarity   abs_title_subjectivity  \\\n",
              "0             0.500000                  -0.187500                 0.000000   \n",
              "1             0.000000                   0.000000                 0.500000   \n",
              "2             0.000000                   0.000000                 0.500000   \n",
              "3             0.000000                   0.000000                 0.500000   \n",
              "4             0.454545                   0.136364                 0.045455   \n",
              "\n",
              "    abs_title_sentiment_polarity  y  \n",
              "0                       0.187500  0  \n",
              "1                       0.000000  0  \n",
              "2                       0.000000  1  \n",
              "3                       0.000000  0  \n",
              "4                       0.136364  0  "
            ],
            "text/html": [
              "\n",
              "  <div id=\"df-1dc8ff88-e60b-47fa-a6e4-810dedbedf05\">\n",
              "    <div class=\"colab-df-container\">\n",
              "      <div>\n",
              "<style scoped>\n",
              "    .dataframe tbody tr th:only-of-type {\n",
              "        vertical-align: middle;\n",
              "    }\n",
              "\n",
              "    .dataframe tbody tr th {\n",
              "        vertical-align: top;\n",
              "    }\n",
              "\n",
              "    .dataframe thead th {\n",
              "        text-align: right;\n",
              "    }\n",
              "</style>\n",
              "<table border=\"1\" class=\"dataframe\">\n",
              "  <thead>\n",
              "    <tr style=\"text-align: right;\">\n",
              "      <th></th>\n",
              "      <th>n_tokens_title</th>\n",
              "      <th>n_tokens_content</th>\n",
              "      <th>n_unique_tokens</th>\n",
              "      <th>n_non_stop_words</th>\n",
              "      <th>n_non_stop_unique_tokens</th>\n",
              "      <th>num_hrefs</th>\n",
              "      <th>num_self_hrefs</th>\n",
              "      <th>num_imgs</th>\n",
              "      <th>num_videos</th>\n",
              "      <th>average_token_length</th>\n",
              "      <th>num_keywords</th>\n",
              "      <th>data_channel_is_lifestyle</th>\n",
              "      <th>data_channel_is_entertainment</th>\n",
              "      <th>data_channel_is_bus</th>\n",
              "      <th>data_channel_is_socmed</th>\n",
              "      <th>data_channel_is_tech</th>\n",
              "      <th>data_channel_is_world</th>\n",
              "      <th>kw_min_min</th>\n",
              "      <th>kw_max_min</th>\n",
              "      <th>kw_avg_min</th>\n",
              "      <th>kw_min_max</th>\n",
              "      <th>kw_max_max</th>\n",
              "      <th>kw_avg_max</th>\n",
              "      <th>kw_min_avg</th>\n",
              "      <th>kw_max_avg</th>\n",
              "      <th>kw_avg_avg</th>\n",
              "      <th>self_reference_min_shares</th>\n",
              "      <th>self_reference_max_shares</th>\n",
              "      <th>self_reference_avg_sharess</th>\n",
              "      <th>weekday_is_monday</th>\n",
              "      <th>weekday_is_tuesday</th>\n",
              "      <th>weekday_is_wednesday</th>\n",
              "      <th>weekday_is_thursday</th>\n",
              "      <th>weekday_is_friday</th>\n",
              "      <th>weekday_is_saturday</th>\n",
              "      <th>weekday_is_sunday</th>\n",
              "      <th>is_weekend</th>\n",
              "      <th>LDA_00</th>\n",
              "      <th>LDA_01</th>\n",
              "      <th>LDA_02</th>\n",
              "      <th>LDA_03</th>\n",
              "      <th>LDA_04</th>\n",
              "      <th>global_subjectivity</th>\n",
              "      <th>global_sentiment_polarity</th>\n",
              "      <th>global_rate_positive_words</th>\n",
              "      <th>global_rate_negative_words</th>\n",
              "      <th>rate_positive_words</th>\n",
              "      <th>rate_negative_words</th>\n",
              "      <th>avg_positive_polarity</th>\n",
              "      <th>min_positive_polarity</th>\n",
              "      <th>max_positive_polarity</th>\n",
              "      <th>avg_negative_polarity</th>\n",
              "      <th>min_negative_polarity</th>\n",
              "      <th>max_negative_polarity</th>\n",
              "      <th>title_subjectivity</th>\n",
              "      <th>title_sentiment_polarity</th>\n",
              "      <th>abs_title_subjectivity</th>\n",
              "      <th>abs_title_sentiment_polarity</th>\n",
              "      <th>y</th>\n",
              "    </tr>\n",
              "  </thead>\n",
              "  <tbody>\n",
              "    <tr>\n",
              "      <th>0</th>\n",
              "      <td>12.0</td>\n",
              "      <td>219.0</td>\n",
              "      <td>0.663594</td>\n",
              "      <td>1.0</td>\n",
              "      <td>0.815385</td>\n",
              "      <td>4.0</td>\n",
              "      <td>2.0</td>\n",
              "      <td>1.0</td>\n",
              "      <td>0.0</td>\n",
              "      <td>4.680365</td>\n",
              "      <td>5.0</td>\n",
              "      <td>0.0</td>\n",
              "      <td>1.0</td>\n",
              "      <td>0.0</td>\n",
              "      <td>0.0</td>\n",
              "      <td>0.0</td>\n",
              "      <td>0.0</td>\n",
              "      <td>0.0</td>\n",
              "      <td>0.0</td>\n",
              "      <td>0.0</td>\n",
              "      <td>0.0</td>\n",
              "      <td>0.0</td>\n",
              "      <td>0.0</td>\n",
              "      <td>0.0</td>\n",
              "      <td>0.0</td>\n",
              "      <td>0.0</td>\n",
              "      <td>496.0</td>\n",
              "      <td>496.0</td>\n",
              "      <td>496.000000</td>\n",
              "      <td>1.0</td>\n",
              "      <td>0.0</td>\n",
              "      <td>0.0</td>\n",
              "      <td>0.0</td>\n",
              "      <td>0.0</td>\n",
              "      <td>0.0</td>\n",
              "      <td>0.0</td>\n",
              "      <td>0.0</td>\n",
              "      <td>0.500331</td>\n",
              "      <td>0.378279</td>\n",
              "      <td>0.040005</td>\n",
              "      <td>0.041263</td>\n",
              "      <td>0.040123</td>\n",
              "      <td>0.521617</td>\n",
              "      <td>0.092562</td>\n",
              "      <td>0.045662</td>\n",
              "      <td>0.013699</td>\n",
              "      <td>0.769231</td>\n",
              "      <td>0.230769</td>\n",
              "      <td>0.378636</td>\n",
              "      <td>0.100000</td>\n",
              "      <td>0.7</td>\n",
              "      <td>-0.350000</td>\n",
              "      <td>-0.600</td>\n",
              "      <td>-0.200000</td>\n",
              "      <td>0.500000</td>\n",
              "      <td>-0.187500</td>\n",
              "      <td>0.000000</td>\n",
              "      <td>0.187500</td>\n",
              "      <td>0</td>\n",
              "    </tr>\n",
              "    <tr>\n",
              "      <th>1</th>\n",
              "      <td>9.0</td>\n",
              "      <td>255.0</td>\n",
              "      <td>0.604743</td>\n",
              "      <td>1.0</td>\n",
              "      <td>0.791946</td>\n",
              "      <td>3.0</td>\n",
              "      <td>1.0</td>\n",
              "      <td>1.0</td>\n",
              "      <td>0.0</td>\n",
              "      <td>4.913725</td>\n",
              "      <td>4.0</td>\n",
              "      <td>0.0</td>\n",
              "      <td>0.0</td>\n",
              "      <td>1.0</td>\n",
              "      <td>0.0</td>\n",
              "      <td>0.0</td>\n",
              "      <td>0.0</td>\n",
              "      <td>0.0</td>\n",
              "      <td>0.0</td>\n",
              "      <td>0.0</td>\n",
              "      <td>0.0</td>\n",
              "      <td>0.0</td>\n",
              "      <td>0.0</td>\n",
              "      <td>0.0</td>\n",
              "      <td>0.0</td>\n",
              "      <td>0.0</td>\n",
              "      <td>0.0</td>\n",
              "      <td>0.0</td>\n",
              "      <td>0.000000</td>\n",
              "      <td>1.0</td>\n",
              "      <td>0.0</td>\n",
              "      <td>0.0</td>\n",
              "      <td>0.0</td>\n",
              "      <td>0.0</td>\n",
              "      <td>0.0</td>\n",
              "      <td>0.0</td>\n",
              "      <td>0.0</td>\n",
              "      <td>0.799756</td>\n",
              "      <td>0.050047</td>\n",
              "      <td>0.050096</td>\n",
              "      <td>0.050101</td>\n",
              "      <td>0.050001</td>\n",
              "      <td>0.341246</td>\n",
              "      <td>0.148948</td>\n",
              "      <td>0.043137</td>\n",
              "      <td>0.015686</td>\n",
              "      <td>0.733333</td>\n",
              "      <td>0.266667</td>\n",
              "      <td>0.286915</td>\n",
              "      <td>0.033333</td>\n",
              "      <td>0.7</td>\n",
              "      <td>-0.118750</td>\n",
              "      <td>-0.125</td>\n",
              "      <td>-0.100000</td>\n",
              "      <td>0.000000</td>\n",
              "      <td>0.000000</td>\n",
              "      <td>0.500000</td>\n",
              "      <td>0.000000</td>\n",
              "      <td>0</td>\n",
              "    </tr>\n",
              "    <tr>\n",
              "      <th>2</th>\n",
              "      <td>9.0</td>\n",
              "      <td>211.0</td>\n",
              "      <td>0.575130</td>\n",
              "      <td>1.0</td>\n",
              "      <td>0.663866</td>\n",
              "      <td>3.0</td>\n",
              "      <td>1.0</td>\n",
              "      <td>1.0</td>\n",
              "      <td>0.0</td>\n",
              "      <td>4.393365</td>\n",
              "      <td>6.0</td>\n",
              "      <td>0.0</td>\n",
              "      <td>0.0</td>\n",
              "      <td>1.0</td>\n",
              "      <td>0.0</td>\n",
              "      <td>0.0</td>\n",
              "      <td>0.0</td>\n",
              "      <td>0.0</td>\n",
              "      <td>0.0</td>\n",
              "      <td>0.0</td>\n",
              "      <td>0.0</td>\n",
              "      <td>0.0</td>\n",
              "      <td>0.0</td>\n",
              "      <td>0.0</td>\n",
              "      <td>0.0</td>\n",
              "      <td>0.0</td>\n",
              "      <td>918.0</td>\n",
              "      <td>918.0</td>\n",
              "      <td>918.000000</td>\n",
              "      <td>1.0</td>\n",
              "      <td>0.0</td>\n",
              "      <td>0.0</td>\n",
              "      <td>0.0</td>\n",
              "      <td>0.0</td>\n",
              "      <td>0.0</td>\n",
              "      <td>0.0</td>\n",
              "      <td>0.0</td>\n",
              "      <td>0.217792</td>\n",
              "      <td>0.033334</td>\n",
              "      <td>0.033351</td>\n",
              "      <td>0.033334</td>\n",
              "      <td>0.682188</td>\n",
              "      <td>0.702222</td>\n",
              "      <td>0.323333</td>\n",
              "      <td>0.056872</td>\n",
              "      <td>0.009479</td>\n",
              "      <td>0.857143</td>\n",
              "      <td>0.142857</td>\n",
              "      <td>0.495833</td>\n",
              "      <td>0.100000</td>\n",
              "      <td>1.0</td>\n",
              "      <td>-0.466667</td>\n",
              "      <td>-0.800</td>\n",
              "      <td>-0.133333</td>\n",
              "      <td>0.000000</td>\n",
              "      <td>0.000000</td>\n",
              "      <td>0.500000</td>\n",
              "      <td>0.000000</td>\n",
              "      <td>1</td>\n",
              "    </tr>\n",
              "    <tr>\n",
              "      <th>3</th>\n",
              "      <td>9.0</td>\n",
              "      <td>531.0</td>\n",
              "      <td>0.503788</td>\n",
              "      <td>1.0</td>\n",
              "      <td>0.665635</td>\n",
              "      <td>9.0</td>\n",
              "      <td>0.0</td>\n",
              "      <td>1.0</td>\n",
              "      <td>0.0</td>\n",
              "      <td>4.404896</td>\n",
              "      <td>7.0</td>\n",
              "      <td>0.0</td>\n",
              "      <td>1.0</td>\n",
              "      <td>0.0</td>\n",
              "      <td>0.0</td>\n",
              "      <td>0.0</td>\n",
              "      <td>0.0</td>\n",
              "      <td>0.0</td>\n",
              "      <td>0.0</td>\n",
              "      <td>0.0</td>\n",
              "      <td>0.0</td>\n",
              "      <td>0.0</td>\n",
              "      <td>0.0</td>\n",
              "      <td>0.0</td>\n",
              "      <td>0.0</td>\n",
              "      <td>0.0</td>\n",
              "      <td>0.0</td>\n",
              "      <td>0.0</td>\n",
              "      <td>0.000000</td>\n",
              "      <td>1.0</td>\n",
              "      <td>0.0</td>\n",
              "      <td>0.0</td>\n",
              "      <td>0.0</td>\n",
              "      <td>0.0</td>\n",
              "      <td>0.0</td>\n",
              "      <td>0.0</td>\n",
              "      <td>0.0</td>\n",
              "      <td>0.028573</td>\n",
              "      <td>0.419300</td>\n",
              "      <td>0.494651</td>\n",
              "      <td>0.028905</td>\n",
              "      <td>0.028572</td>\n",
              "      <td>0.429850</td>\n",
              "      <td>0.100705</td>\n",
              "      <td>0.041431</td>\n",
              "      <td>0.020716</td>\n",
              "      <td>0.666667</td>\n",
              "      <td>0.333333</td>\n",
              "      <td>0.385965</td>\n",
              "      <td>0.136364</td>\n",
              "      <td>0.8</td>\n",
              "      <td>-0.369697</td>\n",
              "      <td>-0.600</td>\n",
              "      <td>-0.166667</td>\n",
              "      <td>0.000000</td>\n",
              "      <td>0.000000</td>\n",
              "      <td>0.500000</td>\n",
              "      <td>0.000000</td>\n",
              "      <td>0</td>\n",
              "    </tr>\n",
              "    <tr>\n",
              "      <th>4</th>\n",
              "      <td>13.0</td>\n",
              "      <td>1072.0</td>\n",
              "      <td>0.415646</td>\n",
              "      <td>1.0</td>\n",
              "      <td>0.540890</td>\n",
              "      <td>19.0</td>\n",
              "      <td>19.0</td>\n",
              "      <td>20.0</td>\n",
              "      <td>0.0</td>\n",
              "      <td>4.682836</td>\n",
              "      <td>7.0</td>\n",
              "      <td>0.0</td>\n",
              "      <td>0.0</td>\n",
              "      <td>0.0</td>\n",
              "      <td>0.0</td>\n",
              "      <td>1.0</td>\n",
              "      <td>0.0</td>\n",
              "      <td>0.0</td>\n",
              "      <td>0.0</td>\n",
              "      <td>0.0</td>\n",
              "      <td>0.0</td>\n",
              "      <td>0.0</td>\n",
              "      <td>0.0</td>\n",
              "      <td>0.0</td>\n",
              "      <td>0.0</td>\n",
              "      <td>0.0</td>\n",
              "      <td>545.0</td>\n",
              "      <td>16000.0</td>\n",
              "      <td>3151.157895</td>\n",
              "      <td>1.0</td>\n",
              "      <td>0.0</td>\n",
              "      <td>0.0</td>\n",
              "      <td>0.0</td>\n",
              "      <td>0.0</td>\n",
              "      <td>0.0</td>\n",
              "      <td>0.0</td>\n",
              "      <td>0.0</td>\n",
              "      <td>0.028633</td>\n",
              "      <td>0.028794</td>\n",
              "      <td>0.028575</td>\n",
              "      <td>0.028572</td>\n",
              "      <td>0.885427</td>\n",
              "      <td>0.513502</td>\n",
              "      <td>0.281003</td>\n",
              "      <td>0.074627</td>\n",
              "      <td>0.012127</td>\n",
              "      <td>0.860215</td>\n",
              "      <td>0.139785</td>\n",
              "      <td>0.411127</td>\n",
              "      <td>0.033333</td>\n",
              "      <td>1.0</td>\n",
              "      <td>-0.220192</td>\n",
              "      <td>-0.500</td>\n",
              "      <td>-0.050000</td>\n",
              "      <td>0.454545</td>\n",
              "      <td>0.136364</td>\n",
              "      <td>0.045455</td>\n",
              "      <td>0.136364</td>\n",
              "      <td>0</td>\n",
              "    </tr>\n",
              "  </tbody>\n",
              "</table>\n",
              "</div>\n",
              "      <button class=\"colab-df-convert\" onclick=\"convertToInteractive('df-1dc8ff88-e60b-47fa-a6e4-810dedbedf05')\"\n",
              "              title=\"Convert this dataframe to an interactive table.\"\n",
              "              style=\"display:none;\">\n",
              "        \n",
              "  <svg xmlns=\"http://www.w3.org/2000/svg\" height=\"24px\"viewBox=\"0 0 24 24\"\n",
              "       width=\"24px\">\n",
              "    <path d=\"M0 0h24v24H0V0z\" fill=\"none\"/>\n",
              "    <path d=\"M18.56 5.44l.94 2.06.94-2.06 2.06-.94-2.06-.94-.94-2.06-.94 2.06-2.06.94zm-11 1L8.5 8.5l.94-2.06 2.06-.94-2.06-.94L8.5 2.5l-.94 2.06-2.06.94zm10 10l.94 2.06.94-2.06 2.06-.94-2.06-.94-.94-2.06-.94 2.06-2.06.94z\"/><path d=\"M17.41 7.96l-1.37-1.37c-.4-.4-.92-.59-1.43-.59-.52 0-1.04.2-1.43.59L10.3 9.45l-7.72 7.72c-.78.78-.78 2.05 0 2.83L4 21.41c.39.39.9.59 1.41.59.51 0 1.02-.2 1.41-.59l7.78-7.78 2.81-2.81c.8-.78.8-2.07 0-2.86zM5.41 20L4 18.59l7.72-7.72 1.47 1.35L5.41 20z\"/>\n",
              "  </svg>\n",
              "      </button>\n",
              "      \n",
              "  <style>\n",
              "    .colab-df-container {\n",
              "      display:flex;\n",
              "      flex-wrap:wrap;\n",
              "      gap: 12px;\n",
              "    }\n",
              "\n",
              "    .colab-df-convert {\n",
              "      background-color: #E8F0FE;\n",
              "      border: none;\n",
              "      border-radius: 50%;\n",
              "      cursor: pointer;\n",
              "      display: none;\n",
              "      fill: #1967D2;\n",
              "      height: 32px;\n",
              "      padding: 0 0 0 0;\n",
              "      width: 32px;\n",
              "    }\n",
              "\n",
              "    .colab-df-convert:hover {\n",
              "      background-color: #E2EBFA;\n",
              "      box-shadow: 0px 1px 2px rgba(60, 64, 67, 0.3), 0px 1px 3px 1px rgba(60, 64, 67, 0.15);\n",
              "      fill: #174EA6;\n",
              "    }\n",
              "\n",
              "    [theme=dark] .colab-df-convert {\n",
              "      background-color: #3B4455;\n",
              "      fill: #D2E3FC;\n",
              "    }\n",
              "\n",
              "    [theme=dark] .colab-df-convert:hover {\n",
              "      background-color: #434B5C;\n",
              "      box-shadow: 0px 1px 3px 1px rgba(0, 0, 0, 0.15);\n",
              "      filter: drop-shadow(0px 1px 2px rgba(0, 0, 0, 0.3));\n",
              "      fill: #FFFFFF;\n",
              "    }\n",
              "  </style>\n",
              "\n",
              "      <script>\n",
              "        const buttonEl =\n",
              "          document.querySelector('#df-1dc8ff88-e60b-47fa-a6e4-810dedbedf05 button.colab-df-convert');\n",
              "        buttonEl.style.display =\n",
              "          google.colab.kernel.accessAllowed ? 'block' : 'none';\n",
              "\n",
              "        async function convertToInteractive(key) {\n",
              "          const element = document.querySelector('#df-1dc8ff88-e60b-47fa-a6e4-810dedbedf05');\n",
              "          const dataTable =\n",
              "            await google.colab.kernel.invokeFunction('convertToInteractive',\n",
              "                                                     [key], {});\n",
              "          if (!dataTable) return;\n",
              "\n",
              "          const docLinkHtml = 'Like what you see? Visit the ' +\n",
              "            '<a target=\"_blank\" href=https://colab.research.google.com/notebooks/data_table.ipynb>data table notebook</a>'\n",
              "            + ' to learn more about interactive tables.';\n",
              "          element.innerHTML = '';\n",
              "          dataTable['output_type'] = 'display_data';\n",
              "          await google.colab.output.renderOutput(dataTable, element);\n",
              "          const docLink = document.createElement('div');\n",
              "          docLink.innerHTML = docLinkHtml;\n",
              "          element.appendChild(docLink);\n",
              "        }\n",
              "      </script>\n",
              "    </div>\n",
              "  </div>\n",
              "  "
            ]
          },
          "metadata": {},
          "execution_count": 20
        }
      ],
      "source": [
        "# Dividing the shares into 2 types by median to create the classification machine learnining model\n",
        "\n",
        "def assign_y(row):\n",
        "  if row[' shares']<=1400:\n",
        "    y=0\n",
        "  else :\n",
        "    y=1 \n",
        "  return y\n",
        "\n",
        "df3 = df2\n",
        "df3['y'] = df3.apply (lambda row: assign_y(row), axis=1)\n",
        "df4 = df3.drop([' shares'],axis=1)\n",
        "\n",
        "df4.head()"
      ]
    },
    {
      "cell_type": "code",
      "execution_count": 21,
      "metadata": {
        "colab": {
          "base_uri": "https://localhost:8080/"
        },
        "id": "195na1WZdTVz",
        "outputId": "1fe29207-8d6a-4452-f95a-7978ff94bd8f"
      },
      "outputs": [
        {
          "output_type": "stream",
          "name": "stdout",
          "text": [
            "Raw:  (39644, 61)\n",
            "Cleaned:  (39644, 59)\n"
          ]
        }
      ],
      "source": [
        "print('Raw: ', df.shape)\n",
        "print('Cleaned: ', df4.shape)"
      ]
    },
    {
      "cell_type": "code",
      "execution_count": 22,
      "metadata": {
        "colab": {
          "base_uri": "https://localhost:8080/",
          "height": 487
        },
        "id": "hxToTeRVn16r",
        "outputId": "cf30e5b0-e9fc-42b4-8de7-374ce6514512"
      },
      "outputs": [
        {
          "output_type": "display_data",
          "data": {
            "text/plain": [
              "<Figure size 1000x500 with 1 Axes>"
            ],
            "image/png": "[encoded data removed]"
          },
          "metadata": {}
        }
      ],
      "source": [
        "lifestyle = sum(df4[' data_channel_is_lifestyle'])\n",
        "entertainment = sum(df4[' data_channel_is_entertainment'])\n",
        "business = sum(df4[' data_channel_is_bus'])\n",
        "social_media = sum(df4[' data_channel_is_socmed'])\n",
        "tech = sum(df4[' data_channel_is_tech'])\n",
        "world = sum(df4[' data_channel_is_world'])\n",
        "other = df4[df4[' data_channel_is_lifestyle'] == 0]\n",
        "post_type = {'lifestyle': lifestyle, 'entertainment': entertainment, 'business': business, 'social_media': social_media, 'tech': tech, 'world': world}\n",
        "\n",
        "df = df[df[' n_tokens_content'] != 0]\n",
        "\n",
        "pt = list(post_type.keys())\n",
        "values = list(post_type.values())\n",
        "  \n",
        "fig = plt.figure(figsize = (10, 5))\n",
        " \n",
        "# creating the bar plot\n",
        "plt.bar(pt, values, color ='deepskyblue', width = 0.5)\n",
        " \n",
        "plt.xlabel(\"Type\")\n",
        "plt.ylabel(\"The number of post\")\n",
        "plt.title(\"Type of posts\")\n",
        "plt.show()"
      ]
    },
    {
      "cell_type": "code",
      "execution_count": 23,
      "metadata": {
        "colab": {
          "base_uri": "https://localhost:8080/",
          "height": 487
        },
        "id": "Ayjok5eun6CC",
        "outputId": "c0615b5b-73a6-4bb9-bb67-83798bc56be7"
      },
      "outputs": [
        {
          "output_type": "display_data",
          "data": {
            "text/plain": [
              "<Figure size 1000x500 with 1 Axes>"
            ],
            "image/png": "[encoded data removed]"
          },
          "metadata": {}
        }
      ],
      "source": [
        "Mon = sum(df4[' weekday_is_monday'])\n",
        "Tue = sum(df4[' weekday_is_tuesday'])\n",
        "Wed = sum(df4[' weekday_is_wednesday'])\n",
        "Thu = sum(df4[' weekday_is_thursday'])\n",
        "Fri = sum(df4[' weekday_is_friday'])\n",
        "Sat = sum(df4[' weekday_is_saturday'])\n",
        "Sun = sum(df4[' weekday_is_sunday'])\n",
        "\n",
        "Day = {'Mon': Mon, 'Tue': Tue, 'Wed': Wed, 'Thu': Thu, 'Fri': Fri, 'Sat': Sat, 'Sun': Sun}\n",
        "\n",
        "\n",
        "\n",
        "days = list(Day.keys())\n",
        "values = list(Day.values())\n",
        "  \n",
        "fig = plt.figure(figsize = (10, 5))\n",
        " \n",
        "# creating the bar plot\n",
        "plt.bar(days, values, color ='salmon', width = 0.5)\n",
        " \n",
        "plt.xlabel(\"Day\")\n",
        "plt.ylabel(\"The number of post\")\n",
        "plt.title(\"Day posted in week\")\n",
        "plt.show()"
      ]
    },
    {
      "cell_type": "code",
      "execution_count": 24,
      "metadata": {
        "id": "MW155X-s2FXL"
      },
      "outputs": [],
      "source": [
        "Y=df4['y'].values\n",
        "X=df4[df4.columns.drop(['y'])].values\n",
        "X_train, X_test, y_train, y_test = train_test_split(X, Y, test_size=0.3, stratify=Y,random_state=123) # 70% training and 30% test"
      ]
    },
    {
      "cell_type": "code",
      "execution_count": 25,
      "metadata": {
        "colab": {
          "base_uri": "https://localhost:8080/"
        },
        "id": "Pt0Vd-S_4NDQ",
        "outputId": "df7e40b7-a85e-444e-fbb8-521b8e2e83ac"
      },
      "outputs": [
        {
          "output_type": "execute_result",
          "data": {
            "text/plain": [
              "0    20082\n",
              "1    19562\n",
              "Name: y, dtype: int64"
            ]
          },
          "metadata": {},
          "execution_count": 25
        }
      ],
      "source": [
        "df4['y'].value_counts()"
      ]
    },
    {
      "cell_type": "markdown",
      "metadata": {
        "id": "eseSsd1M9TlE"
      },
      "source": [
        "# **Decision Tree Classifier**"
      ]
    },
    {
      "cell_type": "code",
      "execution_count": 26,
      "metadata": {
        "colab": {
          "base_uri": "https://localhost:8080/",
          "height": 75
        },
        "id": "EFEtIF6S4X_y",
        "outputId": "93deda8b-fbc9-4095-cfcd-10b54deb96fb"
      },
      "outputs": [
        {
          "output_type": "execute_result",
          "data": {
            "text/plain": [
              "DecisionTreeClassifier()"
            ],
            "text/html": [
              "<style>#sk-container-id-1 {color: black;background-color: white;}#sk-container-id-1 pre{padding: 0;}#sk-container-id-1 div.sk-toggleable {background-color: white;}#sk-container-id-1 label.sk-toggleable__label {cursor: pointer;display: block;width: 100%;margin-bottom: 0;padding: 0.3em;box-sizing: border-box;text-align: center;}#sk-container-id-1 label.sk-toggleable__label-arrow:before {content: \"▸\";float: left;margin-right: 0.25em;color: #696969;}#sk-container-id-1 label.sk-toggleable__label-arrow:hover:before {color: black;}#sk-container-id-1 div.sk-estimator:hover label.sk-toggleable__label-arrow:before {color: black;}#sk-container-id-1 div.sk-toggleable__content {max-height: 0;max-width: 0;overflow: hidden;text-align: left;background-color: #f0f8ff;}#sk-container-id-1 div.sk-toggleable__content pre {margin: 0.2em;color: black;border-radius: 0.25em;background-color: #f0f8ff;}#sk-container-id-1 input.sk-toggleable__control:checked~div.sk-toggleable__content {max-height: 200px;max-width: 100%;overflow: auto;}#sk-container-id-1 input.sk-toggleable__control:checked~label.sk-toggleable__label-arrow:before {content: \"▾\";}#sk-container-id-1 div.sk-estimator input.sk-toggleable__control:checked~label.sk-toggleable__label {background-color: #d4ebff;}#sk-container-id-1 div.sk-label input.sk-toggleable__control:checked~label.sk-toggleable__label {background-color: #d4ebff;}#sk-container-id-1 input.sk-hidden--visually {border: 0;clip: rect(1px 1px 1px 1px);clip: rect(1px, 1px, 1px, 1px);height: 1px;margin: -1px;overflow: hidden;padding: 0;position: absolute;width: 1px;}#sk-container-id-1 div.sk-estimator {font-family: monospace;background-color: #f0f8ff;border: 1px dotted black;border-radius: 0.25em;box-sizing: border-box;margin-bottom: 0.5em;}#sk-container-id-1 div.sk-estimator:hover {background-color: #d4ebff;}#sk-container-id-1 div.sk-parallel-item::after {content: \"\";width: 100%;border-bottom: 1px solid gray;flex-grow: 1;}#sk-container-id-1 div.sk-label:hover label.sk-toggleable__label {background-color: #d4ebff;}#sk-container-id-1 div.sk-serial::before {content: \"\";position: absolute;border-left: 1px solid gray;box-sizing: border-box;top: 0;bottom: 0;left: 50%;z-index: 0;}#sk-container-id-1 div.sk-serial {display: flex;flex-direction: column;align-items: center;background-color: white;padding-right: 0.2em;padding-left: 0.2em;position: relative;}#sk-container-id-1 div.sk-item {position: relative;z-index: 1;}#sk-container-id-1 div.sk-parallel {display: flex;align-items: stretch;justify-content: center;background-color: white;position: relative;}#sk-container-id-1 div.sk-item::before, #sk-container-id-1 div.sk-parallel-item::before {content: \"\";position: absolute;border-left: 1px solid gray;box-sizing: border-box;top: 0;bottom: 0;left: 50%;z-index: -1;}#sk-container-id-1 div.sk-parallel-item {display: flex;flex-direction: column;z-index: 1;position: relative;background-color: white;}#sk-container-id-1 div.sk-parallel-item:first-child::after {align-self: flex-end;width: 50%;}#sk-container-id-1 div.sk-parallel-item:last-child::after {align-self: flex-start;width: 50%;}#sk-container-id-1 div.sk-parallel-item:only-child::after {width: 0;}#sk-container-id-1 div.sk-dashed-wrapped {border: 1px dashed gray;margin: 0 0.4em 0.5em 0.4em;box-sizing: border-box;padding-bottom: 0.4em;background-color: white;}#sk-container-id-1 div.sk-label label {font-family: monospace;font-weight: bold;display: inline-block;line-height: 1.2em;}#sk-container-id-1 div.sk-label-container {text-align: center;}#sk-container-id-1 div.sk-container {/* jupyter's `normalize.less` sets `[hidden] { display: none; }` but bootstrap.min.css set `[hidden] { display: none !important; }` so we also need the `!important` here to be able to override the default hidden behavior on the sphinx rendered scikit-learn.org. See: https://github.com/scikit-learn/scikit-learn/issues/21755 */display: inline-block !important;position: relative;}#sk-container-id-1 div.sk-text-repr-fallback {display: none;}</style><div id=\"sk-container-id-1\" class=\"sk-top-container\"><div class=\"sk-text-repr-fallback\"><pre>DecisionTreeClassifier()</pre><b>In a Jupyter environment, please rerun this cell to show the HTML representation or trust the notebook. <br />On GitHub, the HTML representation is unable to render, please try loading this page with nbviewer.org.</b></div><div class=\"sk-container\" hidden><div class=\"sk-item\"><div class=\"sk-estimator sk-toggleable\"><input class=\"sk-toggleable__control sk-hidden--visually\" id=\"sk-estimator-id-1\" type=\"checkbox\" checked><label for=\"sk-estimator-id-1\" class=\"sk-toggleable__label sk-toggleable__label-arrow\">DecisionTreeClassifier</label><div class=\"sk-toggleable__content\"><pre>DecisionTreeClassifier()</pre></div></div></div></div></div>"
            ]
          },
          "metadata": {},
          "execution_count": 26
        }
      ],
      "source": [
        "from sklearn.tree import DecisionTreeClassifier\n",
        "clf = DecisionTreeClassifier(criterion='gini', splitter='best', max_depth=None, max_features=None, \n",
        "                             )\n",
        "clf.fit(X_train,y_train)"
      ]
    },
    {
      "cell_type": "code",
      "execution_count": 27,
      "metadata": {
        "id": "VZuGtit95MG3"
      },
      "outputs": [],
      "source": [
        "pred=clf.predict(X_test)"
      ]
    },
    {
      "cell_type": "code",
      "execution_count": 28,
      "metadata": {
        "colab": {
          "base_uri": "https://localhost:8080/"
        },
        "id": "FH4zAwBS5bml",
        "outputId": "e563f11e-f213-4acb-fddd-8620685bc180"
      },
      "outputs": [
        {
          "output_type": "stream",
          "name": "stdout",
          "text": [
            "              precision    recall  f1-score   support\n",
            "\n",
            "           0       0.58      0.59      0.59      6025\n",
            "           1       0.57      0.55      0.56      5869\n",
            "\n",
            "    accuracy                           0.57     11894\n",
            "   macro avg       0.57      0.57      0.57     11894\n",
            "weighted avg       0.57      0.57      0.57     11894\n",
            "\n"
          ]
        }
      ],
      "source": [
        "from sklearn.metrics import classification_report\n",
        "print(classification_report(y_test, pred))"
      ]
    },
    {
      "cell_type": "code",
      "execution_count": 29,
      "metadata": {
        "id": "wL-q_WqS7QGX"
      },
      "outputs": [],
      "source": [
        "param_grid = {'criterion':['gini','entropy'],'splitter':['best','random'],'max_depth': [ 3,  4,  5,  6,  7,  8,  9, 10, 11, 12, 13, 14],'max_features':[\"sqrt\", \"log2\"]}"
      ]
    },
    {
      "cell_type": "code",
      "execution_count": 30,
      "metadata": {
        "colab": {
          "base_uri": "https://localhost:8080/",
          "height": 117
        },
        "id": "vCePQOxy7sPb",
        "outputId": "cc68efa2-ba89-49dc-960f-055ca013a7c8"
      },
      "outputs": [
        {
          "output_type": "execute_result",
          "data": {
            "text/plain": [
              "GridSearchCV(cv=5, estimator=DecisionTreeClassifier(),\n",
              "             param_grid={'criterion': ['gini', 'entropy'],\n",
              "                         'max_depth': [3, 4, 5, 6, 7, 8, 9, 10, 11, 12, 13, 14],\n",
              "                         'max_features': ['sqrt', 'log2'],\n",
              "                         'splitter': ['best', 'random']})"
            ],
            "text/html": [
              "<style>#sk-container-id-2 {color: black;background-color: white;}#sk-container-id-2 pre{padding: 0;}#sk-container-id-2 div.sk-toggleable {background-color: white;}#sk-container-id-2 label.sk-toggleable__label {cursor: pointer;display: block;width: 100%;margin-bottom: 0;padding: 0.3em;box-sizing: border-box;text-align: center;}#sk-container-id-2 label.sk-toggleable__label-arrow:before {content: \"▸\";float: left;margin-right: 0.25em;color: #696969;}#sk-container-id-2 label.sk-toggleable__label-arrow:hover:before {color: black;}#sk-container-id-2 div.sk-estimator:hover label.sk-toggleable__label-arrow:before {color: black;}#sk-container-id-2 div.sk-toggleable__content {max-height: 0;max-width: 0;overflow: hidden;text-align: left;background-color: #f0f8ff;}#sk-container-id-2 div.sk-toggleable__content pre {margin: 0.2em;color: black;border-radius: 0.25em;background-color: #f0f8ff;}#sk-container-id-2 input.sk-toggleable__control:checked~div.sk-toggleable__content {max-height: 200px;max-width: 100%;overflow: auto;}#sk-container-id-2 input.sk-toggleable__control:checked~label.sk-toggleable__label-arrow:before {content: \"▾\";}#sk-container-id-2 div.sk-estimator input.sk-toggleable__control:checked~label.sk-toggleable__label {background-color: #d4ebff;}#sk-container-id-2 div.sk-label input.sk-toggleable__control:checked~label.sk-toggleable__label {background-color: #d4ebff;}#sk-container-id-2 input.sk-hidden--visually {border: 0;clip: rect(1px 1px 1px 1px);clip: rect(1px, 1px, 1px, 1px);height: 1px;margin: -1px;overflow: hidden;padding: 0;position: absolute;width: 1px;}#sk-container-id-2 div.sk-estimator {font-family: monospace;background-color: #f0f8ff;border: 1px dotted black;border-radius: 0.25em;box-sizing: border-box;margin-bottom: 0.5em;}#sk-container-id-2 div.sk-estimator:hover {background-color: #d4ebff;}#sk-container-id-2 div.sk-parallel-item::after {content: \"\";width: 100%;border-bottom: 1px solid gray;flex-grow: 1;}#sk-container-id-2 div.sk-label:hover label.sk-toggleable__label {background-color: #d4ebff;}#sk-container-id-2 div.sk-serial::before {content: \"\";position: absolute;border-left: 1px solid gray;box-sizing: border-box;top: 0;bottom: 0;left: 50%;z-index: 0;}#sk-container-id-2 div.sk-serial {display: flex;flex-direction: column;align-items: center;background-color: white;padding-right: 0.2em;padding-left: 0.2em;position: relative;}#sk-container-id-2 div.sk-item {position: relative;z-index: 1;}#sk-container-id-2 div.sk-parallel {display: flex;align-items: stretch;justify-content: center;background-color: white;position: relative;}#sk-container-id-2 div.sk-item::before, #sk-container-id-2 div.sk-parallel-item::before {content: \"\";position: absolute;border-left: 1px solid gray;box-sizing: border-box;top: 0;bottom: 0;left: 50%;z-index: -1;}#sk-container-id-2 div.sk-parallel-item {display: flex;flex-direction: column;z-index: 1;position: relative;background-color: white;}#sk-container-id-2 div.sk-parallel-item:first-child::after {align-self: flex-end;width: 50%;}#sk-container-id-2 div.sk-parallel-item:last-child::after {align-self: flex-start;width: 50%;}#sk-container-id-2 div.sk-parallel-item:only-child::after {width: 0;}#sk-container-id-2 div.sk-dashed-wrapped {border: 1px dashed gray;margin: 0 0.4em 0.5em 0.4em;box-sizing: border-box;padding-bottom: 0.4em;background-color: white;}#sk-container-id-2 div.sk-label label {font-family: monospace;font-weight: bold;display: inline-block;line-height: 1.2em;}#sk-container-id-2 div.sk-label-container {text-align: center;}#sk-container-id-2 div.sk-container {/* jupyter's `normalize.less` sets `[hidden] { display: none; }` but bootstrap.min.css set `[hidden] { display: none !important; }` so we also need the `!important` here to be able to override the default hidden behavior on the sphinx rendered scikit-learn.org. See: https://github.com/scikit-learn/scikit-learn/issues/21755 */display: inline-block !important;position: relative;}#sk-container-id-2 div.sk-text-repr-fallback {display: none;}</style><div id=\"sk-container-id-2\" class=\"sk-top-container\"><div class=\"sk-text-repr-fallback\"><pre>GridSearchCV(cv=5, estimator=DecisionTreeClassifier(),\n",
              "             param_grid={&#x27;criterion&#x27;: [&#x27;gini&#x27;, &#x27;entropy&#x27;],\n",
              "                         &#x27;max_depth&#x27;: [3, 4, 5, 6, 7, 8, 9, 10, 11, 12, 13, 14],\n",
              "                         &#x27;max_features&#x27;: [&#x27;sqrt&#x27;, &#x27;log2&#x27;],\n",
              "                         &#x27;splitter&#x27;: [&#x27;best&#x27;, &#x27;random&#x27;]})</pre><b>In a Jupyter environment, please rerun this cell to show the HTML representation or trust the notebook. <br />On GitHub, the HTML representation is unable to render, please try loading this page with nbviewer.org.</b></div><div class=\"sk-container\" hidden><div class=\"sk-item sk-dashed-wrapped\"><div class=\"sk-label-container\"><div class=\"sk-label sk-toggleable\"><input class=\"sk-toggleable__control sk-hidden--visually\" id=\"sk-estimator-id-2\" type=\"checkbox\" ><label for=\"sk-estimator-id-2\" class=\"sk-toggleable__label sk-toggleable__label-arrow\">GridSearchCV</label><div class=\"sk-toggleable__content\"><pre>GridSearchCV(cv=5, estimator=DecisionTreeClassifier(),\n",
              "             param_grid={&#x27;criterion&#x27;: [&#x27;gini&#x27;, &#x27;entropy&#x27;],\n",
              "                         &#x27;max_depth&#x27;: [3, 4, 5, 6, 7, 8, 9, 10, 11, 12, 13, 14],\n",
              "                         &#x27;max_features&#x27;: [&#x27;sqrt&#x27;, &#x27;log2&#x27;],\n",
              "                         &#x27;splitter&#x27;: [&#x27;best&#x27;, &#x27;random&#x27;]})</pre></div></div></div><div class=\"sk-parallel\"><div class=\"sk-parallel-item\"><div class=\"sk-item\"><div class=\"sk-label-container\"><div class=\"sk-label sk-toggleable\"><input class=\"sk-toggleable__control sk-hidden--visually\" id=\"sk-estimator-id-3\" type=\"checkbox\" ><label for=\"sk-estimator-id-3\" class=\"sk-toggleable__label sk-toggleable__label-arrow\">estimator: DecisionTreeClassifier</label><div class=\"sk-toggleable__content\"><pre>DecisionTreeClassifier()</pre></div></div></div><div class=\"sk-serial\"><div class=\"sk-item\"><div class=\"sk-estimator sk-toggleable\"><input class=\"sk-toggleable__control sk-hidden--visually\" id=\"sk-estimator-id-4\" type=\"checkbox\" ><label for=\"sk-estimator-id-4\" class=\"sk-toggleable__label sk-toggleable__label-arrow\">DecisionTreeClassifier</label><div class=\"sk-toggleable__content\"><pre>DecisionTreeClassifier()</pre></div></div></div></div></div></div></div></div></div></div>"
            ]
          },
          "metadata": {},
          "execution_count": 30
        }
      ],
      "source": [
        "clf=DecisionTreeClassifier()\n",
        "dtree_gscv = GridSearchCV(clf, param_grid, cv=5)\n",
        "dtree_gscv.fit(X_train,y_train)\n"
      ]
    },
    {
      "cell_type": "code",
      "execution_count": 31,
      "metadata": {
        "colab": {
          "base_uri": "https://localhost:8080/"
        },
        "id": "-MRz6o3V75Tf",
        "outputId": "d02a9eea-d80d-4dd1-aaab-6a701d975ee8"
      },
      "outputs": [
        {
          "output_type": "execute_result",
          "data": {
            "text/plain": [
              "{'criterion': 'gini',\n",
              " 'max_depth': 7,\n",
              " 'max_features': 'log2',\n",
              " 'splitter': 'best'}"
            ]
          },
          "metadata": {},
          "execution_count": 31
        }
      ],
      "source": [
        "dtree_gscv.best_params_"
      ]
    },
    {
      "cell_type": "code",
      "execution_count": 32,
      "metadata": {
        "colab": {
          "base_uri": "https://localhost:8080/",
          "height": 92
        },
        "id": "fHlRkuOX5vpG",
        "outputId": "a90b7b06-e74c-47a0-ab10-f27ef71278ca"
      },
      "outputs": [
        {
          "output_type": "execute_result",
          "data": {
            "text/plain": [
              "DecisionTreeClassifier(criterion='entropy', max_depth=10, max_features='log2',\n",
              "                       splitter='random')"
            ],
            "text/html": [
              "<style>#sk-container-id-3 {color: black;background-color: white;}#sk-container-id-3 pre{padding: 0;}#sk-container-id-3 div.sk-toggleable {background-color: white;}#sk-container-id-3 label.sk-toggleable__label {cursor: pointer;display: block;width: 100%;margin-bottom: 0;padding: 0.3em;box-sizing: border-box;text-align: center;}#sk-container-id-3 label.sk-toggleable__label-arrow:before {content: \"▸\";float: left;margin-right: 0.25em;color: #696969;}#sk-container-id-3 label.sk-toggleable__label-arrow:hover:before {color: black;}#sk-container-id-3 div.sk-estimator:hover label.sk-toggleable__label-arrow:before {color: black;}#sk-container-id-3 div.sk-toggleable__content {max-height: 0;max-width: 0;overflow: hidden;text-align: left;background-color: #f0f8ff;}#sk-container-id-3 div.sk-toggleable__content pre {margin: 0.2em;color: black;border-radius: 0.25em;background-color: #f0f8ff;}#sk-container-id-3 input.sk-toggleable__control:checked~div.sk-toggleable__content {max-height: 200px;max-width: 100%;overflow: auto;}#sk-container-id-3 input.sk-toggleable__control:checked~label.sk-toggleable__label-arrow:before {content: \"▾\";}#sk-container-id-3 div.sk-estimator input.sk-toggleable__control:checked~label.sk-toggleable__label {background-color: #d4ebff;}#sk-container-id-3 div.sk-label input.sk-toggleable__control:checked~label.sk-toggleable__label {background-color: #d4ebff;}#sk-container-id-3 input.sk-hidden--visually {border: 0;clip: rect(1px 1px 1px 1px);clip: rect(1px, 1px, 1px, 1px);height: 1px;margin: -1px;overflow: hidden;padding: 0;position: absolute;width: 1px;}#sk-container-id-3 div.sk-estimator {font-family: monospace;background-color: #f0f8ff;border: 1px dotted black;border-radius: 0.25em;box-sizing: border-box;margin-bottom: 0.5em;}#sk-container-id-3 div.sk-estimator:hover {background-color: #d4ebff;}#sk-container-id-3 div.sk-parallel-item::after {content: \"\";width: 100%;border-bottom: 1px solid gray;flex-grow: 1;}#sk-container-id-3 div.sk-label:hover label.sk-toggleable__label {background-color: #d4ebff;}#sk-container-id-3 div.sk-serial::before {content: \"\";position: absolute;border-left: 1px solid gray;box-sizing: border-box;top: 0;bottom: 0;left: 50%;z-index: 0;}#sk-container-id-3 div.sk-serial {display: flex;flex-direction: column;align-items: center;background-color: white;padding-right: 0.2em;padding-left: 0.2em;position: relative;}#sk-container-id-3 div.sk-item {position: relative;z-index: 1;}#sk-container-id-3 div.sk-parallel {display: flex;align-items: stretch;justify-content: center;background-color: white;position: relative;}#sk-container-id-3 div.sk-item::before, #sk-container-id-3 div.sk-parallel-item::before {content: \"\";position: absolute;border-left: 1px solid gray;box-sizing: border-box;top: 0;bottom: 0;left: 50%;z-index: -1;}#sk-container-id-3 div.sk-parallel-item {display: flex;flex-direction: column;z-index: 1;position: relative;background-color: white;}#sk-container-id-3 div.sk-parallel-item:first-child::after {align-self: flex-end;width: 50%;}#sk-container-id-3 div.sk-parallel-item:last-child::after {align-self: flex-start;width: 50%;}#sk-container-id-3 div.sk-parallel-item:only-child::after {width: 0;}#sk-container-id-3 div.sk-dashed-wrapped {border: 1px dashed gray;margin: 0 0.4em 0.5em 0.4em;box-sizing: border-box;padding-bottom: 0.4em;background-color: white;}#sk-container-id-3 div.sk-label label {font-family: monospace;font-weight: bold;display: inline-block;line-height: 1.2em;}#sk-container-id-3 div.sk-label-container {text-align: center;}#sk-container-id-3 div.sk-container {/* jupyter's `normalize.less` sets `[hidden] { display: none; }` but bootstrap.min.css set `[hidden] { display: none !important; }` so we also need the `!important` here to be able to override the default hidden behavior on the sphinx rendered scikit-learn.org. See: https://github.com/scikit-learn/scikit-learn/issues/21755 */display: inline-block !important;position: relative;}#sk-container-id-3 div.sk-text-repr-fallback {display: none;}</style><div id=\"sk-container-id-3\" class=\"sk-top-container\"><div class=\"sk-text-repr-fallback\"><pre>DecisionTreeClassifier(criterion=&#x27;entropy&#x27;, max_depth=10, max_features=&#x27;log2&#x27;,\n",
              "                       splitter=&#x27;random&#x27;)</pre><b>In a Jupyter environment, please rerun this cell to show the HTML representation or trust the notebook. <br />On GitHub, the HTML representation is unable to render, please try loading this page with nbviewer.org.</b></div><div class=\"sk-container\" hidden><div class=\"sk-item\"><div class=\"sk-estimator sk-toggleable\"><input class=\"sk-toggleable__control sk-hidden--visually\" id=\"sk-estimator-id-5\" type=\"checkbox\" checked><label for=\"sk-estimator-id-5\" class=\"sk-toggleable__label sk-toggleable__label-arrow\">DecisionTreeClassifier</label><div class=\"sk-toggleable__content\"><pre>DecisionTreeClassifier(criterion=&#x27;entropy&#x27;, max_depth=10, max_features=&#x27;log2&#x27;,\n",
              "                       splitter=&#x27;random&#x27;)</pre></div></div></div></div></div>"
            ]
          },
          "metadata": {},
          "execution_count": 32
        }
      ],
      "source": [
        "clf = DecisionTreeClassifier(criterion='entropy', splitter='random', max_depth=10, max_features='log2', \n",
        "                             )\n",
        "clf.fit(X_train,y_train)"
      ]
    },
    {
      "cell_type": "code",
      "execution_count": 33,
      "metadata": {
        "colab": {
          "base_uri": "https://localhost:8080/"
        },
        "id": "V0yPqoUw8yez",
        "outputId": "aa8b88a4-3fad-4961-e33a-3ddab714eb68"
      },
      "outputs": [
        {
          "output_type": "stream",
          "name": "stdout",
          "text": [
            "              precision    recall  f1-score   support\n",
            "\n",
            "           0       0.61      0.65      0.63      6025\n",
            "           1       0.61      0.58      0.59      5869\n",
            "\n",
            "    accuracy                           0.61     11894\n",
            "   macro avg       0.61      0.61      0.61     11894\n",
            "weighted avg       0.61      0.61      0.61     11894\n",
            "\n"
          ]
        }
      ],
      "source": [
        "pred=clf.predict(X_test)\n",
        "from sklearn.metrics import classification_report\n",
        "print(classification_report(y_test, pred))"
      ]
    },
    {
      "cell_type": "markdown",
      "metadata": {
        "id": "0Qgxrk5S3LB4"
      },
      "source": [
        "# **Machine learning classification**"
      ]
    },
    {
      "cell_type": "markdown",
      "metadata": {
        "id": "FPnnGiDQ3Vo4"
      },
      "source": [
        "## **Baseline model: Logistic Regresstion**"
      ]
    },
    {
      "cell_type": "code",
      "execution_count": 34,
      "metadata": {
        "colab": {
          "base_uri": "https://localhost:8080/"
        },
        "id": "RfCFM19J3s49",
        "outputId": "e0683cb8-1d9a-4440-af94-a6e9cb9fa644"
      },
      "outputs": [
        {
          "output_type": "stream",
          "name": "stdout",
          "text": [
            "The accuracy of logistic regression for training dataset is  0.6\n",
            "The accuracy of logistic regression for testing dataset is  0.5999663695981167\n"
          ]
        }
      ],
      "source": [
        "logistic = LogisticRegression(solver='liblinear', multi_class='ovr', random_state=0)\n",
        "logistic.fit(X_train, y_train)\n",
        "warnings.filterwarnings('ignore')\n",
        "logistic_ypred = logistic.predict(X_test)\n",
        "print('The accuracy of logistic regression for training dataset is ', logistic.score(X_train, y_train))\n",
        "print('The accuracy of logistic regression for testing dataset is ', logistic.score(X_test, y_test))"
      ]
    },
    {
      "cell_type": "code",
      "execution_count": 35,
      "metadata": {
        "id": "ITnxpxiL7ViA"
      },
      "outputs": [],
      "source": [
        "pred = logistic.predict_proba(X_test)"
      ]
    },
    {
      "cell_type": "code",
      "execution_count": 36,
      "metadata": {
        "id": "RD55X0wzFcaI"
      },
      "outputs": [],
      "source": [
        "# Model after tuning\n",
        "logistic_t = LogisticRegression(C = 1.0, solver='newton-cg', penalty = 'l2', random_state=0,max_iter=1000)\n",
        "logistic_t.fit(X_train, y_train)\n",
        "logistic_ypred_t = logistic_t.predict(X_test)"
      ]
    },
    {
      "cell_type": "code",
      "execution_count": 37,
      "metadata": {
        "colab": {
          "base_uri": "https://localhost:8080/"
        },
        "id": "5iA85BeXFxIO",
        "outputId": "f111027a-f3f9-4bb2-906c-38d6266f76b5"
      },
      "outputs": [
        {
          "output_type": "stream",
          "name": "stdout",
          "text": [
            "              precision    recall  f1-score   support\n",
            "\n",
            "           0       0.65      0.68      0.66      6025\n",
            "           1       0.65      0.62      0.64      5869\n",
            "\n",
            "    accuracy                           0.65     11894\n",
            "   macro avg       0.65      0.65      0.65     11894\n",
            "weighted avg       0.65      0.65      0.65     11894\n",
            "\n"
          ]
        }
      ],
      "source": [
        "print(classification_report(y_test, logistic_ypred_t))"
      ]
    },
    {
      "cell_type": "code",
      "execution_count": 38,
      "metadata": {
        "colab": {
          "base_uri": "https://localhost:8080/",
          "height": 466
        },
        "id": "bYBaP3hNKdTD",
        "outputId": "a1632118-7b75-41b3-e17d-3f19e59c2101"
      },
      "outputs": [
        {
          "output_type": "execute_result",
          "data": {
            "text/plain": [
              "<sklearn.metrics._plot.confusion_matrix.ConfusionMatrixDisplay at 0x7f0b1f54ce20>"
            ]
          },
          "metadata": {},
          "execution_count": 38
        },
        {
          "output_type": "display_data",
          "data": {
            "text/plain": [
              "<Figure size 640x480 with 2 Axes>"
            ],
            "image/png": "[encoded data removed]"
          },
          "metadata": {}
        }
      ],
      "source": [
        "\n",
        "cm = confusion_matrix(y_test, logistic_ypred_t, labels=logistic_t.classes_)\n",
        "disp = ConfusionMatrixDisplay(confusion_matrix=cm,display_labels=logistic_t.classes_)\n",
        "disp.plot()"
      ]
    },
    {
      "cell_type": "markdown",
      "metadata": {
        "id": "fR6tmCEI8BLd"
      },
      "source": [
        "## **Main model: XGboost**"
      ]
    },
    {
      "cell_type": "code",
      "execution_count": 39,
      "metadata": {
        "colab": {
          "base_uri": "https://localhost:8080/",
          "height": 248
        },
        "id": "O-Fel-jC8IfF",
        "outputId": "0a4036d1-abbd-4b9f-a3e4-e902123cbf74"
      },
      "outputs": [
        {
          "output_type": "execute_result",
          "data": {
            "text/plain": [
              "XGBClassifier(base_score=None, booster=None, callbacks=None,\n",
              "              colsample_bylevel=None, colsample_bynode=None,\n",
              "              colsample_bytree=None, early_stopping_rounds=None,\n",
              "              enable_categorical=False, eval_metric=None, feature_types=None,\n",
              "              gamma=None, gpu_id=None, grow_policy=None, importance_type=None,\n",
              "              interaction_constraints=None, learning_rate=None, max_bin=None,\n",
              "              max_cat_threshold=None, max_cat_to_onehot=None,\n",
              "              max_delta_step=None, max_depth=5, max_leaves=None,\n",
              "              min_child_weight=None, missing=nan, monotone_constraints=None,\n",
              "              n_estimators=100, n_jobs=None, num_parallel_tree=None,\n",
              "              predictor=None, random_state=None, ...)"
            ],
            "text/html": [
              "<style>#sk-container-id-4 {color: black;background-color: white;}#sk-container-id-4 pre{padding: 0;}#sk-container-id-4 div.sk-toggleable {background-color: white;}#sk-container-id-4 label.sk-toggleable__label {cursor: pointer;display: block;width: 100%;margin-bottom: 0;padding: 0.3em;box-sizing: border-box;text-align: center;}#sk-container-id-4 label.sk-toggleable__label-arrow:before {content: \"▸\";float: left;margin-right: 0.25em;color: #696969;}#sk-container-id-4 label.sk-toggleable__label-arrow:hover:before {color: black;}#sk-container-id-4 div.sk-estimator:hover label.sk-toggleable__label-arrow:before {color: black;}#sk-container-id-4 div.sk-toggleable__content {max-height: 0;max-width: 0;overflow: hidden;text-align: left;background-color: #f0f8ff;}#sk-container-id-4 div.sk-toggleable__content pre {margin: 0.2em;color: black;border-radius: 0.25em;background-color: #f0f8ff;}#sk-container-id-4 input.sk-toggleable__control:checked~div.sk-toggleable__content {max-height: 200px;max-width: 100%;overflow: auto;}#sk-container-id-4 input.sk-toggleable__control:checked~label.sk-toggleable__label-arrow:before {content: \"▾\";}#sk-container-id-4 div.sk-estimator input.sk-toggleable__control:checked~label.sk-toggleable__label {background-color: #d4ebff;}#sk-container-id-4 div.sk-label input.sk-toggleable__control:checked~label.sk-toggleable__label {background-color: #d4ebff;}#sk-container-id-4 input.sk-hidden--visually {border: 0;clip: rect(1px 1px 1px 1px);clip: rect(1px, 1px, 1px, 1px);height: 1px;margin: -1px;overflow: hidden;padding: 0;position: absolute;width: 1px;}#sk-container-id-4 div.sk-estimator {font-family: monospace;background-color: #f0f8ff;border: 1px dotted black;border-radius: 0.25em;box-sizing: border-box;margin-bottom: 0.5em;}#sk-container-id-4 div.sk-estimator:hover {background-color: #d4ebff;}#sk-container-id-4 div.sk-parallel-item::after {content: \"\";width: 100%;border-bottom: 1px solid gray;flex-grow: 1;}#sk-container-id-4 div.sk-label:hover label.sk-toggleable__label {background-color: #d4ebff;}#sk-container-id-4 div.sk-serial::before {content: \"\";position: absolute;border-left: 1px solid gray;box-sizing: border-box;top: 0;bottom: 0;left: 50%;z-index: 0;}#sk-container-id-4 div.sk-serial {display: flex;flex-direction: column;align-items: center;background-color: white;padding-right: 0.2em;padding-left: 0.2em;position: relative;}#sk-container-id-4 div.sk-item {position: relative;z-index: 1;}#sk-container-id-4 div.sk-parallel {display: flex;align-items: stretch;justify-content: center;background-color: white;position: relative;}#sk-container-id-4 div.sk-item::before, #sk-container-id-4 div.sk-parallel-item::before {content: \"\";position: absolute;border-left: 1px solid gray;box-sizing: border-box;top: 0;bottom: 0;left: 50%;z-index: -1;}#sk-container-id-4 div.sk-parallel-item {display: flex;flex-direction: column;z-index: 1;position: relative;background-color: white;}#sk-container-id-4 div.sk-parallel-item:first-child::after {align-self: flex-end;width: 50%;}#sk-container-id-4 div.sk-parallel-item:last-child::after {align-self: flex-start;width: 50%;}#sk-container-id-4 div.sk-parallel-item:only-child::after {width: 0;}#sk-container-id-4 div.sk-dashed-wrapped {border: 1px dashed gray;margin: 0 0.4em 0.5em 0.4em;box-sizing: border-box;padding-bottom: 0.4em;background-color: white;}#sk-container-id-4 div.sk-label label {font-family: monospace;font-weight: bold;display: inline-block;line-height: 1.2em;}#sk-container-id-4 div.sk-label-container {text-align: center;}#sk-container-id-4 div.sk-container {/* jupyter's `normalize.less` sets `[hidden] { display: none; }` but bootstrap.min.css set `[hidden] { display: none !important; }` so we also need the `!important` here to be able to override the default hidden behavior on the sphinx rendered scikit-learn.org. See: https://github.com/scikit-learn/scikit-learn/issues/21755 */display: inline-block !important;position: relative;}#sk-container-id-4 div.sk-text-repr-fallback {display: none;}</style><div id=\"sk-container-id-4\" class=\"sk-top-container\"><div class=\"sk-text-repr-fallback\"><pre>XGBClassifier(base_score=None, booster=None, callbacks=None,\n",
              "              colsample_bylevel=None, colsample_bynode=None,\n",
              "              colsample_bytree=None, early_stopping_rounds=None,\n",
              "              enable_categorical=False, eval_metric=None, feature_types=None,\n",
              "              gamma=None, gpu_id=None, grow_policy=None, importance_type=None,\n",
              "              interaction_constraints=None, learning_rate=None, max_bin=None,\n",
              "              max_cat_threshold=None, max_cat_to_onehot=None,\n",
              "              max_delta_step=None, max_depth=5, max_leaves=None,\n",
              "              min_child_weight=None, missing=nan, monotone_constraints=None,\n",
              "              n_estimators=100, n_jobs=None, num_parallel_tree=None,\n",
              "              predictor=None, random_state=None, ...)</pre><b>In a Jupyter environment, please rerun this cell to show the HTML representation or trust the notebook. <br />On GitHub, the HTML representation is unable to render, please try loading this page with nbviewer.org.</b></div><div class=\"sk-container\" hidden><div class=\"sk-item\"><div class=\"sk-estimator sk-toggleable\"><input class=\"sk-toggleable__control sk-hidden--visually\" id=\"sk-estimator-id-6\" type=\"checkbox\" checked><label for=\"sk-estimator-id-6\" class=\"sk-toggleable__label sk-toggleable__label-arrow\">XGBClassifier</label><div class=\"sk-toggleable__content\"><pre>XGBClassifier(base_score=None, booster=None, callbacks=None,\n",
              "              colsample_bylevel=None, colsample_bynode=None,\n",
              "              colsample_bytree=None, early_stopping_rounds=None,\n",
              "              enable_categorical=False, eval_metric=None, feature_types=None,\n",
              "              gamma=None, gpu_id=None, grow_policy=None, importance_type=None,\n",
              "              interaction_constraints=None, learning_rate=None, max_bin=None,\n",
              "              max_cat_threshold=None, max_cat_to_onehot=None,\n",
              "              max_delta_step=None, max_depth=5, max_leaves=None,\n",
              "              min_child_weight=None, missing=nan, monotone_constraints=None,\n",
              "              n_estimators=100, n_jobs=None, num_parallel_tree=None,\n",
              "              predictor=None, random_state=None, ...)</pre></div></div></div></div></div>"
            ]
          },
          "metadata": {},
          "execution_count": 39
        }
      ],
      "source": [
        "m_xgboost = XGBClassifier(objective ='binary:logistic', max_depth=5, n_estimators=100)\n",
        "m_xgboost"
      ]
    },
    {
      "cell_type": "code",
      "execution_count": 40,
      "metadata": {
        "colab": {
          "base_uri": "https://localhost:8080/"
        },
        "id": "CLbtOefdy-B7",
        "outputId": "7944658e-6a60-4c15-c2fa-9c3604cc43cf"
      },
      "outputs": [
        {
          "output_type": "stream",
          "name": "stdout",
          "text": [
            "Accuracy: 65.62% (0.33%)\n"
          ]
        }
      ],
      "source": [
        "kfold = KFold()\n",
        "# Perform K-Fold Cross Validation\n",
        "results = cross_val_score(m_xgboost, X_train, y_train, cv=kfold)\n",
        "# Print the average results\n",
        "print(\"Accuracy: %.2f%% (%.2f%%)\" % (results.mean()*100, results.std()*100))"
      ]
    },
    {
      "cell_type": "code",
      "execution_count": 41,
      "metadata": {
        "colab": {
          "base_uri": "https://localhost:8080/",
          "height": 248
        },
        "id": "QNXnQlI73Hpz",
        "outputId": "27f8afa4-a80d-4804-e82f-ce62278ded2c"
      },
      "outputs": [
        {
          "output_type": "execute_result",
          "data": {
            "text/plain": [
              "XGBClassifier(base_score=None, booster=None, callbacks=None,\n",
              "              colsample_bylevel=None, colsample_bynode=None,\n",
              "              colsample_bytree=None, early_stopping_rounds=None,\n",
              "              enable_categorical=False, eval_metric=None, feature_types=None,\n",
              "              gamma=None, gpu_id=None, grow_policy=None, importance_type=None,\n",
              "              interaction_constraints=None, learning_rate=None, max_bin=None,\n",
              "              max_cat_threshold=None, max_cat_to_onehot=None,\n",
              "              max_delta_step=None, max_depth=5, max_leaves=None,\n",
              "              min_child_weight=None, missing=nan, monotone_constraints=None,\n",
              "              n_estimators=100, n_jobs=None, num_parallel_tree=None,\n",
              "              predictor=None, random_state=None, ...)"
            ],
            "text/html": [
              "<style>#sk-container-id-5 {color: black;background-color: white;}#sk-container-id-5 pre{padding: 0;}#sk-container-id-5 div.sk-toggleable {background-color: white;}#sk-container-id-5 label.sk-toggleable__label {cursor: pointer;display: block;width: 100%;margin-bottom: 0;padding: 0.3em;box-sizing: border-box;text-align: center;}#sk-container-id-5 label.sk-toggleable__label-arrow:before {content: \"▸\";float: left;margin-right: 0.25em;color: #696969;}#sk-container-id-5 label.sk-toggleable__label-arrow:hover:before {color: black;}#sk-container-id-5 div.sk-estimator:hover label.sk-toggleable__label-arrow:before {color: black;}#sk-container-id-5 div.sk-toggleable__content {max-height: 0;max-width: 0;overflow: hidden;text-align: left;background-color: #f0f8ff;}#sk-container-id-5 div.sk-toggleable__content pre {margin: 0.2em;color: black;border-radius: 0.25em;background-color: #f0f8ff;}#sk-container-id-5 input.sk-toggleable__control:checked~div.sk-toggleable__content {max-height: 200px;max-width: 100%;overflow: auto;}#sk-container-id-5 input.sk-toggleable__control:checked~label.sk-toggleable__label-arrow:before {content: \"▾\";}#sk-container-id-5 div.sk-estimator input.sk-toggleable__control:checked~label.sk-toggleable__label {background-color: #d4ebff;}#sk-container-id-5 div.sk-label input.sk-toggleable__control:checked~label.sk-toggleable__label {background-color: #d4ebff;}#sk-container-id-5 input.sk-hidden--visually {border: 0;clip: rect(1px 1px 1px 1px);clip: rect(1px, 1px, 1px, 1px);height: 1px;margin: -1px;overflow: hidden;padding: 0;position: absolute;width: 1px;}#sk-container-id-5 div.sk-estimator {font-family: monospace;background-color: #f0f8ff;border: 1px dotted black;border-radius: 0.25em;box-sizing: border-box;margin-bottom: 0.5em;}#sk-container-id-5 div.sk-estimator:hover {background-color: #d4ebff;}#sk-container-id-5 div.sk-parallel-item::after {content: \"\";width: 100%;border-bottom: 1px solid gray;flex-grow: 1;}#sk-container-id-5 div.sk-label:hover label.sk-toggleable__label {background-color: #d4ebff;}#sk-container-id-5 div.sk-serial::before {content: \"\";position: absolute;border-left: 1px solid gray;box-sizing: border-box;top: 0;bottom: 0;left: 50%;z-index: 0;}#sk-container-id-5 div.sk-serial {display: flex;flex-direction: column;align-items: center;background-color: white;padding-right: 0.2em;padding-left: 0.2em;position: relative;}#sk-container-id-5 div.sk-item {position: relative;z-index: 1;}#sk-container-id-5 div.sk-parallel {display: flex;align-items: stretch;justify-content: center;background-color: white;position: relative;}#sk-container-id-5 div.sk-item::before, #sk-container-id-5 div.sk-parallel-item::before {content: \"\";position: absolute;border-left: 1px solid gray;box-sizing: border-box;top: 0;bottom: 0;left: 50%;z-index: -1;}#sk-container-id-5 div.sk-parallel-item {display: flex;flex-direction: column;z-index: 1;position: relative;background-color: white;}#sk-container-id-5 div.sk-parallel-item:first-child::after {align-self: flex-end;width: 50%;}#sk-container-id-5 div.sk-parallel-item:last-child::after {align-self: flex-start;width: 50%;}#sk-container-id-5 div.sk-parallel-item:only-child::after {width: 0;}#sk-container-id-5 div.sk-dashed-wrapped {border: 1px dashed gray;margin: 0 0.4em 0.5em 0.4em;box-sizing: border-box;padding-bottom: 0.4em;background-color: white;}#sk-container-id-5 div.sk-label label {font-family: monospace;font-weight: bold;display: inline-block;line-height: 1.2em;}#sk-container-id-5 div.sk-label-container {text-align: center;}#sk-container-id-5 div.sk-container {/* jupyter's `normalize.less` sets `[hidden] { display: none; }` but bootstrap.min.css set `[hidden] { display: none !important; }` so we also need the `!important` here to be able to override the default hidden behavior on the sphinx rendered scikit-learn.org. See: https://github.com/scikit-learn/scikit-learn/issues/21755 */display: inline-block !important;position: relative;}#sk-container-id-5 div.sk-text-repr-fallback {display: none;}</style><div id=\"sk-container-id-5\" class=\"sk-top-container\"><div class=\"sk-text-repr-fallback\"><pre>XGBClassifier(base_score=None, booster=None, callbacks=None,\n",
              "              colsample_bylevel=None, colsample_bynode=None,\n",
              "              colsample_bytree=None, early_stopping_rounds=None,\n",
              "              enable_categorical=False, eval_metric=None, feature_types=None,\n",
              "              gamma=None, gpu_id=None, grow_policy=None, importance_type=None,\n",
              "              interaction_constraints=None, learning_rate=None, max_bin=None,\n",
              "              max_cat_threshold=None, max_cat_to_onehot=None,\n",
              "              max_delta_step=None, max_depth=5, max_leaves=None,\n",
              "              min_child_weight=None, missing=nan, monotone_constraints=None,\n",
              "              n_estimators=100, n_jobs=None, num_parallel_tree=None,\n",
              "              predictor=None, random_state=None, ...)</pre><b>In a Jupyter environment, please rerun this cell to show the HTML representation or trust the notebook. <br />On GitHub, the HTML representation is unable to render, please try loading this page with nbviewer.org.</b></div><div class=\"sk-container\" hidden><div class=\"sk-item\"><div class=\"sk-estimator sk-toggleable\"><input class=\"sk-toggleable__control sk-hidden--visually\" id=\"sk-estimator-id-7\" type=\"checkbox\" checked><label for=\"sk-estimator-id-7\" class=\"sk-toggleable__label sk-toggleable__label-arrow\">XGBClassifier</label><div class=\"sk-toggleable__content\"><pre>XGBClassifier(base_score=None, booster=None, callbacks=None,\n",
              "              colsample_bylevel=None, colsample_bynode=None,\n",
              "              colsample_bytree=None, early_stopping_rounds=None,\n",
              "              enable_categorical=False, eval_metric=None, feature_types=None,\n",
              "              gamma=None, gpu_id=None, grow_policy=None, importance_type=None,\n",
              "              interaction_constraints=None, learning_rate=None, max_bin=None,\n",
              "              max_cat_threshold=None, max_cat_to_onehot=None,\n",
              "              max_delta_step=None, max_depth=5, max_leaves=None,\n",
              "              min_child_weight=None, missing=nan, monotone_constraints=None,\n",
              "              n_estimators=100, n_jobs=None, num_parallel_tree=None,\n",
              "              predictor=None, random_state=None, ...)</pre></div></div></div></div></div>"
            ]
          },
          "metadata": {},
          "execution_count": 41
        }
      ],
      "source": [
        "m_xgboost.fit(X_train, y_train)"
      ]
    },
    {
      "cell_type": "code",
      "execution_count": 42,
      "metadata": {
        "colab": {
          "base_uri": "https://localhost:8080/",
          "height": 466
        },
        "id": "vECmeCoH3qMa",
        "outputId": "8954f98f-d646-427f-a74e-d4bac1ad2c41"
      },
      "outputs": [
        {
          "output_type": "execute_result",
          "data": {
            "text/plain": [
              "<sklearn.metrics._plot.confusion_matrix.ConfusionMatrixDisplay at 0x7f0b1f43ba90>"
            ]
          },
          "metadata": {},
          "execution_count": 42
        },
        {
          "output_type": "display_data",
          "data": {
            "text/plain": [
              "<Figure size 640x480 with 2 Axes>"
            ],
            "image/png": "[encoded data removed]"
          },
          "metadata": {}
        }
      ],
      "source": [
        "xg_ypred = m_xgboost.predict(X_test)\n",
        "cm = confusion_matrix(y_test, xg_ypred, labels=m_xgboost.classes_)\n",
        "disp = ConfusionMatrixDisplay(confusion_matrix=cm,display_labels=m_xgboost.classes_)\n",
        "disp.plot()"
      ]
    },
    {
      "cell_type": "code",
      "execution_count": 43,
      "metadata": {
        "colab": {
          "base_uri": "https://localhost:8080/"
        },
        "id": "xakncTze3sL8",
        "outputId": "cc7485c5-e577-4249-c28e-667a29faa7c3"
      },
      "outputs": [
        {
          "output_type": "stream",
          "name": "stdout",
          "text": [
            "              precision    recall  f1-score   support\n",
            "\n",
            "           0       0.66      0.67      0.67      6025\n",
            "           1       0.66      0.64      0.65      5869\n",
            "\n",
            "    accuracy                           0.66     11894\n",
            "   macro avg       0.66      0.66      0.66     11894\n",
            "weighted avg       0.66      0.66      0.66     11894\n",
            "\n"
          ]
        }
      ],
      "source": [
        "# Get the classification report\n",
        "print(classification_report(y_test, xg_ypred))"
      ]
    },
    {
      "cell_type": "code",
      "execution_count": 44,
      "metadata": {
        "colab": {
          "base_uri": "https://localhost:8080/",
          "height": 206
        },
        "id": "sW7lgYcP3uKy",
        "outputId": "d82cacc5-9e4a-4fe9-8664-140815eb01cf"
      },
      "outputs": [
        {
          "output_type": "execute_result",
          "data": {
            "text/plain": [
              "                          columns  importance\n",
              "0   data_channel_is_entertainment    0.146161\n",
              "1            data_channel_is_tech    0.091254\n",
              "2                      is_weekend    0.075955\n",
              "3          data_channel_is_socmed    0.049669\n",
              "4                      kw_avg_avg    0.035057"
            ],
            "text/html": [
              "\n",
              "  <div id=\"df-a67cbff4-1583-4f7d-9357-2ed7ecb8d757\">\n",
              "    <div class=\"colab-df-container\">\n",
              "      <div>\n",
              "<style scoped>\n",
              "    .dataframe tbody tr th:only-of-type {\n",
              "        vertical-align: middle;\n",
              "    }\n",
              "\n",
              "    .dataframe tbody tr th {\n",
              "        vertical-align: top;\n",
              "    }\n",
              "\n",
              "    .dataframe thead th {\n",
              "        text-align: right;\n",
              "    }\n",
              "</style>\n",
              "<table border=\"1\" class=\"dataframe\">\n",
              "  <thead>\n",
              "    <tr style=\"text-align: right;\">\n",
              "      <th></th>\n",
              "      <th>columns</th>\n",
              "      <th>importance</th>\n",
              "    </tr>\n",
              "  </thead>\n",
              "  <tbody>\n",
              "    <tr>\n",
              "      <th>0</th>\n",
              "      <td>data_channel_is_entertainment</td>\n",
              "      <td>0.146161</td>\n",
              "    </tr>\n",
              "    <tr>\n",
              "      <th>1</th>\n",
              "      <td>data_channel_is_tech</td>\n",
              "      <td>0.091254</td>\n",
              "    </tr>\n",
              "    <tr>\n",
              "      <th>2</th>\n",
              "      <td>is_weekend</td>\n",
              "      <td>0.075955</td>\n",
              "    </tr>\n",
              "    <tr>\n",
              "      <th>3</th>\n",
              "      <td>data_channel_is_socmed</td>\n",
              "      <td>0.049669</td>\n",
              "    </tr>\n",
              "    <tr>\n",
              "      <th>4</th>\n",
              "      <td>kw_avg_avg</td>\n",
              "      <td>0.035057</td>\n",
              "    </tr>\n",
              "  </tbody>\n",
              "</table>\n",
              "</div>\n",
              "      <button class=\"colab-df-convert\" onclick=\"convertToInteractive('df-a67cbff4-1583-4f7d-9357-2ed7ecb8d757')\"\n",
              "              title=\"Convert this dataframe to an interactive table.\"\n",
              "              style=\"display:none;\">\n",
              "        \n",
              "  <svg xmlns=\"http://www.w3.org/2000/svg\" height=\"24px\"viewBox=\"0 0 24 24\"\n",
              "       width=\"24px\">\n",
              "    <path d=\"M0 0h24v24H0V0z\" fill=\"none\"/>\n",
              "    <path d=\"M18.56 5.44l.94 2.06.94-2.06 2.06-.94-2.06-.94-.94-2.06-.94 2.06-2.06.94zm-11 1L8.5 8.5l.94-2.06 2.06-.94-2.06-.94L8.5 2.5l-.94 2.06-2.06.94zm10 10l.94 2.06.94-2.06 2.06-.94-2.06-.94-.94-2.06-.94 2.06-2.06.94z\"/><path d=\"M17.41 7.96l-1.37-1.37c-.4-.4-.92-.59-1.43-.59-.52 0-1.04.2-1.43.59L10.3 9.45l-7.72 7.72c-.78.78-.78 2.05 0 2.83L4 21.41c.39.39.9.59 1.41.59.51 0 1.02-.2 1.41-.59l7.78-7.78 2.81-2.81c.8-.78.8-2.07 0-2.86zM5.41 20L4 18.59l7.72-7.72 1.47 1.35L5.41 20z\"/>\n",
              "  </svg>\n",
              "      </button>\n",
              "      \n",
              "  <style>\n",
              "    .colab-df-container {\n",
              "      display:flex;\n",
              "      flex-wrap:wrap;\n",
              "      gap: 12px;\n",
              "    }\n",
              "\n",
              "    .colab-df-convert {\n",
              "      background-color: #E8F0FE;\n",
              "      border: none;\n",
              "      border-radius: 50%;\n",
              "      cursor: pointer;\n",
              "      display: none;\n",
              "      fill: #1967D2;\n",
              "      height: 32px;\n",
              "      padding: 0 0 0 0;\n",
              "      width: 32px;\n",
              "    }\n",
              "\n",
              "    .colab-df-convert:hover {\n",
              "      background-color: #E2EBFA;\n",
              "      box-shadow: 0px 1px 2px rgba(60, 64, 67, 0.3), 0px 1px 3px 1px rgba(60, 64, 67, 0.15);\n",
              "      fill: #174EA6;\n",
              "    }\n",
              "\n",
              "    [theme=dark] .colab-df-convert {\n",
              "      background-color: #3B4455;\n",
              "      fill: #D2E3FC;\n",
              "    }\n",
              "\n",
              "    [theme=dark] .colab-df-convert:hover {\n",
              "      background-color: #434B5C;\n",
              "      box-shadow: 0px 1px 3px 1px rgba(0, 0, 0, 0.15);\n",
              "      filter: drop-shadow(0px 1px 2px rgba(0, 0, 0, 0.3));\n",
              "      fill: #FFFFFF;\n",
              "    }\n",
              "  </style>\n",
              "\n",
              "      <script>\n",
              "        const buttonEl =\n",
              "          document.querySelector('#df-a67cbff4-1583-4f7d-9357-2ed7ecb8d757 button.colab-df-convert');\n",
              "        buttonEl.style.display =\n",
              "          google.colab.kernel.accessAllowed ? 'block' : 'none';\n",
              "\n",
              "        async function convertToInteractive(key) {\n",
              "          const element = document.querySelector('#df-a67cbff4-1583-4f7d-9357-2ed7ecb8d757');\n",
              "          const dataTable =\n",
              "            await google.colab.kernel.invokeFunction('convertToInteractive',\n",
              "                                                     [key], {});\n",
              "          if (!dataTable) return;\n",
              "\n",
              "          const docLinkHtml = 'Like what you see? Visit the ' +\n",
              "            '<a target=\"_blank\" href=https://colab.research.google.com/notebooks/data_table.ipynb>data table notebook</a>'\n",
              "            + ' to learn more about interactive tables.';\n",
              "          element.innerHTML = '';\n",
              "          dataTable['output_type'] = 'display_data';\n",
              "          await google.colab.output.renderOutput(dataTable, element);\n",
              "          const docLink = document.createElement('div');\n",
              "          docLink.innerHTML = docLinkHtml;\n",
              "          element.appendChild(docLink);\n",
              "        }\n",
              "      </script>\n",
              "    </div>\n",
              "  </div>\n",
              "  "
            ]
          },
          "metadata": {},
          "execution_count": 44
        }
      ],
      "source": [
        "col = df4.columns.drop(['y'])\n",
        "importance = list(m_xgboost.feature_importances_)\n",
        "fea_dfxc = pd.DataFrame({'columns':col,'importance':importance})\n",
        "fea_dfxc.sort_values(by=['importance'],inplace=True,ascending=False)\n",
        "fea_dfxc.reset_index(drop=True,inplace=True)\n",
        "# display(fea_dfxc)\n",
        "fea_dfxc.head()"
      ]
    },
    {
      "cell_type": "code",
      "execution_count": 45,
      "metadata": {
        "colab": {
          "base_uri": "https://localhost:8080/",
          "height": 248
        },
        "id": "hzBnSoEFF4HK",
        "outputId": "c53c124c-4b7b-4b1e-ebf3-439343235883"
      },
      "outputs": [
        {
          "output_type": "execute_result",
          "data": {
            "text/plain": [
              "XGBClassifier(base_score=None, booster=None, callbacks=None,\n",
              "              colsample_bylevel=None, colsample_bynode=None,\n",
              "              colsample_bytree=0.1, early_stopping_rounds=None,\n",
              "              enable_categorical=False, eval_metric=None, feature_types=None,\n",
              "              gamma=None, gpu_id=None, grow_policy=None, importance_type=None,\n",
              "              interaction_constraints=None, learning_rate=0.05, max_bin=None,\n",
              "              max_cat_threshold=None, max_cat_to_onehot=None,\n",
              "              max_delta_step=None, max_depth=6, max_leaves=None,\n",
              "              min_child_weight=None, missing=nan, monotone_constraints=None,\n",
              "              n_estimators=1000, n_jobs=None, num_parallel_tree=None,\n",
              "              predictor=None, random_state=None, ...)"
            ],
            "text/html": [
              "<style>#sk-container-id-6 {color: black;background-color: white;}#sk-container-id-6 pre{padding: 0;}#sk-container-id-6 div.sk-toggleable {background-color: white;}#sk-container-id-6 label.sk-toggleable__label {cursor: pointer;display: block;width: 100%;margin-bottom: 0;padding: 0.3em;box-sizing: border-box;text-align: center;}#sk-container-id-6 label.sk-toggleable__label-arrow:before {content: \"▸\";float: left;margin-right: 0.25em;color: #696969;}#sk-container-id-6 label.sk-toggleable__label-arrow:hover:before {color: black;}#sk-container-id-6 div.sk-estimator:hover label.sk-toggleable__label-arrow:before {color: black;}#sk-container-id-6 div.sk-toggleable__content {max-height: 0;max-width: 0;overflow: hidden;text-align: left;background-color: #f0f8ff;}#sk-container-id-6 div.sk-toggleable__content pre {margin: 0.2em;color: black;border-radius: 0.25em;background-color: #f0f8ff;}#sk-container-id-6 input.sk-toggleable__control:checked~div.sk-toggleable__content {max-height: 200px;max-width: 100%;overflow: auto;}#sk-container-id-6 input.sk-toggleable__control:checked~label.sk-toggleable__label-arrow:before {content: \"▾\";}#sk-container-id-6 div.sk-estimator input.sk-toggleable__control:checked~label.sk-toggleable__label {background-color: #d4ebff;}#sk-container-id-6 div.sk-label input.sk-toggleable__control:checked~label.sk-toggleable__label {background-color: #d4ebff;}#sk-container-id-6 input.sk-hidden--visually {border: 0;clip: rect(1px 1px 1px 1px);clip: rect(1px, 1px, 1px, 1px);height: 1px;margin: -1px;overflow: hidden;padding: 0;position: absolute;width: 1px;}#sk-container-id-6 div.sk-estimator {font-family: monospace;background-color: #f0f8ff;border: 1px dotted black;border-radius: 0.25em;box-sizing: border-box;margin-bottom: 0.5em;}#sk-container-id-6 div.sk-estimator:hover {background-color: #d4ebff;}#sk-container-id-6 div.sk-parallel-item::after {content: \"\";width: 100%;border-bottom: 1px solid gray;flex-grow: 1;}#sk-container-id-6 div.sk-label:hover label.sk-toggleable__label {background-color: #d4ebff;}#sk-container-id-6 div.sk-serial::before {content: \"\";position: absolute;border-left: 1px solid gray;box-sizing: border-box;top: 0;bottom: 0;left: 50%;z-index: 0;}#sk-container-id-6 div.sk-serial {display: flex;flex-direction: column;align-items: center;background-color: white;padding-right: 0.2em;padding-left: 0.2em;position: relative;}#sk-container-id-6 div.sk-item {position: relative;z-index: 1;}#sk-container-id-6 div.sk-parallel {display: flex;align-items: stretch;justify-content: center;background-color: white;position: relative;}#sk-container-id-6 div.sk-item::before, #sk-container-id-6 div.sk-parallel-item::before {content: \"\";position: absolute;border-left: 1px solid gray;box-sizing: border-box;top: 0;bottom: 0;left: 50%;z-index: -1;}#sk-container-id-6 div.sk-parallel-item {display: flex;flex-direction: column;z-index: 1;position: relative;background-color: white;}#sk-container-id-6 div.sk-parallel-item:first-child::after {align-self: flex-end;width: 50%;}#sk-container-id-6 div.sk-parallel-item:last-child::after {align-self: flex-start;width: 50%;}#sk-container-id-6 div.sk-parallel-item:only-child::after {width: 0;}#sk-container-id-6 div.sk-dashed-wrapped {border: 1px dashed gray;margin: 0 0.4em 0.5em 0.4em;box-sizing: border-box;padding-bottom: 0.4em;background-color: white;}#sk-container-id-6 div.sk-label label {font-family: monospace;font-weight: bold;display: inline-block;line-height: 1.2em;}#sk-container-id-6 div.sk-label-container {text-align: center;}#sk-container-id-6 div.sk-container {/* jupyter's `normalize.less` sets `[hidden] { display: none; }` but bootstrap.min.css set `[hidden] { display: none !important; }` so we also need the `!important` here to be able to override the default hidden behavior on the sphinx rendered scikit-learn.org. See: https://github.com/scikit-learn/scikit-learn/issues/21755 */display: inline-block !important;position: relative;}#sk-container-id-6 div.sk-text-repr-fallback {display: none;}</style><div id=\"sk-container-id-6\" class=\"sk-top-container\"><div class=\"sk-text-repr-fallback\"><pre>XGBClassifier(base_score=None, booster=None, callbacks=None,\n",
              "              colsample_bylevel=None, colsample_bynode=None,\n",
              "              colsample_bytree=0.1, early_stopping_rounds=None,\n",
              "              enable_categorical=False, eval_metric=None, feature_types=None,\n",
              "              gamma=None, gpu_id=None, grow_policy=None, importance_type=None,\n",
              "              interaction_constraints=None, learning_rate=0.05, max_bin=None,\n",
              "              max_cat_threshold=None, max_cat_to_onehot=None,\n",
              "              max_delta_step=None, max_depth=6, max_leaves=None,\n",
              "              min_child_weight=None, missing=nan, monotone_constraints=None,\n",
              "              n_estimators=1000, n_jobs=None, num_parallel_tree=None,\n",
              "              predictor=None, random_state=None, ...)</pre><b>In a Jupyter environment, please rerun this cell to show the HTML representation or trust the notebook. <br />On GitHub, the HTML representation is unable to render, please try loading this page with nbviewer.org.</b></div><div class=\"sk-container\" hidden><div class=\"sk-item\"><div class=\"sk-estimator sk-toggleable\"><input class=\"sk-toggleable__control sk-hidden--visually\" id=\"sk-estimator-id-8\" type=\"checkbox\" checked><label for=\"sk-estimator-id-8\" class=\"sk-toggleable__label sk-toggleable__label-arrow\">XGBClassifier</label><div class=\"sk-toggleable__content\"><pre>XGBClassifier(base_score=None, booster=None, callbacks=None,\n",
              "              colsample_bylevel=None, colsample_bynode=None,\n",
              "              colsample_bytree=0.1, early_stopping_rounds=None,\n",
              "              enable_categorical=False, eval_metric=None, feature_types=None,\n",
              "              gamma=None, gpu_id=None, grow_policy=None, importance_type=None,\n",
              "              interaction_constraints=None, learning_rate=0.05, max_bin=None,\n",
              "              max_cat_threshold=None, max_cat_to_onehot=None,\n",
              "              max_delta_step=None, max_depth=6, max_leaves=None,\n",
              "              min_child_weight=None, missing=nan, monotone_constraints=None,\n",
              "              n_estimators=1000, n_jobs=None, num_parallel_tree=None,\n",
              "              predictor=None, random_state=None, ...)</pre></div></div></div></div></div>"
            ]
          },
          "metadata": {},
          "execution_count": 45
        }
      ],
      "source": [
        "# Model after tunning\n",
        "m_xgboost_t = XGBClassifier(objective ='binary:logistic', colsample_bytree = 0.1, learning_rate = 0.05, max_depth = 6, n_estimators = 1000)\n",
        "m_xgboost_t.fit(X_train, y_train)"
      ]
    },
    {
      "cell_type": "code",
      "execution_count": 46,
      "metadata": {
        "colab": {
          "base_uri": "https://localhost:8080/",
          "height": 466
        },
        "id": "b8fxcOK_G2_R",
        "outputId": "1095cbb2-f4b0-4c04-f7d0-d2c0de1882e4"
      },
      "outputs": [
        {
          "output_type": "execute_result",
          "data": {
            "text/plain": [
              "<sklearn.metrics._plot.confusion_matrix.ConfusionMatrixDisplay at 0x7f0ad90ee400>"
            ]
          },
          "metadata": {},
          "execution_count": 46
        },
        {
          "output_type": "display_data",
          "data": {
            "text/plain": [
              "<Figure size 640x480 with 2 Axes>"
            ],
            "image/png": "[encoded data removed]"
          },
          "metadata": {}
        }
      ],
      "source": [
        "xg_ypred_t = m_xgboost_t.predict(X_test)\n",
        "cm = confusion_matrix(y_test, xg_ypred_t, labels=m_xgboost_t.classes_)\n",
        "disp = ConfusionMatrixDisplay(confusion_matrix=cm,display_labels=m_xgboost_t.classes_)\n",
        "disp.plot()"
      ]
    },
    {
      "cell_type": "code",
      "execution_count": 47,
      "metadata": {
        "colab": {
          "base_uri": "https://localhost:8080/"
        },
        "id": "esm_6jwLG87s",
        "outputId": "86fb6b63-35df-43fd-c118-f73d12c4fafa"
      },
      "outputs": [
        {
          "output_type": "stream",
          "name": "stdout",
          "text": [
            "              precision    recall  f1-score   support\n",
            "\n",
            "           0       0.67      0.68      0.67      6025\n",
            "           1       0.66      0.66      0.66      5869\n",
            "\n",
            "    accuracy                           0.67     11894\n",
            "   macro avg       0.67      0.67      0.67     11894\n",
            "weighted avg       0.67      0.67      0.67     11894\n",
            "\n"
          ]
        }
      ],
      "source": [
        "print(classification_report(y_test, xg_ypred_t))"
      ]
    },
    {
      "cell_type": "code",
      "execution_count": 48,
      "metadata": {
        "colab": {
          "base_uri": "https://localhost:8080/",
          "height": 206
        },
        "id": "95Uq5gXA7MxK",
        "outputId": "3e241a62-f1dd-4a28-a5b0-604ec2dc7609"
      },
      "outputs": [
        {
          "output_type": "execute_result",
          "data": {
            "text/plain": [
              "                          columns  importance\n",
              "0                      is_weekend    0.104025\n",
              "1          data_channel_is_socmed    0.066165\n",
              "2             weekday_is_saturday    0.058460\n",
              "3   data_channel_is_entertainment    0.055698\n",
              "4           data_channel_is_world    0.047074"
            ],
            "text/html": [
              "\n",
              "  <div id=\"df-3cd0f252-bbb1-4f5b-87a6-631debcdf7a5\">\n",
              "    <div class=\"colab-df-container\">\n",
              "      <div>\n",
              "<style scoped>\n",
              "    .dataframe tbody tr th:only-of-type {\n",
              "        vertical-align: middle;\n",
              "    }\n",
              "\n",
              "    .dataframe tbody tr th {\n",
              "        vertical-align: top;\n",
              "    }\n",
              "\n",
              "    .dataframe thead th {\n",
              "        text-align: right;\n",
              "    }\n",
              "</style>\n",
              "<table border=\"1\" class=\"dataframe\">\n",
              "  <thead>\n",
              "    <tr style=\"text-align: right;\">\n",
              "      <th></th>\n",
              "      <th>columns</th>\n",
              "      <th>importance</th>\n",
              "    </tr>\n",
              "  </thead>\n",
              "  <tbody>\n",
              "    <tr>\n",
              "      <th>0</th>\n",
              "      <td>is_weekend</td>\n",
              "      <td>0.104025</td>\n",
              "    </tr>\n",
              "    <tr>\n",
              "      <th>1</th>\n",
              "      <td>data_channel_is_socmed</td>\n",
              "      <td>0.066165</td>\n",
              "    </tr>\n",
              "    <tr>\n",
              "      <th>2</th>\n",
              "      <td>weekday_is_saturday</td>\n",
              "      <td>0.058460</td>\n",
              "    </tr>\n",
              "    <tr>\n",
              "      <th>3</th>\n",
              "      <td>data_channel_is_entertainment</td>\n",
              "      <td>0.055698</td>\n",
              "    </tr>\n",
              "    <tr>\n",
              "      <th>4</th>\n",
              "      <td>data_channel_is_world</td>\n",
              "      <td>0.047074</td>\n",
              "    </tr>\n",
              "  </tbody>\n",
              "</table>\n",
              "</div>\n",
              "      <button class=\"colab-df-convert\" onclick=\"convertToInteractive('df-3cd0f252-bbb1-4f5b-87a6-631debcdf7a5')\"\n",
              "              title=\"Convert this dataframe to an interactive table.\"\n",
              "              style=\"display:none;\">\n",
              "        \n",
              "  <svg xmlns=\"http://www.w3.org/2000/svg\" height=\"24px\"viewBox=\"0 0 24 24\"\n",
              "       width=\"24px\">\n",
              "    <path d=\"M0 0h24v24H0V0z\" fill=\"none\"/>\n",
              "    <path d=\"M18.56 5.44l.94 2.06.94-2.06 2.06-.94-2.06-.94-.94-2.06-.94 2.06-2.06.94zm-11 1L8.5 8.5l.94-2.06 2.06-.94-2.06-.94L8.5 2.5l-.94 2.06-2.06.94zm10 10l.94 2.06.94-2.06 2.06-.94-2.06-.94-.94-2.06-.94 2.06-2.06.94z\"/><path d=\"M17.41 7.96l-1.37-1.37c-.4-.4-.92-.59-1.43-.59-.52 0-1.04.2-1.43.59L10.3 9.45l-7.72 7.72c-.78.78-.78 2.05 0 2.83L4 21.41c.39.39.9.59 1.41.59.51 0 1.02-.2 1.41-.59l7.78-7.78 2.81-2.81c.8-.78.8-2.07 0-2.86zM5.41 20L4 18.59l7.72-7.72 1.47 1.35L5.41 20z\"/>\n",
              "  </svg>\n",
              "      </button>\n",
              "      \n",
              "  <style>\n",
              "    .colab-df-container {\n",
              "      display:flex;\n",
              "      flex-wrap:wrap;\n",
              "      gap: 12px;\n",
              "    }\n",
              "\n",
              "    .colab-df-convert {\n",
              "      background-color: #E8F0FE;\n",
              "      border: none;\n",
              "      border-radius: 50%;\n",
              "      cursor: pointer;\n",
              "      display: none;\n",
              "      fill: #1967D2;\n",
              "      height: 32px;\n",
              "      padding: 0 0 0 0;\n",
              "      width: 32px;\n",
              "    }\n",
              "\n",
              "    .colab-df-convert:hover {\n",
              "      background-color: #E2EBFA;\n",
              "      box-shadow: 0px 1px 2px rgba(60, 64, 67, 0.3), 0px 1px 3px 1px rgba(60, 64, 67, 0.15);\n",
              "      fill: #174EA6;\n",
              "    }\n",
              "\n",
              "    [theme=dark] .colab-df-convert {\n",
              "      background-color: #3B4455;\n",
              "      fill: #D2E3FC;\n",
              "    }\n",
              "\n",
              "    [theme=dark] .colab-df-convert:hover {\n",
              "      background-color: #434B5C;\n",
              "      box-shadow: 0px 1px 3px 1px rgba(0, 0, 0, 0.15);\n",
              "      filter: drop-shadow(0px 1px 2px rgba(0, 0, 0, 0.3));\n",
              "      fill: #FFFFFF;\n",
              "    }\n",
              "  </style>\n",
              "\n",
              "      <script>\n",
              "        const buttonEl =\n",
              "          document.querySelector('#df-3cd0f252-bbb1-4f5b-87a6-631debcdf7a5 button.colab-df-convert');\n",
              "        buttonEl.style.display =\n",
              "          google.colab.kernel.accessAllowed ? 'block' : 'none';\n",
              "\n",
              "        async function convertToInteractive(key) {\n",
              "          const element = document.querySelector('#df-3cd0f252-bbb1-4f5b-87a6-631debcdf7a5');\n",
              "          const dataTable =\n",
              "            await google.colab.kernel.invokeFunction('convertToInteractive',\n",
              "                                                     [key], {});\n",
              "          if (!dataTable) return;\n",
              "\n",
              "          const docLinkHtml = 'Like what you see? Visit the ' +\n",
              "            '<a target=\"_blank\" href=https://colab.research.google.com/notebooks/data_table.ipynb>data table notebook</a>'\n",
              "            + ' to learn more about interactive tables.';\n",
              "          element.innerHTML = '';\n",
              "          dataTable['output_type'] = 'display_data';\n",
              "          await google.colab.output.renderOutput(dataTable, element);\n",
              "          const docLink = document.createElement('div');\n",
              "          docLink.innerHTML = docLinkHtml;\n",
              "          element.appendChild(docLink);\n",
              "        }\n",
              "      </script>\n",
              "    </div>\n",
              "  </div>\n",
              "  "
            ]
          },
          "metadata": {},
          "execution_count": 48
        }
      ],
      "source": [
        "col = df4.columns.drop(['y'])\n",
        "importance = list(m_xgboost_t.feature_importances_)\n",
        "fea_dfxc = pd.DataFrame({'columns':col,'importance':importance})\n",
        "fea_dfxc.sort_values(by=['importance'],inplace=True,ascending=False)\n",
        "fea_dfxc.reset_index(drop=True,inplace=True)\n",
        "# display(fea_dfxc)\n",
        "fea_dfxc.head()"
      ]
    },
    {
      "cell_type": "markdown",
      "metadata": {
        "id": "CKIh82BXidJM"
      },
      "source": [
        " \n",
        "# **Naïve Bayes**\n"
      ]
    },
    {
      "cell_type": "code",
      "execution_count": 49,
      "metadata": {
        "id": "uQrrH91_ib6F"
      },
      "outputs": [],
      "source": [
        "from sklearn.model_selection import RepeatedStratifiedKFold\n",
        "from sklearn.naive_bayes import GaussianNB\n",
        "naive_class=GaussianNB()\n",
        "naive_class.fit(X_train, y_train)\n",
        "naive_class_pred = naive_class.predict(X_test)"
      ]
    },
    {
      "cell_type": "code",
      "execution_count": 50,
      "metadata": {
        "id": "W99mmYLWSUvK",
        "colab": {
          "base_uri": "https://localhost:8080/"
        },
        "outputId": "58eb58fe-02b5-41b0-e28e-44bff0eb94db"
      },
      "outputs": [
        {
          "output_type": "stream",
          "name": "stdout",
          "text": [
            "0.5316966537750126\n",
            "[0.67029715 0.19205106]\n"
          ]
        }
      ],
      "source": [
        "print(accuracy_score(y_test,naive_class_pred))\n",
        "print(f1_score(y_test,naive_class_pred,average=None))"
      ]
    },
    {
      "cell_type": "code",
      "execution_count": 51,
      "metadata": {
        "id": "wlVvWuFFSWX0"
      },
      "outputs": [],
      "source": [
        "model = GaussianNB()\n",
        "cv_scores = cross_val_score(model, X, Y, cv=5)"
      ]
    },
    {
      "cell_type": "code",
      "execution_count": 52,
      "metadata": {
        "colab": {
          "base_uri": "https://localhost:8080/"
        },
        "id": "8BgxilwoSZiU",
        "outputId": "323375c6-5850-43a4-c16d-086a1435cce2"
      },
      "outputs": [
        {
          "output_type": "stream",
          "name": "stdout",
          "text": [
            "Accuracy: 0.5316966537750126\n",
            "Precision: 0.646\n",
            "Recall: 0.113\n",
            "F1 Score: 0.192\n"
          ]
        }
      ],
      "source": [
        "print(\"Accuracy:\",accuracy_score(y_test, naive_class_pred))\n",
        "print('Precision: %.3f' % precision_score(y_test, naive_class_pred))\n",
        "print('Recall: %.3f' % recall_score(y_test, naive_class_pred))\n",
        "print('F1 Score: %.3f' % f1_score(y_test, naive_class_pred))"
      ]
    },
    {
      "cell_type": "code",
      "execution_count": 53,
      "metadata": {
        "colab": {
          "base_uri": "https://localhost:8080/",
          "height": 654
        },
        "id": "tgtuCb1aSeqW",
        "outputId": "11754465-84ed-4327-bacb-d2f93ee52346"
      },
      "outputs": [
        {
          "output_type": "execute_result",
          "data": {
            "text/plain": [
              "<Axes: xlabel='Predicted', ylabel='Actual'>"
            ]
          },
          "metadata": {},
          "execution_count": 53
        },
        {
          "output_type": "display_data",
          "data": {
            "text/plain": [
              "<Figure size 1000x700 with 2 Axes>"
            ],
            "image/png": "[encoded data removed]"
          },
          "metadata": {}
        }
      ],
      "source": [
        "data = confusion_matrix(y_test,naive_class_pred)\n",
        "#calculateScore(data)\n",
        "df_cm = pd.DataFrame(data, columns=np.unique(y_test), index = np.unique(y_test))\n",
        "df_cm.index.name = 'Actual'\n",
        "df_cm.columns.name = 'Predicted'\n",
        "plt.figure(figsize = (10,7))\n",
        "sns.set(font_scale=1.4)\n",
        "sns.heatmap(df_cm, cmap=\"Blues\", annot=True,annot_kws={\"size\": 16})"
      ]
    },
    {
      "cell_type": "code",
      "execution_count": 54,
      "metadata": {
        "colab": {
          "base_uri": "https://localhost:8080/"
        },
        "id": "I7Bcgad-SkHh",
        "outputId": "d0638a3b-336c-48c0-b787-6eeb83ab653c"
      },
      "outputs": [
        {
          "output_type": "stream",
          "name": "stdout",
          "text": [
            "              precision    recall  f1-score   support\n",
            "\n",
            "           0       0.52      0.94      0.67      6025\n",
            "           1       0.65      0.11      0.19      5869\n",
            "\n",
            "    accuracy                           0.53     11894\n",
            "   macro avg       0.58      0.53      0.43     11894\n",
            "weighted avg       0.58      0.53      0.43     11894\n",
            "\n"
          ]
        }
      ],
      "source": [
        "print(classification_report(y_test, naive_class_pred))"
      ]
    },
    {
      "cell_type": "markdown",
      "metadata": {
        "id": "3f6NJ1Tiu7T2"
      },
      "source": [
        "**Hyperparameter Tuning**"
      ]
    },
    {
      "cell_type": "code",
      "execution_count": 55,
      "metadata": {
        "id": "SbIoBtbkSrnd"
      },
      "outputs": [],
      "source": [
        "np.logspace(0,-9, num=10)\n",
        "\n",
        "cv_method = RepeatedStratifiedKFold(n_splits=5,  n_repeats=3, random_state=999)"
      ]
    },
    {
      "cell_type": "code",
      "execution_count": 56,
      "metadata": {
        "colab": {
          "base_uri": "https://localhost:8080/"
        },
        "id": "W5gBdEbJSzjT",
        "outputId": "82dfa0e2-d14c-44dd-fbed-8f447968c344"
      },
      "outputs": [
        {
          "output_type": "stream",
          "name": "stdout",
          "text": [
            "Fitting 15 folds for each of 100 candidates, totalling 1500 fits\n",
            "accuracy_score on test dataset :  0.6212375987893055\n"
          ]
        }
      ],
      "source": [
        "from sklearn.model_selection import train_test_split,GridSearchCV\n",
        "from sklearn.preprocessing import PowerTransformer\n",
        "params_NB = {'var_smoothing': np.logspace(0,-9, num=100)}\n",
        "\n",
        "gs_NB = GridSearchCV(estimator=model, param_grid=params_NB, cv=cv_method,verbose=1,scoring='accuracy')\n",
        "Data_transformed = PowerTransformer().fit_transform(X_test)\n",
        "gs_NB.fit(Data_transformed, y_test);\n",
        "\n",
        "results_NB = pd.DataFrame(gs_NB.cv_results_['params'])\n",
        "\n",
        "results_NB['test_score'] = gs_NB.cv_results_['mean_test_score']\n",
        "\n",
        "# predict the target on the test dataset\n",
        "predict_test = gs_NB.predict(Data_transformed)\n",
        "# Accuracy Score on test dataset\n",
        "accuracy_test = accuracy_score(y_test,predict_test)\n",
        "print('accuracy_score on test dataset : ', accuracy_test)"
      ]
    },
    {
      "cell_type": "code",
      "execution_count": 57,
      "metadata": {
        "colab": {
          "base_uri": "https://localhost:8080/"
        },
        "id": "JW7ahXU4S1mG",
        "outputId": "b62a492b-8a9a-4e0b-c95d-5d13f8a20b0f"
      },
      "outputs": [
        {
          "output_type": "stream",
          "name": "stdout",
          "text": [
            "Fitting 15 folds for each of 100 candidates, totalling 1500 fits\n"
          ]
        }
      ],
      "source": [
        "#model after tuning\n",
        "naive_class_t=gs_NB\n",
        "naive_class_t.fit(X_train, y_train)\n",
        "naive_class_pred_t = naive_class_t.predict(X_test)"
      ]
    },
    {
      "cell_type": "code",
      "execution_count": 58,
      "metadata": {
        "colab": {
          "base_uri": "https://localhost:8080/"
        },
        "id": "gcYW1ib8S3rc",
        "outputId": "b08f8be9-1d45-4037-96e9-fb1030490be5"
      },
      "outputs": [
        {
          "output_type": "stream",
          "name": "stdout",
          "text": [
            "0.5527156549520766\n",
            "[0.67217156 0.2962963 ]\n"
          ]
        }
      ],
      "source": [
        "print(accuracy_score(y_test,naive_class_pred_t))\n",
        "print(f1_score(y_test,naive_class_pred_t,average=None))"
      ]
    },
    {
      "cell_type": "code",
      "execution_count": 59,
      "metadata": {
        "colab": {
          "base_uri": "https://localhost:8080/",
          "height": 654
        },
        "id": "aEhBattCS5gc",
        "outputId": "913de694-a673-4a2e-c2fe-6b5b5ffe2b32"
      },
      "outputs": [
        {
          "output_type": "execute_result",
          "data": {
            "text/plain": [
              "<Axes: xlabel='Predicted', ylabel='Actual'>"
            ]
          },
          "metadata": {},
          "execution_count": 59
        },
        {
          "output_type": "display_data",
          "data": {
            "text/plain": [
              "<Figure size 1000x700 with 2 Axes>"
            ],
            "image/png": "[encoded data removed]"
          },
          "metadata": {}
        }
      ],
      "source": [
        "data = confusion_matrix(y_test,naive_class_pred_t)\n",
        "df_cm = pd.DataFrame(data, columns=np.unique(y_test), index = np.unique(y_test))\n",
        "df_cm.index.name = 'Actual'\n",
        "df_cm.columns.name = 'Predicted'\n",
        "plt.figure(figsize = (10,7))\n",
        "sns.set(font_scale=1.4)\n",
        "sns.heatmap(df_cm, cmap=\"Blues\", annot=True,annot_kws={\"size\": 16})"
      ]
    },
    {
      "cell_type": "code",
      "execution_count": 60,
      "metadata": {
        "colab": {
          "base_uri": "https://localhost:8080/"
        },
        "id": "DR82a-i-S7Wt",
        "outputId": "479ae554-2618-49ed-80a3-14790c707041"
      },
      "outputs": [
        {
          "output_type": "stream",
          "name": "stdout",
          "text": [
            "              precision    recall  f1-score   support\n",
            "\n",
            "           0       0.53      0.91      0.67      6025\n",
            "           1       0.66      0.19      0.30      5869\n",
            "\n",
            "    accuracy                           0.55     11894\n",
            "   macro avg       0.60      0.55      0.48     11894\n",
            "weighted avg       0.60      0.55      0.49     11894\n",
            "\n"
          ]
        }
      ],
      "source": [
        "print(classification_report(y_test, naive_class_pred_t))"
      ]
    },
    {
      "cell_type": "markdown",
      "metadata": {
        "id": "0AIhPQRk4Jz-"
      },
      "source": [
        "# **KNN**"
      ]
    },
    {
      "cell_type": "code",
      "execution_count": 61,
      "metadata": {
        "id": "HqrWsKjSS_dN"
      },
      "outputs": [],
      "source": [
        "knn = KNeighborsClassifier(n_neighbors=8)\n",
        "knn.fit(X_train, y_train)\n",
        "knn_pred = knn.predict(X_test)"
      ]
    },
    {
      "cell_type": "code",
      "execution_count": 62,
      "metadata": {
        "colab": {
          "base_uri": "https://localhost:8080/"
        },
        "id": "zIv0RTawTBLX",
        "outputId": "ce0dd1fb-0960-42be-eca6-50dfca13b0e3"
      },
      "outputs": [
        {
          "output_type": "stream",
          "name": "stdout",
          "text": [
            "0.5707919959643518\n",
            "[0.62734506 0.49400337]\n"
          ]
        }
      ],
      "source": [
        "print(accuracy_score(y_test,knn_pred))\n",
        "print(f1_score(y_test,knn_pred,average=None))"
      ]
    },
    {
      "cell_type": "code",
      "execution_count": 63,
      "metadata": {
        "colab": {
          "base_uri": "https://localhost:8080/",
          "height": 654
        },
        "id": "3jLGSWt5TDoY",
        "outputId": "3a62ef62-f86a-447c-a61d-f5e810dff048"
      },
      "outputs": [
        {
          "output_type": "execute_result",
          "data": {
            "text/plain": [
              "<Axes: xlabel='Predicted', ylabel='Actual'>"
            ]
          },
          "metadata": {},
          "execution_count": 63
        },
        {
          "output_type": "display_data",
          "data": {
            "text/plain": [
              "<Figure size 1000x700 with 2 Axes>"
            ],
            "image/png": "[encoded data removed]"
          },
          "metadata": {}
        }
      ],
      "source": [
        "data = confusion_matrix(y_test,knn_pred)\n",
        "\n",
        "df_cm = pd.DataFrame(data, columns=np.unique(y_test), index = np.unique(y_test))\n",
        "df_cm.index.name = 'Actual'\n",
        "df_cm.columns.name = 'Predicted'\n",
        "plt.figure(figsize = (10,7))\n",
        "sns.set(font_scale=1.4)\n",
        "sns.heatmap(df_cm, cmap=\"Blues\", annot=True,annot_kws={\"size\": 16})"
      ]
    },
    {
      "cell_type": "code",
      "execution_count": 64,
      "metadata": {
        "colab": {
          "base_uri": "https://localhost:8080/"
        },
        "id": "_Cl9vkHSTEMf",
        "outputId": "57ae2865-9fcf-40a4-a573-d620b2c55596"
      },
      "outputs": [
        {
          "output_type": "stream",
          "name": "stdout",
          "text": [
            "              precision    recall  f1-score   support\n",
            "\n",
            "           0       0.56      0.71      0.63      6025\n",
            "           1       0.59      0.42      0.49      5869\n",
            "\n",
            "    accuracy                           0.57     11894\n",
            "   macro avg       0.58      0.57      0.56     11894\n",
            "weighted avg       0.58      0.57      0.56     11894\n",
            "\n"
          ]
        }
      ],
      "source": [
        "print(classification_report(y_test, knn_pred))"
      ]
    },
    {
      "cell_type": "markdown",
      "metadata": {
        "id": "o-0Miw8X5AWh"
      },
      "source": [
        "**Hyperparameter tunning**"
      ]
    },
    {
      "cell_type": "code",
      "execution_count": 65,
      "metadata": {
        "id": "c52M1__zTLP5"
      },
      "outputs": [],
      "source": [
        "grid_params = { 'n_neighbors' : [5,7,9,11,13,15],\n",
        "               'weights' : ['uniform','distance'],\n",
        "               'metric' : ['minkowski','euclidean','manhattan']}"
      ]
    },
    {
      "cell_type": "code",
      "execution_count": 66,
      "metadata": {
        "id": "aYDkw19mTM9m"
      },
      "outputs": [],
      "source": [
        "gs = GridSearchCV(KNeighborsClassifier(), grid_params, verbose = 1, cv=3, n_jobs = -1)"
      ]
    },
    {
      "cell_type": "code",
      "execution_count": 67,
      "metadata": {
        "colab": {
          "base_uri": "https://localhost:8080/"
        },
        "id": "7GMd90MMTOT4",
        "outputId": "7ad21a63-407c-452b-9baf-27b81fcde278"
      },
      "outputs": [
        {
          "output_type": "stream",
          "name": "stdout",
          "text": [
            "Fitting 3 folds for each of 36 candidates, totalling 108 fits\n"
          ]
        }
      ],
      "source": [
        "# fit the model on our train set\n",
        "g_res = gs.fit(X_train, y_train)"
      ]
    },
    {
      "cell_type": "code",
      "execution_count": 68,
      "metadata": {
        "colab": {
          "base_uri": "https://localhost:8080/"
        },
        "id": "_kRf-qvnTQbg",
        "outputId": "578d97c1-b4cd-4e30-8dd4-f35a1ba20fee"
      },
      "outputs": [
        {
          "output_type": "execute_result",
          "data": {
            "text/plain": [
              "0.5798558558558559"
            ]
          },
          "metadata": {},
          "execution_count": 68
        }
      ],
      "source": [
        "# find the best score\n",
        "g_res.best_score_"
      ]
    },
    {
      "cell_type": "code",
      "execution_count": 69,
      "metadata": {
        "colab": {
          "base_uri": "https://localhost:8080/"
        },
        "id": "LNRviMuJTShX",
        "outputId": "cc14c4dd-a635-46b3-8d49-aadf5dbcab61"
      },
      "outputs": [
        {
          "output_type": "execute_result",
          "data": {
            "text/plain": [
              "{'metric': 'manhattan', 'n_neighbors': 13, 'weights': 'distance'}"
            ]
          },
          "metadata": {},
          "execution_count": 69
        }
      ],
      "source": [
        "# get the hyperparameters with the best score\n",
        "g_res.best_params_"
      ]
    },
    {
      "cell_type": "code",
      "execution_count": 70,
      "metadata": {
        "colab": {
          "base_uri": "https://localhost:8080/",
          "height": 75
        },
        "id": "0zZ9fiAwTT6W",
        "outputId": "52dab5d7-d33c-411b-add9-106b57f4d994"
      },
      "outputs": [
        {
          "output_type": "execute_result",
          "data": {
            "text/plain": [
              "KNeighborsClassifier(algorithm='brute')"
            ],
            "text/html": [
              "<style>#sk-container-id-7 {color: black;background-color: white;}#sk-container-id-7 pre{padding: 0;}#sk-container-id-7 div.sk-toggleable {background-color: white;}#sk-container-id-7 label.sk-toggleable__label {cursor: pointer;display: block;width: 100%;margin-bottom: 0;padding: 0.3em;box-sizing: border-box;text-align: center;}#sk-container-id-7 label.sk-toggleable__label-arrow:before {content: \"▸\";float: left;margin-right: 0.25em;color: #696969;}#sk-container-id-7 label.sk-toggleable__label-arrow:hover:before {color: black;}#sk-container-id-7 div.sk-estimator:hover label.sk-toggleable__label-arrow:before {color: black;}#sk-container-id-7 div.sk-toggleable__content {max-height: 0;max-width: 0;overflow: hidden;text-align: left;background-color: #f0f8ff;}#sk-container-id-7 div.sk-toggleable__content pre {margin: 0.2em;color: black;border-radius: 0.25em;background-color: #f0f8ff;}#sk-container-id-7 input.sk-toggleable__control:checked~div.sk-toggleable__content {max-height: 200px;max-width: 100%;overflow: auto;}#sk-container-id-7 input.sk-toggleable__control:checked~label.sk-toggleable__label-arrow:before {content: \"▾\";}#sk-container-id-7 div.sk-estimator input.sk-toggleable__control:checked~label.sk-toggleable__label {background-color: #d4ebff;}#sk-container-id-7 div.sk-label input.sk-toggleable__control:checked~label.sk-toggleable__label {background-color: #d4ebff;}#sk-container-id-7 input.sk-hidden--visually {border: 0;clip: rect(1px 1px 1px 1px);clip: rect(1px, 1px, 1px, 1px);height: 1px;margin: -1px;overflow: hidden;padding: 0;position: absolute;width: 1px;}#sk-container-id-7 div.sk-estimator {font-family: monospace;background-color: #f0f8ff;border: 1px dotted black;border-radius: 0.25em;box-sizing: border-box;margin-bottom: 0.5em;}#sk-container-id-7 div.sk-estimator:hover {background-color: #d4ebff;}#sk-container-id-7 div.sk-parallel-item::after {content: \"\";width: 100%;border-bottom: 1px solid gray;flex-grow: 1;}#sk-container-id-7 div.sk-label:hover label.sk-toggleable__label {background-color: #d4ebff;}#sk-container-id-7 div.sk-serial::before {content: \"\";position: absolute;border-left: 1px solid gray;box-sizing: border-box;top: 0;bottom: 0;left: 50%;z-index: 0;}#sk-container-id-7 div.sk-serial {display: flex;flex-direction: column;align-items: center;background-color: white;padding-right: 0.2em;padding-left: 0.2em;position: relative;}#sk-container-id-7 div.sk-item {position: relative;z-index: 1;}#sk-container-id-7 div.sk-parallel {display: flex;align-items: stretch;justify-content: center;background-color: white;position: relative;}#sk-container-id-7 div.sk-item::before, #sk-container-id-7 div.sk-parallel-item::before {content: \"\";position: absolute;border-left: 1px solid gray;box-sizing: border-box;top: 0;bottom: 0;left: 50%;z-index: -1;}#sk-container-id-7 div.sk-parallel-item {display: flex;flex-direction: column;z-index: 1;position: relative;background-color: white;}#sk-container-id-7 div.sk-parallel-item:first-child::after {align-self: flex-end;width: 50%;}#sk-container-id-7 div.sk-parallel-item:last-child::after {align-self: flex-start;width: 50%;}#sk-container-id-7 div.sk-parallel-item:only-child::after {width: 0;}#sk-container-id-7 div.sk-dashed-wrapped {border: 1px dashed gray;margin: 0 0.4em 0.5em 0.4em;box-sizing: border-box;padding-bottom: 0.4em;background-color: white;}#sk-container-id-7 div.sk-label label {font-family: monospace;font-weight: bold;display: inline-block;line-height: 1.2em;}#sk-container-id-7 div.sk-label-container {text-align: center;}#sk-container-id-7 div.sk-container {/* jupyter's `normalize.less` sets `[hidden] { display: none; }` but bootstrap.min.css set `[hidden] { display: none !important; }` so we also need the `!important` here to be able to override the default hidden behavior on the sphinx rendered scikit-learn.org. See: https://github.com/scikit-learn/scikit-learn/issues/21755 */display: inline-block !important;position: relative;}#sk-container-id-7 div.sk-text-repr-fallback {display: none;}</style><div id=\"sk-container-id-7\" class=\"sk-top-container\"><div class=\"sk-text-repr-fallback\"><pre>KNeighborsClassifier(algorithm=&#x27;brute&#x27;)</pre><b>In a Jupyter environment, please rerun this cell to show the HTML representation or trust the notebook. <br />On GitHub, the HTML representation is unable to render, please try loading this page with nbviewer.org.</b></div><div class=\"sk-container\" hidden><div class=\"sk-item\"><div class=\"sk-estimator sk-toggleable\"><input class=\"sk-toggleable__control sk-hidden--visually\" id=\"sk-estimator-id-9\" type=\"checkbox\" checked><label for=\"sk-estimator-id-9\" class=\"sk-toggleable__label sk-toggleable__label-arrow\">KNeighborsClassifier</label><div class=\"sk-toggleable__content\"><pre>KNeighborsClassifier(algorithm=&#x27;brute&#x27;)</pre></div></div></div></div></div>"
            ]
          },
          "metadata": {},
          "execution_count": 70
        }
      ],
      "source": [
        "# use the best hyperparameters\n",
        "knn = KNeighborsClassifier(n_neighbors = 5, weights = 'uniform',algorithm = 'brute',metric = 'minkowski')\n",
        "knn.fit(X_train, y_train)"
      ]
    },
    {
      "cell_type": "code",
      "execution_count": 71,
      "metadata": {
        "id": "9_ZpOgM6TVfS"
      },
      "outputs": [],
      "source": [
        "# get a prediction\n",
        "y_hat = knn.predict(X_train)\n",
        "y_knn = knn.predict(X_test)"
      ]
    },
    {
      "cell_type": "code",
      "execution_count": 72,
      "metadata": {
        "id": "YOU9-r-zTXXB"
      },
      "outputs": [],
      "source": [
        "#Model after tuning\n",
        "knn = KNeighborsClassifier(n_neighbors=8)\n",
        "knn.fit(X_train, y_train)\n",
        "knn_pred = knn.predict(X_test)"
      ]
    },
    {
      "cell_type": "code",
      "execution_count": 73,
      "metadata": {
        "colab": {
          "base_uri": "https://localhost:8080/"
        },
        "id": "IbdVseAaTZB-",
        "outputId": "1d0a5a87-604e-46ad-952c-05f2b766fe15"
      },
      "outputs": [
        {
          "output_type": "stream",
          "name": "stdout",
          "text": [
            "0.5652429796536068\n",
            "[0.58207387 0.54699956]\n"
          ]
        }
      ],
      "source": [
        "print(accuracy_score(y_test,y_knn))\n",
        "print(f1_score(y_test,y_knn,average=None))"
      ]
    },
    {
      "cell_type": "code",
      "execution_count": 74,
      "metadata": {
        "colab": {
          "base_uri": "https://localhost:8080/",
          "height": 662
        },
        "id": "UrsDELrdTbam",
        "outputId": "f08b2a58-1a9d-43a7-dd52-8c99bccd913f"
      },
      "outputs": [
        {
          "output_type": "execute_result",
          "data": {
            "text/plain": [
              "<Axes: xlabel='Predicted', ylabel='Actual'>"
            ]
          },
          "metadata": {},
          "execution_count": 74
        },
        {
          "output_type": "display_data",
          "data": {
            "text/plain": [
              "<Figure size 1000x700 with 2 Axes>"
            ],
            "image/png": "[encoded data removed]"
          },
          "metadata": {}
        }
      ],
      "source": [
        "data = confusion_matrix(y_test,y_knn)\n",
        "#calculateScore(data)\n",
        "df_cm = pd.DataFrame(data, columns=np.unique(y_test), index = np.unique(y_test))\n",
        "df_cm.index.name = 'Actual'\n",
        "df_cm.columns.name = 'Predicted'\n",
        "plt.figure(figsize = (10,7))\n",
        "sns.set(font_scale=1.4)\n",
        "sns.heatmap(df_cm, cmap=\"Blues\", annot=True,annot_kws={\"size\": 16})"
      ]
    },
    {
      "cell_type": "code",
      "execution_count": 75,
      "metadata": {
        "colab": {
          "base_uri": "https://localhost:8080/"
        },
        "id": "JRB1kWxDTdes",
        "outputId": "870bb9d2-860d-470b-f0a3-d6fa231ea090"
      },
      "outputs": [
        {
          "output_type": "stream",
          "name": "stdout",
          "text": [
            "              precision    recall  f1-score   support\n",
            "\n",
            "           0       0.56      0.71      0.63      6025\n",
            "           1       0.59      0.42      0.49      5869\n",
            "\n",
            "    accuracy                           0.57     11894\n",
            "   macro avg       0.58      0.57      0.56     11894\n",
            "weighted avg       0.58      0.57      0.56     11894\n",
            "\n"
          ]
        }
      ],
      "source": [
        "print(classification_report(y_test, knn_pred))"
      ]
    }
  ],
  "metadata": {
    "colab": {
      "provenance": []
    },
    "gpuClass": "standard",
    "kernelspec": {
      "display_name": "Python 3 (ipykernel)",
      "language": "python",
      "name": "python3"
    },
    "language_info": {
      "codemirror_mode": {
        "name": "ipython",
        "version": 3
      },
      "file_extension": ".py",
      "mimetype": "text/x-python",
      "name": "python",
      "nbconvert_exporter": "python",
      "pygments_lexer": "ipython3",
      "version": "3.9.13"
    }
  },
  "nbformat": 4,
  "nbformat_minor": 0
}